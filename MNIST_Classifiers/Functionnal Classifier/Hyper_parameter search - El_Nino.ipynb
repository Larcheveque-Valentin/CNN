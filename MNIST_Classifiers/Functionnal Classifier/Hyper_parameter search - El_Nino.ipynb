{
 "cells": [
  {
   "cell_type": "code",
   "execution_count": 153,
   "metadata": {},
   "outputs": [],
   "source": [
    "# -*- coding: utf-8 -*-\n",
    "\"\"\"\n",
    "Created on Mon Aug 15 14:49:58 2022\n",
    "\n",
    "@author:Unknown\n",
    "\n",
    "Functional autoencoder implementation\n",
    "\"\"\"\n",
    "\n",
    "# Import modules\n",
    "import inspect\n",
    "import random\n",
    "import torch\n",
    "import torch.nn.init as init\n",
    "import torch.nn.functional as F\n",
    "import torch.nn as nn\n",
    "\n",
    "from torch import optim\n",
    "from torch.autograd import Variable\n",
    "from torchvision import datasets, transforms\n",
    "from torchvision.utils import save_image\n",
    "import pandas as pd\n",
    "import numpy as np\n",
    "from numpy import *\n",
    "import seaborn as sns\n",
    "#matplotlib.use('TkAgg')\n",
    "from matplotlib import pyplot as plt\n",
    "# import skfda as fda\n",
    "# from skfda import representation as representation\n",
    "# from skfda.exploratory.visualization import FPCAPlot\n",
    "# # from skfda.exploratory.visualization import FPCAPlot\n",
    "# # from skfda.preprocessing.dim_reduction import FPCA\n",
    "# # from skfda.representation.basis import BSpline, Fourier, Monomial\n",
    "import scipy\n",
    "from scipy.interpolate import BSpline\n",
    "import os\n",
    "import ignite\n",
    "from tqdm import tqdm\n",
    "import sklearn\n",
    "from sklearn.utils import shuffle\n",
    "from sklearn.decomposition import PCA\n",
    "from sklearn.linear_model import LogisticRegression\n",
    "from sklearn.metrics import classification_report, confusion_matrix\n",
    "from sklearn.cluster import KMeans\n",
    "import random\n",
    "from random import seed\n",
    "from scipy import stats\n",
    "import statistics\n",
    "from statistics import stdev\n",
    "\n",
    "import skfda\n",
    "from skfda import FDataGrid as fd\n",
    "from skfda.representation.basis import BSpline as B\n"
   ]
  },
  {
   "cell_type": "code",
   "execution_count": 154,
   "metadata": {},
   "outputs": [
    {
     "name": "stderr",
     "output_type": "stream",
     "text": [
      "c:\\Users\\Utilisateur\\anaconda3\\lib\\site-packages\\rdata\\conversion\\_conversion.py:843: UserWarning: Missing constructor for R class \"sfts\". The constructor for class \"fts\" will be used instead.\n",
      "  warnings.warn(\n",
      "c:\\Users\\Utilisateur\\anaconda3\\lib\\site-packages\\rdata\\conversion\\_conversion.py:843: UserWarning: Missing constructor for R class \"fts\". The constructor for class \"fds\" will be used instead.\n",
      "  warnings.warn(\n",
      "c:\\Users\\Utilisateur\\anaconda3\\lib\\site-packages\\rdata\\conversion\\_conversion.py:843: UserWarning: Missing constructor for R class \"fds\". The underlying R object is returned instead.\n",
      "  warnings.warn(\n",
      "c:\\Users\\Utilisateur\\anaconda3\\lib\\site-packages\\rdata\\conversion\\_conversion.py:843: UserWarning: Missing constructor for R class \"sfts\". The constructor for class \"fts\" will be used instead.\n",
      "  warnings.warn(\n",
      "c:\\Users\\Utilisateur\\anaconda3\\lib\\site-packages\\rdata\\conversion\\_conversion.py:843: UserWarning: Missing constructor for R class \"fts\". The constructor for class \"fds\" will be used instead.\n",
      "  warnings.warn(\n",
      "c:\\Users\\Utilisateur\\anaconda3\\lib\\site-packages\\rdata\\conversion\\_conversion.py:843: UserWarning: Missing constructor for R class \"fds\". The underlying R object is returned instead.\n",
      "  warnings.warn(\n",
      "c:\\Users\\Utilisateur\\anaconda3\\lib\\site-packages\\rdata\\conversion\\_conversion.py:843: UserWarning: Missing constructor for R class \"sfts\". The constructor for class \"fts\" will be used instead.\n",
      "  warnings.warn(\n",
      "c:\\Users\\Utilisateur\\anaconda3\\lib\\site-packages\\rdata\\conversion\\_conversion.py:843: UserWarning: Missing constructor for R class \"fts\". The constructor for class \"fds\" will be used instead.\n",
      "  warnings.warn(\n",
      "c:\\Users\\Utilisateur\\anaconda3\\lib\\site-packages\\rdata\\conversion\\_conversion.py:843: UserWarning: Missing constructor for R class \"fds\". The underlying R object is returned instead.\n",
      "  warnings.warn(\n",
      "c:\\Users\\Utilisateur\\anaconda3\\lib\\site-packages\\rdata\\conversion\\_conversion.py:843: UserWarning: Missing constructor for R class \"sfts\". The constructor for class \"fts\" will be used instead.\n",
      "  warnings.warn(\n",
      "c:\\Users\\Utilisateur\\anaconda3\\lib\\site-packages\\rdata\\conversion\\_conversion.py:843: UserWarning: Missing constructor for R class \"fts\". The constructor for class \"fds\" will be used instead.\n",
      "  warnings.warn(\n",
      "c:\\Users\\Utilisateur\\anaconda3\\lib\\site-packages\\rdata\\conversion\\_conversion.py:843: UserWarning: Missing constructor for R class \"fds\". The underlying R object is returned instead.\n",
      "  warnings.warn(\n"
     ]
    }
   ],
   "source": [
    "##Importation des données sous forme FDA\n",
    "\n",
    "ElNino_OISST_region_1and2=skfda.datasets.fetch_cran(\"ElNino_OISST_region_1and2\",\"rainbow\")\n",
    "ElNino_OISST_region_3=skfda.datasets.fetch_cran(\"ElNino_OISST_region_3\",\"rainbow\")\n",
    "ElNino_OISST_region_4=skfda.datasets.fetch_cran(\"ElNino_OISST_region_4\",\"rainbow\")\n",
    "ElNino_OISST_region_3and4=skfda.datasets.fetch_cran(\"ElNino_OISST_region_3and4\",\"rainbow\")\n",
    "ElNino_OISST_region_1and2_y=ElNino_OISST_region_1and2['ElNino_OISST_region_1and2']['y'].to_numpy()\n",
    "ElNino_OISST_region_1and2_x=ElNino_OISST_region_1and2['ElNino_OISST_region_1and2']['x']\n",
    "# plt.plot(ElNino_OISST_region_1and2_x,ElNino_OISST_region_1and2_y)\n",
    "# plt.show(\n",
    "# )\n",
    "ElNino_OISST_region_3_y=ElNino_OISST_region_3['ElNino_OISST_region_3']['y'].to_numpy()\n",
    "ElNino_OISST_region_3_x=ElNino_OISST_region_3['ElNino_OISST_region_3']['x']\n",
    "# plt.plot(ElNino_OISST_region_3_x,ElNino_OISST_region_3_y)\n",
    "# plt.show(\n",
    "\n",
    "# )\n",
    "ElNino_OISST_region_3and4_y=ElNino_OISST_region_3and4['ElNino_OISST_region_3and4']['y'].to_numpy()\n",
    "ElNino_OISST_region_3and4_x=ElNino_OISST_region_3and4['ElNino_OISST_region_3and4']['x']\n",
    "# plt.plot(ElNino_OISST_region_3and4_x,ElNino_OISST_region_3and4_y)\n",
    "# plt.show(\n",
    "# )\n",
    "\n",
    "\n",
    "ElNino_OISST_region_4_y=ElNino_OISST_region_4['ElNino_OISST_region_4']['y'].to_numpy()\n",
    "ElNino_OISST_region_4_x=ElNino_OISST_region_4['ElNino_OISST_region_4']['x']\n",
    "# plt.plot(ElNino_OISST_region_4_x,ElNino_OISST_region_4_y)\n",
    "# plt.show(\n",
    "# )\n",
    "grid_points=ElNino_OISST_region_1and2_x\n",
    "T=len(grid_points)"
   ]
  },
  {
   "cell_type": "code",
   "execution_count": 155,
   "metadata": {},
   "outputs": [
    {
     "data": {
      "text/plain": [
       "(torch.Size([111, 1, 12]), torch.Size([111, 1, 1]))"
      ]
     },
     "execution_count": 155,
     "metadata": {},
     "output_type": "execute_result"
    }
   ],
   "source": [
    "x0=torch.tensor(ElNino_OISST_region_1and2_y).float().cuda()\n",
    "x1=torch.tensor(ElNino_OISST_region_3_y).float().cuda()\n",
    "x2=torch.tensor(ElNino_OISST_region_4_y).float().cuda()\n",
    "x3=torch.tensor(ElNino_OISST_region_3and4_y).float().cuda()\n",
    "x0=torch.t(x0)\n",
    "x1=torch.t(x1)\n",
    "x2=torch.t(x2)\n",
    "x3=torch.t(x3)\n",
    "\n",
    "labels = torch.tensor([0] * x0.shape[0] + [1] * x1.shape[0] + [2] * x2.shape[0] + [3] * x3.shape[0]).unsqueeze(1).unsqueeze(2).cuda()\n",
    "X=torch.concatenate([x0,x1,x2,x3]).reshape(148,1,12)\n",
    "x_train,x_test,y_train,y_test=sklearn.model_selection.train_test_split(X,labels,shuffle=True)\n",
    "x_train.shape,y_train.shape\n",
    "\n"
   ]
  },
  {
   "cell_type": "code",
   "execution_count": 156,
   "metadata": {},
   "outputs": [],
   "source": [
    "\n",
    "def weights_init_normal(m):\n",
    "    classname = m.__class__.__name__\n",
    "    if classname.find('Conv') != -1:\n",
    "        torch.nn.init.normal_(m.weight.data, 0.0, 0.07)\n",
    "    elif classname.find('BatchNorm') != -1:\n",
    "        torch.nn.init.normal_(m.weight.data, 1.0, 0.07)\n",
    "        torch.nn.init.constant_(m.bias.data, 0.0)\n"
   ]
  },
  {
   "cell_type": "code",
   "execution_count": 157,
   "metadata": {},
   "outputs": [],
   "source": [
    "n_epochs=25  \n",
    "basis=B(knots=linspace(1,T,6),order=3)\n",
    "n_conv_out=64\n",
    "granulation=1200\n",
    "n_conv_in=128\n",
    "n_conv_in2=128\n",
    "n_conv_in3=64\n",
    "n_Flat_out=256\n",
    "stride_1=6\n",
    "stride_2=2\n",
    "stride_3=1\n",
    "stride_pool_1=2\n",
    "stride_pool_2=2\n",
    "stride_pool_3=1\n",
    "kernel_size_1=120\n",
    "kernel_size_2=35\n",
    "kernel_size_3=20\n",
    "kernel_size_pool_1=6\n",
    "kernel_size_pool_2=4\n",
    "kernel_size_pool_3=2\n",
    "dilation_1=1\n",
    "dilation_2=1\n",
    "dilation_3=1\n",
    "dilation_pool_1=1\n",
    "dilation_pool_2=1\n",
    "dilation_pool_3=1\n",
    "padding_1=2\n",
    "padding_2=2\n",
    "padding_3=2\n",
    "padding_pool_1=1\n",
    "padding_pool_2=1\n",
    "padding_pool_3=1\n",
    "opt=\"Adam\"\n",
    "lr_adam=0.00089\n",
    "lr_SGD=0.001\n",
    "loss_function=nn.CrossEntropyLoss()\n",
    "batch_size=96"
   ]
  },
  {
   "cell_type": "code",
   "execution_count": 158,
   "metadata": {},
   "outputs": [],
   "source": [
    "class HyperParameters:\n",
    "    def __init__(self, n_epochs=25, basis=B(knots=linspace(1, T, 6), order=3), granulation=2000,\n",
    "                 n_conv_in=128, n_conv_in2=128, n_conv_in3=64,n_conv_out=64, n_Flat_out=256,\n",
    "                 stride_1=6, stride_2=2, stride_3=1,\n",
    "                 stride_pool_1=2, stride_pool_2=2, stride_pool_3=1,\n",
    "                 kernel_size_1=200, kernel_size_2=50, kernel_size_3=20,\n",
    "                 kernel_size_pool_1=6, kernel_size_pool_2=4, kernel_size_pool_3=2,\n",
    "                 dilation_1=1, dilation_2=1, dilation_3=1,\n",
    "                 dilation_pool_1=1, dilation_pool_2=1, dilation_pool_3=1,\n",
    "                 padding_1=2, padding_2=2, padding_3=2,\n",
    "                 padding_pool_1=1, padding_pool_2=1, padding_pool_3=1,\n",
    "                 opt=\"Adam\", lr=0.00089, loss=nn.CrossEntropyLoss(),activation=nn.Identity()):\n",
    "        self.n_epochs = n_epochs\n",
    "        self.activation=activation\n",
    "        self.n_conv_out=n_conv_out\n",
    "        self.basis = basis\n",
    "        self.granulation = granulation\n",
    "        self.n_conv_in = n_conv_in\n",
    "        self.n_conv_in2 = n_conv_in2\n",
    "        self.n_conv_in3 = n_conv_in3\n",
    "        self.n_Flat_out = n_Flat_out\n",
    "        self.stride_1 = stride_1\n",
    "        self.stride_2 = stride_2\n",
    "        self.stride_3 = stride_3\n",
    "        self.stride_pool_1 = stride_pool_1\n",
    "        self.stride_pool_2 = stride_pool_2\n",
    "        self.stride_pool_3 = stride_pool_3\n",
    "        self.kernel_size_1 = kernel_size_1\n",
    "        self.kernel_size_2 = kernel_size_2\n",
    "        self.kernel_size_3 = kernel_size_3\n",
    "        self.kernel_size_pool_1 = kernel_size_pool_1\n",
    "        self.kernel_size_pool_2 = kernel_size_pool_2\n",
    "        self.kernel_size_pool_3 = kernel_size_pool_3\n",
    "        self.dilation_1 = dilation_1\n",
    "        self.dilation_2 = dilation_2\n",
    "        self.dilation_3 = dilation_3\n",
    "        self.dilation_pool_1 = dilation_pool_1\n",
    "        self.dilation_pool_2 = dilation_pool_2\n",
    "        self.dilation_pool_3 = dilation_pool_3\n",
    "        self.padding_1 = padding_1\n",
    "        self.padding_2 = padding_2\n",
    "        self.padding_3 = padding_3\n",
    "        self.padding_pool_1 = padding_pool_1\n",
    "        self.padding_pool_2 = padding_pool_2\n",
    "        self.padding_pool_3 = padding_pool_3\n",
    "        self.opt = opt\n",
    "        self.lr = lr\n",
    "        self.loss = loss\n"
   ]
  },
  {
   "cell_type": "code",
   "execution_count": 159,
   "metadata": {},
   "outputs": [],
   "source": [
    "arguments_defaults = {\n",
    "    \"n_epochs\": 25,\n",
    "    \"basis\": B(knots=linspace(1,T,6),order=3),\n",
    "    \"granulation\": 1200,\n",
    "    \"n_conv_in\": 128,\n",
    "    \"n_conv_in2\": 128,\n",
    "    \"n_conv_in3\": 64,\n",
    "    \"n_Flat_out\": 256,\n",
    "    \"stride_1\": 6,\n",
    "    \"stride_2\": 2,\n",
    "    \"stride_3\": 1,\n",
    "    \"stride_pool_1\": 2,\n",
    "    \"stride_pool_2\": 2,\n",
    "    \"stride_pool_3\": 1,\n",
    "    \"kernel_size_1\": 120,\n",
    "    \"kernel_size_2\": 50,\n",
    "    \"kernel_size_3\": 20,\n",
    "    \"kernel_size_pool_1\": 6,\n",
    "    \"kernel_size_pool_2\": 4,\n",
    "    \"kernel_size_pool_3\": 2,\n",
    "    \"dilation_1\": 1,\n",
    "    \"dilation_2\": 1,\n",
    "    \"dilation_3\": 1,\n",
    "    \"dilation_pool_1\": 1,\n",
    "    \"dilation_pool_2\": 1,\n",
    "    \"dilation_pool_3\": 1,\n",
    "    \"padding_1\": 2,\n",
    "    \"padding_2\": 2,\n",
    "    \"padding_3\": 2,\n",
    "    \"padding_pool_1\": 1,\n",
    "    \"padding_pool_2\": 1,\n",
    "    \"padding_pool_3\": 1,\n",
    "    \"opt\": \"Adam\",\n",
    "    \"lr\": 0.00089,\n",
    "    \"loss\": nn.CrossEntropyLoss()\n",
    "}\n"
   ]
  },
  {
   "cell_type": "code",
   "execution_count": 160,
   "metadata": {},
   "outputs": [],
   "source": [
    "Defaults_arguments=HyperParameters()\n"
   ]
  },
  {
   "cell_type": "code",
   "execution_count": 181,
   "metadata": {},
   "outputs": [],
   "source": [
    "\n",
    "class Smooth_Strides_FCNN(nn.Module):\n",
    "    def __init__(self, hyperparams):\n",
    "        super(Smooth_Strides_FCNN, self).__init__()\n",
    "\n",
    "        basis = hyperparams.basis\n",
    "        granulation = hyperparams.granulation\n",
    "        n_conv_in = hyperparams.n_conv_in\n",
    "        n_conv_in2 = hyperparams.n_conv_in2\n",
    "        n_conv_in3 = hyperparams.n_conv_in3\n",
    "        n_Flat_out = hyperparams.n_Flat_out\n",
    "        stride_1 = hyperparams.stride_1\n",
    "        stride_2 = hyperparams.stride_2\n",
    "        stride_3 = hyperparams.stride_3\n",
    "        stride_pool_1 = hyperparams.stride_pool_1\n",
    "        stride_pool_2 = hyperparams.stride_pool_2\n",
    "        stride_pool_3 = hyperparams.stride_pool_3\n",
    "        kernel_size_1 = hyperparams.kernel_size_1\n",
    "        kernel_size_2 = hyperparams.kernel_size_2\n",
    "        kernel_size_3 = hyperparams.kernel_size_3\n",
    "        kernel_size_pool_1 = hyperparams.kernel_size_pool_1\n",
    "        kernel_size_pool_2 = hyperparams.kernel_size_pool_2\n",
    "        kernel_size_pool_3 = hyperparams.kernel_size_pool_3\n",
    "        dilation_1 = hyperparams.dilation_1\n",
    "        dilation_2 = hyperparams.dilation_2\n",
    "        dilation_3 = hyperparams.dilation_3\n",
    "        dilation_pool_1 = hyperparams.dilation_pool_1\n",
    "        dilation_pool_2 = hyperparams.dilation_pool_2\n",
    "        dilation_pool_3 = hyperparams.dilation_pool_3\n",
    "        padding_1 = hyperparams.padding_1\n",
    "        padding_2 = hyperparams.padding_2\n",
    "        padding_3 = hyperparams.padding_3\n",
    "        padding_pool_1 = hyperparams.padding_pool_1\n",
    "        padding_pool_2 = hyperparams.padding_pool_2\n",
    "        padding_pool_3 = hyperparams.padding_pool_3\n",
    "\n",
    "        # Reste du code pour l'initialisation de la classe model\n",
    "\n",
    "        self.Relu=nn.ReLU()\n",
    "\n",
    "        self.convlayer1=nn.Sequential(\n",
    "            nn.Conv1d(1,n_conv_in,kernel_size=kernel_size_1,stride=stride_1,padding=padding_1,dilation=dilation_1),\n",
    "            nn.BatchNorm1d(n_conv_in),\n",
    "            nn.LeakyReLU(0.18),\n",
    "            \n",
    "            nn.MaxPool1d(kernel_size=kernel_size_pool_1,stride=stride_pool_1,padding=padding_pool_1,dilation=dilation_pool_1),\n",
    "            nn.BatchNorm1d(n_conv_in),\n",
    "            nn.LeakyReLU(0.18),\n",
    "        )\n",
    "        \n",
    "        self.convlayer2=nn.Sequential(\n",
    "            nn.Conv1d(n_conv_in,n_conv_in2,kernel_size=kernel_size_2,stride=stride_2,padding=padding_2,dilation=dilation_2),\n",
    "            nn.BatchNorm1d(n_conv_in2),\n",
    "            nn.LeakyReLU(0.18),\n",
    "            \n",
    "            nn.MaxPool1d(kernel_size=kernel_size_pool_2,stride=stride_pool_2,padding=padding_pool_2,dilation=dilation_pool_2),\n",
    "            nn.BatchNorm1d(n_conv_in2),\n",
    "            nn.LeakyReLU(0.18),\n",
    "        )\n",
    "        \n",
    "        self.convlayer3=nn.Sequential(\n",
    "\n",
    "            nn.Conv1d(n_conv_in2,n_conv_in3,kernel_size=kernel_size_3,stride=stride_3,padding=padding_3,dilation=dilation_3),\n",
    "            nn.BatchNorm1d(n_conv_in3),\n",
    "            nn.LeakyReLU(0.18),\n",
    "            \n",
    "            nn.MaxPool1d(kernel_size=kernel_size_pool_3,stride=stride_pool_3,padding=padding_pool_3,dilation=dilation_pool_3),\n",
    "            nn.BatchNorm1d(n_conv_in3),\n",
    "            nn.LeakyReLU(0.18),\n",
    "        )\n",
    "\n",
    "        self.fc_block=nn.Sequential(\n",
    "            nn.Flatten(),\n",
    "            nn.Linear(n_conv_out*n_conv_in3,n_Flat_out),\n",
    "            nn.BatchNorm1d(n_Flat_out),\n",
    "            nn.LeakyReLU(0.18),\n",
    "            \n",
    "            nn.Linear(n_Flat_out,2),\n",
    "            \n",
    "        )\n",
    "        self.activation=nn.Softmax()\n",
    "        self.n_conv_out=n_conv_out\n",
    "    def Granulator(self,x):\n",
    "        eval_points=linspace(1,T,granulation)\n",
    "        basis_eval=basis.evaluate(eval_points=eval_points)[:, :, 0]\n",
    "        basis_fc = torch.from_numpy(basis_eval).float().cuda()\n",
    "        coefs=fd(x[:,0,:].cpu(),grid_points=grid_points).to_basis(basis=basis).coefficients\n",
    "        \n",
    "        coefs_torch=torch.tensor(coefs).float().cuda()\n",
    "        Recons_train=torch.matmul(coefs_torch,basis_fc)\n",
    "        Recons_train=Recons_train.reshape(Recons_train.shape[0],1,Recons_train.shape[1])\n",
    "        return Recons_train\n",
    "\n",
    "    def forward(self,x):\n",
    "        Granulated_x_train=self.Granulator(x)\n",
    "        tresh_out=torch.relu(Granulated_x_train)\n",
    "        Conv_out=self.convlayer1(tresh_out)\n",
    "        Conv_out2=self.convlayer2(Conv_out)\n",
    "        Conv_out3=self.convlayer3(Conv_out2)\n",
    "        Lin_out=self.fc_block(Conv_out3)\n",
    "        return Lin_out.float().unsqueeze_(2).unsqueeze_(3)\n"
   ]
  },
  {
   "cell_type": "code",
   "execution_count": 162,
   "metadata": {},
   "outputs": [],
   "source": [
    "def Compile_class(hyperparams):\n",
    "    basis = hyperparams.basis\n",
    "    granulation = hyperparams.granulation\n",
    "    n_conv_in = hyperparams.n_conv_in\n",
    "    n_conv_in2 = hyperparams.n_conv_in2\n",
    "    n_conv_in3 = hyperparams.n_conv_in3\n",
    "    n_Flat_out = hyperparams.n_Flat_out\n",
    "    stride_1 = hyperparams.stride_1\n",
    "    stride_2 = hyperparams.stride_2\n",
    "    stride_3 = hyperparams.stride_3\n",
    "    stride_pool_1 = hyperparams.stride_pool_1\n",
    "    stride_pool_2 = hyperparams.stride_pool_2\n",
    "    stride_pool_3 = hyperparams.stride_pool_3\n",
    "    kernel_size_1 = hyperparams.kernel_size_1\n",
    "    kernel_size_2 = hyperparams.kernel_size_2\n",
    "    kernel_size_3 = hyperparams.kernel_size_3\n",
    "    kernel_size_pool_1 = hyperparams.kernel_size_pool_1\n",
    "    kernel_size_pool_2 = hyperparams.kernel_size_pool_2\n",
    "    kernel_size_pool_3 = hyperparams.kernel_size_pool_3\n",
    "    dilation_1 = hyperparams.dilation_1\n",
    "    dilation_2 = hyperparams.dilation_2\n",
    "    dilation_3 = hyperparams.dilation_3\n",
    "    dilation_pool_1 = hyperparams.dilation_pool_1\n",
    "    dilation_pool_2 = hyperparams.dilation_pool_2\n",
    "    dilation_pool_3 = hyperparams.dilation_pool_3\n",
    "    padding_1 = hyperparams.padding_1\n",
    "    padding_2 = hyperparams.padding_2\n",
    "    padding_3 = hyperparams.padding_3\n",
    "    padding_pool_1 = hyperparams.padding_pool_1\n",
    "    padding_pool_2 = hyperparams.padding_pool_2\n",
    "    padding_pool_3 = hyperparams.padding_pool_3\n",
    "\n",
    "    # Reste du code de la fonction\n",
    "\n",
    "    CNN=Smooth_Strides_FCNN(hyperparams=hyperparams).cuda()\n",
    "    Granul=CNN.Granulator(x_train[:1,:,:])\n",
    "    Conv_out=CNN.convlayer1(Granul)\n",
    "    Conv_out2=CNN.convlayer2(Conv_out)\n",
    "    Conv_out3=CNN.convlayer3(Conv_out2)\n",
    "    n_conv_out=Conv_out3.shape[2]\n",
    "    hyperparams.n_conv_out=n_conv_out\n",
    "    class Bsp_classifier(nn.Module): \n",
    "        def __init__(self, hyperparams):\n",
    "            super(Bsp_classifier, self).__init__()\n",
    "\n",
    "            basis = hyperparams.basis\n",
    "            granulation = hyperparams.granulation\n",
    "            n_conv_in = hyperparams.n_conv_in\n",
    "            n_conv_in2 = hyperparams.n_conv_in2\n",
    "            n_conv_in3 = hyperparams.n_conv_in3\n",
    "            n_conv_out=hyperparams.n_conv_out\n",
    "            n_Flat_out = hyperparams.n_Flat_out\n",
    "            stride_1 = hyperparams.stride_1\n",
    "            stride_2 = hyperparams.stride_2\n",
    "            stride_3 = hyperparams.stride_3\n",
    "            stride_pool_1 = hyperparams.stride_pool_1\n",
    "            stride_pool_2 = hyperparams.stride_pool_2\n",
    "            stride_pool_3 = hyperparams.stride_pool_3\n",
    "            kernel_size_1 = hyperparams.kernel_size_1\n",
    "            kernel_size_2 = hyperparams.kernel_size_2\n",
    "            kernel_size_3 = hyperparams.kernel_size_3\n",
    "            kernel_size_pool_1 = hyperparams.kernel_size_pool_1\n",
    "            kernel_size_pool_2 = hyperparams.kernel_size_pool_2\n",
    "            kernel_size_pool_3 = hyperparams.kernel_size_pool_3\n",
    "            dilation_1 = hyperparams.dilation_1\n",
    "            dilation_2 = hyperparams.dilation_2\n",
    "            dilation_3 = hyperparams.dilation_3\n",
    "            dilation_pool_1 = hyperparams.dilation_pool_1\n",
    "            dilation_pool_2 = hyperparams.dilation_pool_2\n",
    "            dilation_pool_3 = hyperparams.dilation_pool_3\n",
    "\n",
    "            self.Relu=nn.ReLU()\n",
    "\n",
    "            self.convlayer1=nn.Sequential(\n",
    "                nn.Conv1d(1,n_conv_in,kernel_size=kernel_size_1,stride=stride_1,padding=padding_1,dilation=dilation_1),\n",
    "                nn.BatchNorm1d(n_conv_in),\n",
    "                nn.LeakyReLU(0.18),\n",
    "                hyperparams.activation,\n",
    "                nn.MaxPool1d(kernel_size=kernel_size_pool_1,stride=stride_pool_1,padding=padding_pool_1,dilation=dilation_pool_1),\n",
    "                nn.BatchNorm1d(n_conv_in),\n",
    "                nn.LeakyReLU(0.18),\n",
    "                hyperparams.activation,\n",
    "            )\n",
    "            \n",
    "            self.convlayer2=nn.Sequential(\n",
    "                nn.Conv1d(n_conv_in,n_conv_in2,kernel_size=kernel_size_2,stride=stride_2,padding=padding_2,dilation=dilation_2),\n",
    "                nn.BatchNorm1d(n_conv_in2),\n",
    "                nn.LeakyReLU(0.18),\n",
    "                hyperparams.activation,\n",
    "                nn.MaxPool1d(kernel_size=kernel_size_pool_2,stride=stride_pool_2,padding=padding_pool_2,dilation=dilation_pool_2),\n",
    "                nn.BatchNorm1d(n_conv_in2),\n",
    "                nn.LeakyReLU(0.18),\n",
    "                hyperparams.activation,\n",
    "            )\n",
    "            \n",
    "            self.convlayer3=nn.Sequential(\n",
    "\n",
    "                nn.Conv1d(n_conv_in2,n_conv_in3,kernel_size=kernel_size_3,stride=stride_3,padding=padding_3,dilation=dilation_3),\n",
    "                nn.BatchNorm1d(n_conv_in3),\n",
    "                nn.LeakyReLU(0.18),\n",
    "                hyperparams.activation,\n",
    "                nn.MaxPool1d(kernel_size=kernel_size_pool_3,stride=stride_pool_3,padding=padding_pool_3,dilation=dilation_pool_3),\n",
    "                nn.BatchNorm1d(n_conv_in3),\n",
    "                nn.LeakyReLU(0.18),\n",
    "            )\n",
    "\n",
    "            self.fc_block=nn.Sequential(\n",
    "                nn.Flatten(),\n",
    "                nn.Linear(n_conv_out*n_conv_in3,n_Flat_out),\n",
    "                nn.BatchNorm1d(n_Flat_out),\n",
    "                nn.LeakyReLU(0.18),\n",
    "                hyperparams.activation,\n",
    "                nn.Linear(n_Flat_out,4),\n",
    "            )\n",
    "            self.basis=basis\n",
    "            self.activation=nn.Softmax()\n",
    "            self.n_conv_out=n_conv_out\n",
    "            self.granulation=hyperparams.granulation\n",
    "        def Granulator(self,x):\n",
    "            eval_points=linspace(1,T,self.granulation)\n",
    "            basis_eval=basis.evaluate(eval_points=eval_points)[:, :, 0]\n",
    "            basis_fc = torch.from_numpy(basis_eval).float().cuda()\n",
    "            coefs=fd(x[:,0,:].cpu(),grid_points=grid_points).to_basis(basis=self.basis).coefficients\n",
    "            \n",
    "            coefs_torch=torch.tensor(coefs).float().cuda()\n",
    "            Recons_train=torch.matmul(coefs_torch,basis_fc)\n",
    "            Recons_train=Recons_train.reshape(Recons_train.shape[0],1,Recons_train.shape[1])\n",
    "            return Recons_train\n",
    "\n",
    "        def forward(self,x):\n",
    "            Granulated_x_train=self.Granulator(x)\n",
    "            tresh_out=torch.relu(Granulated_x_train)\n",
    "            Conv_out=self.convlayer1(tresh_out)\n",
    "            Conv_out2=self.convlayer2(Conv_out)\n",
    "            Conv_out3=self.convlayer3(Conv_out2)\n",
    "            Lin_out=self.fc_block(Conv_out3)\n",
    "            return Lin_out.float().unsqueeze_(2).unsqueeze_(3)\n",
    "    module=Bsp_classifier(hyperparams=hyperparams)\n",
    "    return module"
   ]
  },
  {
   "cell_type": "code",
   "execution_count": 163,
   "metadata": {},
   "outputs": [],
   "source": [
    "def Compile_train(module, lr, opt=\"Adam\", loss=nn.CrossEntropyLoss(), batch_size=batch_size):\n",
    "    betas = [0.5, 0.999]\n",
    "    if opt == \"Adam\":\n",
    "        optimizer = optim.Adam(module.parameters(), lr=lr, betas=betas)\n",
    "    else:\n",
    "        optimizer = optim.SGD(module.parameters(), lr=lr)\n",
    "    def train(n_epochs, module, optimizer, loss, batch_size):\n",
    "        for epoch in range(n_epochs):\n",
    "            train_loss = torch.tensor(0).cuda().long()\n",
    "            \n",
    "            # Mélanger les données d'entraînement\n",
    "            indices = list(range(len(x_train)))\n",
    "            random.shuffle(indices)\n",
    "            \n",
    "            batch_index = 0  # Indice de batch\n",
    "            \n",
    "            for i in range(int(len(x_train) / batch_size)):\n",
    "                # Obtenir les indices des données mélangées\n",
    "                batch_indices = indices[batch_index:batch_index+batch_size]\n",
    "                \n",
    "                functions_train = x_train[batch_indices,:,:]\n",
    "                labels_train = y_train[batch_indices]\n",
    "                \n",
    "                optimizer.zero_grad()\n",
    "                output = module(functions_train)\n",
    "                loss_value = loss(input=output, target=labels_train)\n",
    "                \n",
    "                loss_value.backward()\n",
    "                optimizer.step()\n",
    "                train_loss += loss_value.long()\n",
    "                \n",
    "                batch_index += batch_size  # Passer au prochain batch\n",
    "                \n",
    "            return train_loss, loss_value\n",
    "    \n",
    "    return lambda n_epochs: train(n_epochs, module, optimizer, loss, batch_size)\n"
   ]
  },
  {
   "cell_type": "code",
   "execution_count": 164,
   "metadata": {},
   "outputs": [],
   "source": [
    "def Hyperparameter_Test(hyperparameters):\n",
    "\n",
    "    x_train,x_test,y_train,y_test=sklearn.model_selection.train_test_split(X,labels,shuffle=True)\n",
    "    ##Compilation de la classe \n",
    "    Model=Compile_class(hyperparams=hyperparameters).cuda().apply(weights_init_normal)\n",
    "    \n",
    "    \n",
    "    mean_accuracy=torch.tensor([0])\n",
    "    train_fn = Compile_train(module=Model, lr=lr_adam, opt=\"Adam\", loss=loss_function, batch_size=batch_size)\n",
    "    train_fn(n_epochs=1)\n",
    "    for i in tqdm(range(hyperparameters.n_epochs)):\n",
    "            train_fn(n_epochs=1)\n",
    "            \n",
    "            accuracy=((torch.sum(torch.argmax(Model(x_test),dim=1)==y_test)/x_test.shape[0])*100)\n",
    "            mean_accuracy=torch.cat([mean_accuracy,accuracy.cpu().unsqueeze(0)],dim=0)\n",
    "    print(\"Précision moyenne =\",((torch.mean(mean_accuracy[1:].float()))).detach().cpu().numpy(),\"%\")  \n",
    "    print(\"Précision max=\",((torch.max(mean_accuracy[1:].float()))).detach().cpu().numpy(),\"%\")  \n",
    "    print(\"Variance des précisions =\",((torch.var(mean_accuracy[1:].float()))).detach().cpu().numpy())  \n",
    "    # print(mean_accuracy.unsqueeze(1)[1:]) \n",
    "    n_best=torch.argmax(mean_accuracy[1:])\n",
    "\n",
    "    \n",
    "    \n",
    "    grid_test=fd(x_test[:,0,:].cpu(),grid_points=grid_points).to_basis(basis)\n",
    "    grid_convlayer1=fd(Model.convlayer1(Model.Granulator(x_test))[:,0,:].detach().cpu(),grid_points=linspace(1,T,Model.convlayer1(Model.Granulator(x_test)).shape[2]))\n",
    "    grid_convlayer2=fd(Model.convlayer2(Model.convlayer1(Model.Granulator(x_test)))[:,0,:].detach().cpu(),grid_points=linspace(1,T,Model.convlayer2(Model.convlayer1(Model.Granulator(x_test))).shape[2]))\n",
    "    grid_convlayer3=fd(Model.convlayer3(Model.convlayer2(Model.convlayer1(Model.Granulator(x_test))))[:,0,:].detach().cpu(),grid_points=linspace(1,T,Model.convlayer3(Model.convlayer2(Model.convlayer1(Model.Granulator(x_test)))).shape[2]))\n",
    "        \n",
    "    import gc\n",
    "    torch.cuda.empty_cache()\n",
    "    gc.collect()\n",
    "    return Model,grid_convlayer1,grid_convlayer2,grid_convlayer3, mean_accuracy[1:],n_best\n",
    "\n"
   ]
  },
  {
   "cell_type": "code",
   "execution_count": 165,
   "metadata": {},
   "outputs": [],
   "source": [
    "hyperparameters=HyperParameters()\n",
    "hyperparameters.granulation=1200\n",
    "hyperparameters.kernel_size_1=120\n",
    "hyperparameters.stride_1=2\n",
    "hyperparameters.n_conv_in=32\n",
    "hyperparameters.n_conv_in2=512\n",
    "hyperparameters.n_conv_in3=256\n",
    "hyperparameters.n_epochs=50\n"
   ]
  },
  {
   "cell_type": "code",
   "execution_count": 166,
   "metadata": {},
   "outputs": [
    {
     "name": "stderr",
     "output_type": "stream",
     "text": [
      "C:\\Users\\Utilisateur\\AppData\\Local\\Temp\\ipykernel_16048\\3210377230.py:78: DeprecationWarning: The method 'evaluate' is deprecated. Please use the normal calling notation on the basis object instead.\n",
      "  basis_eval=basis.evaluate(eval_points=eval_points)[:, :, 0]\n"
     ]
    }
   ],
   "source": [
    "Model=Compile_class(hyperparams=hyperparameters).cuda()\n",
    "optimizer=optim.Adam(Model.parameters(),lr=hyperparameters.lr)"
   ]
  },
  {
   "cell_type": "code",
   "execution_count": 167,
   "metadata": {},
   "outputs": [
    {
     "name": "stderr",
     "output_type": "stream",
     "text": [
      "C:\\Users\\Utilisateur\\AppData\\Local\\Temp\\ipykernel_16048\\3210377230.py:78: DeprecationWarning: The method 'evaluate' is deprecated. Please use the normal calling notation on the basis object instead.\n",
      "  basis_eval=basis.evaluate(eval_points=eval_points)[:, :, 0]\n",
      "C:\\Users\\Utilisateur\\AppData\\Local\\Temp\\ipykernel_16048\\33423348.py:121: DeprecationWarning: The method 'evaluate' is deprecated. Please use the normal calling notation on the basis object instead.\n",
      "  basis_eval=basis.evaluate(eval_points=eval_points)[:, :, 0]\n",
      "  0%|          | 0/50 [00:00<?, ?it/s]"
     ]
    },
    {
     "name": "stderr",
     "output_type": "stream",
     "text": [
      "100%|██████████| 50/50 [00:02<00:00, 21.29it/s]\n"
     ]
    },
    {
     "name": "stdout",
     "output_type": "stream",
     "text": [
      "Précision moyenne = 92.00001 %\n",
      "Précision max= 100.0 %\n",
      "Variance des précisions = 14.000988\n"
     ]
    }
   ],
   "source": [
    "\n",
    "FCNN,grid_convlayer1,grid_convlayer2,grid_convlayer3, Acc,n_best=Hyperparameter_Test(hyperparameters=hyperparameters)"
   ]
  },
  {
   "cell_type": "code",
   "execution_count": 168,
   "metadata": {},
   "outputs": [
    {
     "data": {
      "image/png": "[encoded data removed]",
      "text/plain": [
       "<Figure size 640x480 with 1 Axes>"
      ]
     },
     "metadata": {},
     "output_type": "display_data"
    }
   ],
   "source": [
    "\n",
    "grid_convlayer1.plot()\n",
    "plt.show()"
   ]
  },
  {
   "cell_type": "code",
   "execution_count": 169,
   "metadata": {},
   "outputs": [],
   "source": [
    "def Hyper_parameter_GridSearch(hyperparams,parameter, grid):\n",
    "    Total_accuracy_max = torch.tensor([0])\n",
    "    Optimum_parameter = grid[0]\n",
    "\n",
    "    \n",
    "    \n",
    "    # Obtenir l'attribut correspondant au paramètre spécifié\n",
    "    attribute = getattr(hyperparams, parameter)\n",
    "    \n",
    "    for value in grid:\n",
    "        # Modifier la valeur de l'attribut de la classe HyperParameters\n",
    "        setattr(hyperparams, parameter, value)\n",
    "        \n",
    "        # Utiliser l'instance de HyperParameters pour effectuer les tests\n",
    "        _, _, _, _, accuracy,n_best = Hyperparameter_Test(hyperparameters=hyperparams)\n",
    "        Total_accuracy_max = torch.cat([Total_accuracy_max, torch.tensor([torch.max(accuracy)])])\n",
    "\n",
    "    Optimum_parameter = grid[torch.argmax(Total_accuracy_max[1:])]\n",
    "    return Optimum_parameter, torch.max(Total_accuracy_max[1:]),n_best\n"
   ]
  },
  {
   "cell_type": "code",
   "execution_count": 170,
   "metadata": {},
   "outputs": [
    {
     "name": "stderr",
     "output_type": "stream",
     "text": [
      "C:\\Users\\Utilisateur\\AppData\\Local\\Temp\\ipykernel_16048\\3210377230.py:78: DeprecationWarning: The method 'evaluate' is deprecated. Please use the normal calling notation on the basis object instead.\n",
      "  basis_eval=basis.evaluate(eval_points=eval_points)[:, :, 0]\n",
      "C:\\Users\\Utilisateur\\AppData\\Local\\Temp\\ipykernel_16048\\33423348.py:121: DeprecationWarning: The method 'evaluate' is deprecated. Please use the normal calling notation on the basis object instead.\n",
      "  basis_eval=basis.evaluate(eval_points=eval_points)[:, :, 0]\n",
      "100%|██████████| 50/50 [00:02<00:00, 23.00it/s]\n"
     ]
    },
    {
     "name": "stdout",
     "output_type": "stream",
     "text": [
      "Précision moyenne = 92.43244 %\n",
      "Précision max= 97.2973 %\n",
      "Variance des précisions = 16.994379\n"
     ]
    },
    {
     "data": {
      "text/plain": [
       "(Bsp_classifier(\n",
       "   (Relu): ReLU()\n",
       "   (convlayer1): Sequential(\n",
       "     (0): Conv1d(1, 32, kernel_size=(120,), stride=(2,), padding=(2,))\n",
       "     (1): BatchNorm1d(32, eps=1e-05, momentum=0.1, affine=True, track_running_stats=True)\n",
       "     (2): LeakyReLU(negative_slope=0.18)\n",
       "     (3): Identity()\n",
       "     (4): MaxPool1d(kernel_size=6, stride=2, padding=1, dilation=1, ceil_mode=False)\n",
       "     (5): BatchNorm1d(32, eps=1e-05, momentum=0.1, affine=True, track_running_stats=True)\n",
       "     (6): LeakyReLU(negative_slope=0.18)\n",
       "     (7): Identity()\n",
       "   )\n",
       "   (convlayer2): Sequential(\n",
       "     (0): Conv1d(32, 512, kernel_size=(50,), stride=(2,), padding=(2,))\n",
       "     (1): BatchNorm1d(512, eps=1e-05, momentum=0.1, affine=True, track_running_stats=True)\n",
       "     (2): LeakyReLU(negative_slope=0.18)\n",
       "     (3): Identity()\n",
       "     (4): MaxPool1d(kernel_size=4, stride=2, padding=1, dilation=1, ceil_mode=False)\n",
       "     (5): BatchNorm1d(512, eps=1e-05, momentum=0.1, affine=True, track_running_stats=True)\n",
       "     (6): LeakyReLU(negative_slope=0.18)\n",
       "     (7): Identity()\n",
       "   )\n",
       "   (convlayer3): Sequential(\n",
       "     (0): Conv1d(512, 256, kernel_size=(20,), stride=(1,), padding=(2,))\n",
       "     (1): BatchNorm1d(256, eps=1e-05, momentum=0.1, affine=True, track_running_stats=True)\n",
       "     (2): LeakyReLU(negative_slope=0.18)\n",
       "     (3): Identity()\n",
       "     (4): MaxPool1d(kernel_size=2, stride=1, padding=1, dilation=1, ceil_mode=False)\n",
       "     (5): BatchNorm1d(256, eps=1e-05, momentum=0.1, affine=True, track_running_stats=True)\n",
       "     (6): LeakyReLU(negative_slope=0.18)\n",
       "   )\n",
       "   (fc_block): Sequential(\n",
       "     (0): Flatten(start_dim=1, end_dim=-1)\n",
       "     (1): Linear(in_features=10752, out_features=256, bias=True)\n",
       "     (2): BatchNorm1d(256, eps=1e-05, momentum=0.1, affine=True, track_running_stats=True)\n",
       "     (3): LeakyReLU(negative_slope=0.18)\n",
       "     (4): Identity()\n",
       "     (5): Linear(in_features=256, out_features=4, bias=True)\n",
       "   )\n",
       "   (activation): Softmax(dim=None)\n",
       " ),\n",
       " FDataGrid(\n",
       "     array([[[-0.12926938],\n",
       "             [-0.12765351],\n",
       "             [-0.12610158],\n",
       "             ...,\n",
       "             [-0.21010089],\n",
       "             [-0.20928872],\n",
       "             [-0.20887953]],\n",
       "     \n",
       "            [[ 1.3577846 ],\n",
       "             [ 1.3577846 ],\n",
       "             [ 1.352945  ],\n",
       "             ...,\n",
       "             [ 0.6612885 ],\n",
       "             [ 0.662544  ],\n",
       "             [ 0.66320187]],\n",
       "     \n",
       "            [[-0.142719  ],\n",
       "             [-0.14157341],\n",
       "             [-0.14043576],\n",
       "             ...,\n",
       "             [-0.15255497],\n",
       "             [-0.15248124],\n",
       "             [-0.15244375]],\n",
       "     \n",
       "            ...,\n",
       "     \n",
       "            [[-0.11764592],\n",
       "             [-0.11689669],\n",
       "             [-0.11619707],\n",
       "             ...,\n",
       "             [-0.21269354],\n",
       "             [-0.21197836],\n",
       "             [-0.21161945]],\n",
       "     \n",
       "            [[-0.12281489],\n",
       "             [-0.1218572 ],\n",
       "             [-0.12091194],\n",
       "             ...,\n",
       "             [-0.14915475],\n",
       "             [-0.14905676],\n",
       "             [-0.14900771]],\n",
       "     \n",
       "            [[ 0.9777322 ],\n",
       "             [ 0.9777322 ],\n",
       "             [ 0.97430843],\n",
       "             ...,\n",
       "             [ 1.2529587 ],\n",
       "             [ 1.2521083 ],\n",
       "             [ 1.2512364 ]]], dtype=float32),\n",
       "     grid_points=(array([ 1.        ,  1.04089219,  1.08178439,  1.12267658,  1.16356877,\n",
       "             1.20446097,  1.24535316,  1.28624535,  1.32713755,  1.36802974,\n",
       "             1.40892193,  1.44981413,  1.49070632,  1.53159851,  1.57249071,\n",
       "             1.6133829 ,  1.65427509,  1.69516729,  1.73605948,  1.77695167,\n",
       "             1.81784387,  1.85873606,  1.89962825,  1.94052045,  1.98141264,\n",
       "             2.02230483,  2.06319703,  2.10408922,  2.14498141,  2.18587361,\n",
       "             2.2267658 ,  2.26765799,  2.30855019,  2.34944238,  2.39033457,\n",
       "             2.43122677,  2.47211896,  2.51301115,  2.55390335,  2.59479554,\n",
       "             2.63568773,  2.67657993,  2.71747212,  2.75836431,  2.79925651,\n",
       "             2.8401487 ,  2.88104089,  2.92193309,  2.96282528,  3.00371747,\n",
       "             3.04460967,  3.08550186,  3.12639405,  3.16728625,  3.20817844,\n",
       "             3.24907063,  3.28996283,  3.33085502,  3.37174721,  3.41263941,\n",
       "             3.4535316 ,  3.49442379,  3.53531599,  3.57620818,  3.61710037,\n",
       "             3.65799257,  3.69888476,  3.73977695,  3.78066914,  3.82156134,\n",
       "             3.86245353,  3.90334572,  3.94423792,  3.98513011,  4.0260223 ,\n",
       "             4.0669145 ,  4.10780669,  4.14869888,  4.18959108,  4.23048327,\n",
       "             4.27137546,  4.31226766,  4.35315985,  4.39405204,  4.43494424,\n",
       "             4.47583643,  4.51672862,  4.55762082,  4.59851301,  4.6394052 ,\n",
       "             4.6802974 ,  4.72118959,  4.76208178,  4.80297398,  4.84386617,\n",
       "             4.88475836,  4.92565056,  4.96654275,  5.00743494,  5.04832714,\n",
       "             5.08921933,  5.13011152,  5.17100372,  5.21189591,  5.2527881 ,\n",
       "             5.2936803 ,  5.33457249,  5.37546468,  5.41635688,  5.45724907,\n",
       "             5.49814126,  5.53903346,  5.57992565,  5.62081784,  5.66171004,\n",
       "             5.70260223,  5.74349442,  5.78438662,  5.82527881,  5.866171  ,\n",
       "             5.9070632 ,  5.94795539,  5.98884758,  6.02973978,  6.07063197,\n",
       "             6.11152416,  6.15241636,  6.19330855,  6.23420074,  6.27509294,\n",
       "             6.31598513,  6.35687732,  6.39776952,  6.43866171,  6.4795539 ,\n",
       "             6.5204461 ,  6.56133829,  6.60223048,  6.64312268,  6.68401487,\n",
       "             6.72490706,  6.76579926,  6.80669145,  6.84758364,  6.88847584,\n",
       "             6.92936803,  6.97026022,  7.01115242,  7.05204461,  7.0929368 ,\n",
       "             7.133829  ,  7.17472119,  7.21561338,  7.25650558,  7.29739777,\n",
       "             7.33828996,  7.37918216,  7.42007435,  7.46096654,  7.50185874,\n",
       "             7.54275093,  7.58364312,  7.62453532,  7.66542751,  7.7063197 ,\n",
       "             7.7472119 ,  7.78810409,  7.82899628,  7.86988848,  7.91078067,\n",
       "             7.95167286,  7.99256506,  8.03345725,  8.07434944,  8.11524164,\n",
       "             8.15613383,  8.19702602,  8.23791822,  8.27881041,  8.3197026 ,\n",
       "             8.3605948 ,  8.40148699,  8.44237918,  8.48327138,  8.52416357,\n",
       "             8.56505576,  8.60594796,  8.64684015,  8.68773234,  8.72862454,\n",
       "             8.76951673,  8.81040892,  8.85130112,  8.89219331,  8.9330855 ,\n",
       "             8.9739777 ,  9.01486989,  9.05576208,  9.09665428,  9.13754647,\n",
       "             9.17843866,  9.21933086,  9.26022305,  9.30111524,  9.34200743,\n",
       "             9.38289963,  9.42379182,  9.46468401,  9.50557621,  9.5464684 ,\n",
       "             9.58736059,  9.62825279,  9.66914498,  9.71003717,  9.75092937,\n",
       "             9.79182156,  9.83271375,  9.87360595,  9.91449814,  9.95539033,\n",
       "             9.99628253, 10.03717472, 10.07806691, 10.11895911, 10.1598513 ,\n",
       "            10.20074349, 10.24163569, 10.28252788, 10.32342007, 10.36431227,\n",
       "            10.40520446, 10.44609665, 10.48698885, 10.52788104, 10.56877323,\n",
       "            10.60966543, 10.65055762, 10.69144981, 10.73234201, 10.7732342 ,\n",
       "            10.81412639, 10.85501859, 10.89591078, 10.93680297, 10.97769517,\n",
       "            11.01858736, 11.05947955, 11.10037175, 11.14126394, 11.18215613,\n",
       "            11.22304833, 11.26394052, 11.30483271, 11.34572491, 11.3866171 ,\n",
       "            11.42750929, 11.46840149, 11.50929368, 11.55018587, 11.59107807,\n",
       "            11.63197026, 11.67286245, 11.71375465, 11.75464684, 11.79553903,\n",
       "            11.83643123, 11.87732342, 11.91821561, 11.95910781, 12.        ]),),\n",
       "     domain_range=((1.0, 12.0),),\n",
       "     dataset_name=None,\n",
       "     argument_names=(None,),\n",
       "     coordinate_names=(None,),\n",
       "     extrapolation=None,\n",
       "     interpolation=SplineInterpolation(interpolation_order=1, monotone=False)),\n",
       " FDataGrid(\n",
       "     array([[[-0.06689499],\n",
       "             [-0.06689499],\n",
       "             [-0.13557689],\n",
       "             ...,\n",
       "             [-0.12063614],\n",
       "             [-0.11933514],\n",
       "             [-0.07851109]],\n",
       "     \n",
       "            [[ 2.5415072 ],\n",
       "             [ 2.5415072 ],\n",
       "             [ 1.5379626 ],\n",
       "             ...,\n",
       "             [ 0.37474075],\n",
       "             [ 0.36679476],\n",
       "             [ 1.544645  ]],\n",
       "     \n",
       "            [[ 0.22061321],\n",
       "             [ 0.22061321],\n",
       "             [-0.09519366],\n",
       "             ...,\n",
       "             [-0.1307926 ],\n",
       "             [-0.13035996],\n",
       "             [-0.06251245]],\n",
       "     \n",
       "            ...,\n",
       "     \n",
       "            [[-0.12198893],\n",
       "             [-0.12198893],\n",
       "             [-0.15679914],\n",
       "             ...,\n",
       "             [-0.11704076],\n",
       "             [-0.11560927],\n",
       "             [-0.06182927]],\n",
       "     \n",
       "            [[ 0.13028347],\n",
       "             [ 0.13028347],\n",
       "             [-0.09106613],\n",
       "             ...,\n",
       "             [-0.1276812 ],\n",
       "             [-0.12697533],\n",
       "             [-0.03853335]],\n",
       "     \n",
       "            [[ 2.1241593 ],\n",
       "             [ 2.1241593 ],\n",
       "             [ 1.2286956 ],\n",
       "             ...,\n",
       "             [ 1.4454738 ],\n",
       "             [ 1.4402013 ],\n",
       "             [ 2.4514031 ]]], dtype=float32),\n",
       "     grid_points=(array([ 1. ,  1.2,  1.4,  1.6,  1.8,  2. ,  2.2,  2.4,  2.6,  2.8,  3. ,\n",
       "             3.2,  3.4,  3.6,  3.8,  4. ,  4.2,  4.4,  4.6,  4.8,  5. ,  5.2,\n",
       "             5.4,  5.6,  5.8,  6. ,  6.2,  6.4,  6.6,  6.8,  7. ,  7.2,  7.4,\n",
       "             7.6,  7.8,  8. ,  8.2,  8.4,  8.6,  8.8,  9. ,  9.2,  9.4,  9.6,\n",
       "             9.8, 10. , 10.2, 10.4, 10.6, 10.8, 11. , 11.2, 11.4, 11.6, 11.8,\n",
       "            12. ]),),\n",
       "     domain_range=((1.0, 12.0),),\n",
       "     dataset_name=None,\n",
       "     argument_names=(None,),\n",
       "     coordinate_names=(None,),\n",
       "     extrapolation=None,\n",
       "     interpolation=SplineInterpolation(interpolation_order=1, monotone=False)),\n",
       " FDataGrid(\n",
       "     array([[[ 0.9370143 ],\n",
       "             [ 0.9370143 ],\n",
       "             [ 1.2642056 ],\n",
       "             ...,\n",
       "             [-0.14870645],\n",
       "             [-0.1227584 ],\n",
       "             [-0.1227584 ]],\n",
       "     \n",
       "            [[-0.03762202],\n",
       "             [-0.03762202],\n",
       "             [-0.04257752],\n",
       "             ...,\n",
       "             [-0.08654035],\n",
       "             [-0.00193251],\n",
       "             [-0.00193251]],\n",
       "     \n",
       "            [[ 1.7216628 ],\n",
       "             [ 1.7216628 ],\n",
       "             [ 1.793155  ],\n",
       "             ...,\n",
       "             [ 0.42392856],\n",
       "             [ 0.57431716],\n",
       "             [ 0.57431716]],\n",
       "     \n",
       "            ...,\n",
       "     \n",
       "            [[ 0.36811626],\n",
       "             [ 0.36811626],\n",
       "             [-0.02367104],\n",
       "             ...,\n",
       "             [-0.14974856],\n",
       "             [-0.12162044],\n",
       "             [-0.12162044]],\n",
       "     \n",
       "            [[ 1.0896683 ],\n",
       "             [ 1.0896683 ],\n",
       "             [ 0.90792775],\n",
       "             ...,\n",
       "             [-0.02391344],\n",
       "             [ 0.29348177],\n",
       "             [ 0.29348177]],\n",
       "     \n",
       "            [[-0.07827685],\n",
       "             [-0.07827685],\n",
       "             [-0.08002903],\n",
       "             ...,\n",
       "             [-0.09774096],\n",
       "             [-0.08119027],\n",
       "             [-0.08119027]]], dtype=float32),\n",
       "     grid_points=(array([ 1.        ,  1.26829268,  1.53658537,  1.80487805,  2.07317073,\n",
       "             2.34146341,  2.6097561 ,  2.87804878,  3.14634146,  3.41463415,\n",
       "             3.68292683,  3.95121951,  4.2195122 ,  4.48780488,  4.75609756,\n",
       "             5.02439024,  5.29268293,  5.56097561,  5.82926829,  6.09756098,\n",
       "             6.36585366,  6.63414634,  6.90243902,  7.17073171,  7.43902439,\n",
       "             7.70731707,  7.97560976,  8.24390244,  8.51219512,  8.7804878 ,\n",
       "             9.04878049,  9.31707317,  9.58536585,  9.85365854, 10.12195122,\n",
       "            10.3902439 , 10.65853659, 10.92682927, 11.19512195, 11.46341463,\n",
       "            11.73170732, 12.        ]),),\n",
       "     domain_range=((1.0, 12.0),),\n",
       "     dataset_name=None,\n",
       "     argument_names=(None,),\n",
       "     coordinate_names=(None,),\n",
       "     extrapolation=None,\n",
       "     interpolation=SplineInterpolation(interpolation_order=1, monotone=False)),\n",
       " tensor([83.7838, 89.1892, 83.7838, 86.4865, 91.8919, 83.7838, 94.5946, 91.8919,\n",
       "         83.7838, 94.5946, 94.5946, 91.8919, 94.5946, 94.5946, 94.5946, 91.8919,\n",
       "         91.8919, 94.5946, 94.5946, 86.4865, 83.7838, 86.4865, 89.1892, 94.5946,\n",
       "         91.8919, 94.5946, 91.8919, 97.2973, 94.5946, 91.8919, 97.2973, 89.1892,\n",
       "         91.8919, 91.8919, 97.2973, 94.5946, 97.2973, 97.2973, 97.2973, 97.2973,\n",
       "         97.2973, 97.2973, 91.8919, 91.8919, 89.1892, 91.8919, 94.5946, 94.5946,\n",
       "         97.2973, 94.5946]),\n",
       " tensor(27))"
      ]
     },
     "execution_count": 170,
     "metadata": {},
     "output_type": "execute_result"
    }
   ],
   "source": [
    "\n",
    "\n",
    "Hyperparameter_Test(hyperparameters=hyperparameters)"
   ]
  },
  {
   "cell_type": "code",
   "execution_count": 171,
   "metadata": {},
   "outputs": [
    {
     "name": "stderr",
     "output_type": "stream",
     "text": [
      "C:\\Users\\Utilisateur\\AppData\\Local\\Temp\\ipykernel_16048\\3210377230.py:78: DeprecationWarning: The method 'evaluate' is deprecated. Please use the normal calling notation on the basis object instead.\n",
      "  basis_eval=basis.evaluate(eval_points=eval_points)[:, :, 0]\n",
      "C:\\Users\\Utilisateur\\AppData\\Local\\Temp\\ipykernel_16048\\33423348.py:121: DeprecationWarning: The method 'evaluate' is deprecated. Please use the normal calling notation on the basis object instead.\n",
      "  basis_eval=basis.evaluate(eval_points=eval_points)[:, :, 0]\n",
      "100%|██████████| 50/50 [00:01<00:00, 27.28it/s]\n"
     ]
    },
    {
     "name": "stdout",
     "output_type": "stream",
     "text": [
      "Précision moyenne = 92.75676 %\n",
      "Précision max= 94.5946 %\n",
      "Variance des précisions = 6.9885674\n"
     ]
    },
    {
     "name": "stderr",
     "output_type": "stream",
     "text": [
      "100%|██████████| 50/50 [00:01<00:00, 25.72it/s]\n"
     ]
    },
    {
     "name": "stdout",
     "output_type": "stream",
     "text": [
      "Précision moyenne = 91.89189 %\n",
      "Précision max= 94.5946 %\n",
      "Variance des précisions = 9.540709\n"
     ]
    },
    {
     "name": "stderr",
     "output_type": "stream",
     "text": [
      "100%|██████████| 50/50 [00:01<00:00, 25.47it/s]\n"
     ]
    },
    {
     "name": "stdout",
     "output_type": "stream",
     "text": [
      "Précision moyenne = 95.56758 %\n",
      "Précision max= 97.2973 %\n",
      "Variance des précisions = 6.4876876\n"
     ]
    },
    {
     "name": "stderr",
     "output_type": "stream",
     "text": [
      "100%|██████████| 50/50 [00:01<00:00, 25.35it/s]\n"
     ]
    },
    {
     "name": "stdout",
     "output_type": "stream",
     "text": [
      "Précision moyenne = 94.05406 %\n",
      "Précision max= 97.2973 %\n",
      "Variance des précisions = 9.24256\n"
     ]
    },
    {
     "name": "stderr",
     "output_type": "stream",
     "text": [
      "100%|██████████| 50/50 [00:02<00:00, 24.84it/s]\n"
     ]
    },
    {
     "name": "stdout",
     "output_type": "stream",
     "text": [
      "Précision moyenne = 97.35135 %\n",
      "Précision max= 100.0 %\n",
      "Variance des précisions = 13.562702\n"
     ]
    },
    {
     "name": "stderr",
     "output_type": "stream",
     "text": [
      "100%|██████████| 50/50 [00:02<00:00, 24.83it/s]\n"
     ]
    },
    {
     "name": "stdout",
     "output_type": "stream",
     "text": [
      "Précision moyenne = 97.51352 %\n",
      "Précision max= 100.0 %\n",
      "Variance des précisions = 13.070756\n"
     ]
    },
    {
     "name": "stderr",
     "output_type": "stream",
     "text": [
      "100%|██████████| 50/50 [00:02<00:00, 24.29it/s]\n"
     ]
    },
    {
     "name": "stdout",
     "output_type": "stream",
     "text": [
      "Précision moyenne = 79.081085 %\n",
      "Précision max= 89.189186 %\n",
      "Variance des précisions = 25.88215\n"
     ]
    },
    {
     "name": "stderr",
     "output_type": "stream",
     "text": [
      "100%|██████████| 50/50 [00:02<00:00, 24.57it/s]\n"
     ]
    },
    {
     "name": "stdout",
     "output_type": "stream",
     "text": [
      "Précision moyenne = 88.162155 %\n",
      "Précision max= 91.8919 %\n",
      "Variance des précisions = 10.104204\n"
     ]
    },
    {
     "name": "stderr",
     "output_type": "stream",
     "text": [
      "100%|██████████| 50/50 [00:02<00:00, 24.25it/s]\n"
     ]
    },
    {
     "name": "stdout",
     "output_type": "stream",
     "text": [
      "Précision moyenne = 95.189186 %\n",
      "Précision max= 97.2973 %\n",
      "Variance des précisions = 10.223467\n"
     ]
    },
    {
     "name": "stderr",
     "output_type": "stream",
     "text": [
      "100%|██████████| 50/50 [00:02<00:00, 24.24it/s]\n"
     ]
    },
    {
     "name": "stdout",
     "output_type": "stream",
     "text": [
      "Précision moyenne = 88.54055 %\n",
      "Précision max= 97.2973 %\n",
      "Variance des précisions = 27.894644\n"
     ]
    },
    {
     "name": "stderr",
     "output_type": "stream",
     "text": [
      "100%|██████████| 50/50 [00:02<00:00, 23.51it/s]\n"
     ]
    },
    {
     "name": "stdout",
     "output_type": "stream",
     "text": [
      "Précision moyenne = 90.00001 %\n",
      "Précision max= 94.5946 %\n",
      "Variance des précisions = 28.994797\n"
     ]
    },
    {
     "name": "stderr",
     "output_type": "stream",
     "text": [
      "100%|██████████| 50/50 [00:02<00:00, 23.41it/s]\n"
     ]
    },
    {
     "name": "stdout",
     "output_type": "stream",
     "text": [
      "Précision moyenne = 96.486496 %\n",
      "Précision max= 100.0 %\n",
      "Variance des précisions = 14.98189\n"
     ]
    },
    {
     "name": "stderr",
     "output_type": "stream",
     "text": [
      "100%|██████████| 50/50 [00:02<00:00, 23.75it/s]\n"
     ]
    },
    {
     "name": "stdout",
     "output_type": "stream",
     "text": [
      "Précision moyenne = 88.75676 %\n",
      "Précision max= 91.8919 %\n",
      "Variance des précisions = 7.859164\n"
     ]
    },
    {
     "name": "stderr",
     "output_type": "stream",
     "text": [
      "100%|██████████| 50/50 [00:02<00:00, 23.69it/s]\n"
     ]
    },
    {
     "name": "stdout",
     "output_type": "stream",
     "text": [
      "Précision moyenne = 87.297295 %\n",
      "Précision max= 94.5946 %\n",
      "Variance des précisions = 14.385601\n"
     ]
    },
    {
     "name": "stderr",
     "output_type": "stream",
     "text": [
      "100%|██████████| 50/50 [00:02<00:00, 22.74it/s]\n"
     ]
    },
    {
     "name": "stdout",
     "output_type": "stream",
     "text": [
      "Précision moyenne = 90.64865 %\n",
      "Précision max= 97.2973 %\n",
      "Variance des précisions = 13.777385\n"
     ]
    },
    {
     "name": "stderr",
     "output_type": "stream",
     "text": [
      "100%|██████████| 50/50 [00:02<00:00, 21.98it/s]\n"
     ]
    },
    {
     "name": "stdout",
     "output_type": "stream",
     "text": [
      "Précision moyenne = 95.35136 %\n",
      "Précision max= 100.0 %\n",
      "Variance des précisions = 11.043358\n"
     ]
    },
    {
     "name": "stderr",
     "output_type": "stream",
     "text": [
      "100%|██████████| 50/50 [00:02<00:00, 22.03it/s]\n"
     ]
    },
    {
     "name": "stdout",
     "output_type": "stream",
     "text": [
      "Précision moyenne = 94.59461 %\n",
      "Précision max= 97.2973 %\n",
      "Variance des précisions = 8.34812\n"
     ]
    },
    {
     "name": "stderr",
     "output_type": "stream",
     "text": [
      "100%|██████████| 50/50 [00:02<00:00, 18.92it/s]\n"
     ]
    },
    {
     "name": "stdout",
     "output_type": "stream",
     "text": [
      "Précision moyenne = 90.37839 %\n",
      "Précision max= 94.5946 %\n",
      "Variance des précisions = 11.97359\n"
     ]
    },
    {
     "name": "stderr",
     "output_type": "stream",
     "text": [
      "100%|██████████| 50/50 [00:02<00:00, 18.12it/s]\n"
     ]
    },
    {
     "name": "stdout",
     "output_type": "stream",
     "text": [
      "Précision moyenne = 88.64865 %\n",
      "Précision max= 91.8919 %\n",
      "Variance des précisions = 9.242566\n"
     ]
    },
    {
     "name": "stderr",
     "output_type": "stream",
     "text": [
      "100%|██████████| 50/50 [00:02<00:00, 18.27it/s]\n"
     ]
    },
    {
     "name": "stdout",
     "output_type": "stream",
     "text": [
      "Précision moyenne = 87.945946 %\n",
      "Précision max= 94.5946 %\n",
      "Variance des précisions = 20.336609\n"
     ]
    }
   ],
   "source": [
    "kernel_size_Opt,Max_acc,n_best=Hyper_parameter_GridSearch(hyperparameters,grid = np.arange(25)[5:],parameter=\"kernel_size_3\")"
   ]
  },
  {
   "cell_type": "code",
   "execution_count": 172,
   "metadata": {},
   "outputs": [
    {
     "data": {
      "text/plain": [
       "(9, tensor(100.))"
      ]
     },
     "execution_count": 172,
     "metadata": {},
     "output_type": "execute_result"
    }
   ],
   "source": [
    "kernel_size_Opt,Max_acc"
   ]
  },
  {
   "cell_type": "code",
   "execution_count": 173,
   "metadata": {},
   "outputs": [],
   "source": [
    "\n",
    "# Hyper_parameter_GridSearch(parameter=\"n_conv_in3\",grid=(32,64,128,256,512),n_epochs=25)"
   ]
  },
  {
   "cell_type": "code",
   "execution_count": 229,
   "metadata": {},
   "outputs": [],
   "source": [
    "grids = {\n",
    "    \"n_epochs\": 25,\n",
    "    \"basis\": (B(knots=linspace(1,T,6),order=3),B(knots=linspace(1,T,6),order=4),B(knots=linspace(1,T,12),order=4)),\n",
    "    \"granulation\": 2000,\n",
    "    \"n_conv_in\": (32,),\n",
    "    \"n_conv_in2\": (256,),\n",
    "    \"n_conv_in3\": (256,),\n",
    "    \"n_Flat_out\": (256,),\n",
    "    \"stride_1\": np.arange(5)[1:],\n",
    "    \"stride_2\": np.arange(2)[1:],\n",
    "    \"stride_3\": 1,\n",
    "    \"stride_pool_1\": np.arange(2)[1:],\n",
    "    \"stride_pool_2\": np.arange(2)[1:],\n",
    "    \"stride_pool_3\": np.arange(2)[1:],\n",
    "    \"kernel_size_1\": (50,75,150,200),\n",
    "    \"kernel_size_2\": (50,75,150,200),\n",
    "    \"kernel_size_3\": (5,10,15,20),\n",
    "    \"kernel_size_pool_1\": np.arange(3)[2:],\n",
    "    \"kernel_size_pool_2\": np.arange(3)[2:],\n",
    "    \"kernel_size_pool_3\": (1,2),\n",
    "    \"dilation_1\": 1,\n",
    "    \"dilation_2\": 1,\n",
    "    \"dilation_3\": 1,\n",
    "    \"dilation_pool_1\": 1,\n",
    "    \"dilation_pool_2\": 1,\n",
    "    \"dilation_pool_3\": 1,\n",
    "    \"padding_1\": np.arange(10)[1:],\n",
    "    \"padding_2\": np.arange(10)[1:],\n",
    "    \"padding_3\": np.arange(10)[1:],\n",
    "    \"padding_pool_1\": np.arange(4)[1:],\n",
    "    \"padding_pool_2\": np.arange(4)[1:],\n",
    "    \"padding_pool_3\": np.arange(4)[1:],\n",
    "    \"opt\": \"Adam\",\n",
    "    \"lr\": 0.00089,\n",
    "    \n",
    "}\n"
   ]
  },
  {
   "cell_type": "code",
   "execution_count": 233,
   "metadata": {},
   "outputs": [],
   "source": [
    "def Hyperparameter_Search( grids, parameters):\n",
    "    best_parameters =hyperparameters\n",
    "    best_accuracy = 0.0\n",
    "    mean_acc_base=0.0\n",
    "    var_acc=0.0\n",
    "    i=1\n",
    "    # Boucle sur les paramètres\n",
    "    for param in parameters:\n",
    "        # Vérifier si le paramètre est dans la grille\n",
    "        if param in grids:\n",
    "            grid_values = grids[param]  # Récupérer les valeurs de la grille pour le paramètre donné\n",
    "            print(param,'=',grid_values)\n",
    "            # Boucle sur les valeurs de la grille pour le paramètre\n",
    "            for value in grid_values:\n",
    "                # Mettre à jour les hyperparamètres avec la valeur actuelle du paramètre\n",
    "                setattr(best_parameters, param, value)\n",
    "\n",
    "                # Appeler la fonction de Grid Search avec les paramètres spécifiés\n",
    "                optimum_parameter, total_accuracy,n_best = Hyper_parameter_GridSearch(best_parameters,grid=grid_values,parameter=param)\n",
    "                Mean_acc=((torch.mean(total_accuracy.float()))).detach().cpu().numpy()\n",
    "                Max_acc=((torch.max(total_accuracy.float()))).detach().cpu().numpy()\n",
    "                Var_acc=((torch.var(total_accuracy.float()))).detach().cpu().numpy()\n",
    "            \n",
    "                # Mettre à jour le meilleur résultat si nécessaire\n",
    "                if total_accuracy >= best_accuracy:\n",
    "                    if total_accuracy==best_accuracy:\n",
    "                        if var_acc>Var_acc:\n",
    "                            best_parameters.param = optimum_parameter\n",
    "                            best_accuracy = total_accuracy\n",
    "                    else:\n",
    "                        best_parameters.param = optimum_parameter\n",
    "                        best_accuracy = total_accuracy\n",
    "                        if Max_acc==100:\n",
    "\n",
    "                            best_parameters, best_accuracy,n_best\n",
    "\n",
    "                    \n",
    "    return best_parameters, best_accuracy,n_best\n"
   ]
  },
  {
   "cell_type": "code",
   "execution_count": 236,
   "metadata": {},
   "outputs": [],
   "source": [
    "param_list=[\"basis\",\"stride_1\",\"stride_2\",\"kernel_size_1\",\"kernel_size_3\",\"kernel_size_pool_1\",\"kernel_size_pool_2\",\"kernel_size_3\",\"n_conv_in\",\"n_conv_in2\",\"n_conv_in3\",\"n_Flat_out\",\"padding_1\",\n",
    "\"padding_2\",\n",
    "\"padding_3\",\n",
    "\"padding_pool_1\",\n",
    "\"padding_pool_2\",\n",
    "\"padding_pool_3\",\n",
    "\"stride_pool_1\",\n",
    "\"stride_pool_2\",\n",
    "\"stride_pool_3\",]"
   ]
  },
  {
   "cell_type": "code",
   "execution_count": 237,
   "metadata": {},
   "outputs": [
    {
     "name": "stderr",
     "output_type": "stream",
     "text": [
      "C:\\Users\\Utilisateur\\AppData\\Local\\Temp\\ipykernel_16048\\1783874418.py:84: DeprecationWarning: The method 'evaluate' is deprecated. Please use the normal calling notation on the basis object instead.\n",
      "  basis_eval=basis.evaluate(eval_points=eval_points)[:, :, 0]\n",
      "C:\\Users\\Utilisateur\\AppData\\Local\\Temp\\ipykernel_16048\\33423348.py:121: DeprecationWarning: The method 'evaluate' is deprecated. Please use the normal calling notation on the basis object instead.\n",
      "  basis_eval=basis.evaluate(eval_points=eval_points)[:, :, 0]\n"
     ]
    },
    {
     "name": "stdout",
     "output_type": "stream",
     "text": [
      "basis = (BSpline(domain_range=((1.0, 12.0),), n_basis=7, order=3, knots=(1.0, 3.2, 5.4, 7.6000000000000005, 9.8, 12.0)), BSpline(domain_range=((1.0, 12.0),), n_basis=8, order=4, knots=(1.0, 3.2, 5.4, 7.6000000000000005, 9.8, 12.0)), BSpline(domain_range=((1.0, 12.0),), n_basis=14, order=4, knots=(1.0, 2.0, 3.0, 4.0, 5.0, 6.0, 7.0, 8.0, 9.0, 10.0, 11.0, 12.0)))\n"
     ]
    },
    {
     "name": "stderr",
     "output_type": "stream",
     "text": [
      "100%|██████████| 25/25 [00:01<00:00, 14.51it/s]\n"
     ]
    },
    {
     "name": "stdout",
     "output_type": "stream",
     "text": [
      "Précision moyenne = 85.2973 %\n",
      "Précision max= 91.8919 %\n",
      "Variance des précisions = 48.746063\n"
     ]
    },
    {
     "name": "stderr",
     "output_type": "stream",
     "text": [
      "100%|██████████| 25/25 [00:01<00:00, 17.10it/s]\n"
     ]
    },
    {
     "name": "stdout",
     "output_type": "stream",
     "text": [
      "Précision moyenne = 87.78379 %\n",
      "Précision max= 94.5946 %\n",
      "Variance des précisions = 25.030434\n"
     ]
    },
    {
     "name": "stderr",
     "output_type": "stream",
     "text": [
      "100%|██████████| 25/25 [00:01<00:00, 16.98it/s]\n"
     ]
    },
    {
     "name": "stdout",
     "output_type": "stream",
     "text": [
      "Précision moyenne = 87.02703 %\n",
      "Précision max= 94.5946 %\n",
      "Variance des précisions = 21.913803\n"
     ]
    },
    {
     "name": "stderr",
     "output_type": "stream",
     "text": [
      "100%|██████████| 25/25 [00:01<00:00, 16.92it/s]\n"
     ]
    },
    {
     "name": "stdout",
     "output_type": "stream",
     "text": [
      "Précision moyenne = 82.702705 %\n",
      "Précision max= 91.8919 %\n",
      "Variance des précisions = 26.783546\n"
     ]
    },
    {
     "name": "stderr",
     "output_type": "stream",
     "text": [
      "100%|██████████| 25/25 [00:01<00:00, 16.88it/s]\n"
     ]
    },
    {
     "name": "stdout",
     "output_type": "stream",
     "text": [
      "Précision moyenne = 92.32433 %\n",
      "Précision max= 97.2973 %\n",
      "Variance des précisions = 8.327257\n"
     ]
    },
    {
     "name": "stderr",
     "output_type": "stream",
     "text": [
      "100%|██████████| 25/25 [00:01<00:00, 16.90it/s]\n"
     ]
    },
    {
     "name": "stdout",
     "output_type": "stream",
     "text": [
      "Précision moyenne = 82.05406 %\n",
      "Précision max= 86.48649 %\n",
      "Variance des précisions = 16.362318\n"
     ]
    },
    {
     "name": "stderr",
     "output_type": "stream",
     "text": [
      "100%|██████████| 25/25 [00:01<00:00, 16.90it/s]\n"
     ]
    },
    {
     "name": "stdout",
     "output_type": "stream",
     "text": [
      "Précision moyenne = 87.24324 %\n",
      "Précision max= 91.8919 %\n",
      "Variance des précisions = 16.75189\n"
     ]
    },
    {
     "name": "stderr",
     "output_type": "stream",
     "text": [
      "100%|██████████| 25/25 [00:01<00:00, 16.43it/s]\n"
     ]
    },
    {
     "name": "stdout",
     "output_type": "stream",
     "text": [
      "Précision moyenne = 89.72974 %\n",
      "Précision max= 94.5946 %\n",
      "Variance des précisions = 46.26248\n"
     ]
    },
    {
     "name": "stderr",
     "output_type": "stream",
     "text": [
      "100%|██████████| 25/25 [00:01<00:00, 16.31it/s]\n"
     ]
    },
    {
     "name": "stdout",
     "output_type": "stream",
     "text": [
      "Précision moyenne = 84.86486 %\n",
      "Précision max= 94.5946 %\n",
      "Variance des précisions = 25.566113\n",
      "stride_1 = [1 2 3 4]\n"
     ]
    },
    {
     "name": "stderr",
     "output_type": "stream",
     "text": [
      "100%|██████████| 25/25 [00:04<00:00,  5.84it/s]\n"
     ]
    },
    {
     "name": "stdout",
     "output_type": "stream",
     "text": [
      "Précision moyenne = 88.86486 %\n",
      "Précision max= 91.8919 %\n",
      "Variance des précisions = 13.58657\n"
     ]
    },
    {
     "name": "stderr",
     "output_type": "stream",
     "text": [
      "100%|██████████| 25/25 [00:02<00:00, 11.37it/s]\n"
     ]
    },
    {
     "name": "stdout",
     "output_type": "stream",
     "text": [
      "Précision moyenne = 89.94595 %\n",
      "Précision max= 94.5946 %\n",
      "Variance des précisions = 11.882165\n"
     ]
    },
    {
     "name": "stderr",
     "output_type": "stream",
     "text": [
      "100%|██████████| 25/25 [00:01<00:00, 16.46it/s]\n"
     ]
    },
    {
     "name": "stdout",
     "output_type": "stream",
     "text": [
      "Précision moyenne = 85.945946 %\n",
      "Précision max= 91.8919 %\n",
      "Variance des précisions = 10.348182\n"
     ]
    },
    {
     "name": "stderr",
     "output_type": "stream",
     "text": [
      "100%|██████████| 25/25 [00:01<00:00, 20.36it/s]\n"
     ]
    },
    {
     "name": "stdout",
     "output_type": "stream",
     "text": [
      "Précision moyenne = 84.64865 %\n",
      "Précision max= 91.8919 %\n",
      "Variance des précisions = 8.960314\n"
     ]
    },
    {
     "name": "stderr",
     "output_type": "stream",
     "text": [
      "100%|██████████| 25/25 [00:04<00:00,  5.62it/s]\n"
     ]
    },
    {
     "name": "stdout",
     "output_type": "stream",
     "text": [
      "Précision moyenne = 85.40541 %\n",
      "Précision max= 91.8919 %\n",
      "Variance des précisions = 9.739474\n"
     ]
    },
    {
     "ename": "KeyboardInterrupt",
     "evalue": "",
     "output_type": "error",
     "traceback": [
      "\u001b[1;31m---------------------------------------------------------------------------\u001b[0m",
      "\u001b[1;31mKeyboardInterrupt\u001b[0m                         Traceback (most recent call last)",
      "\u001b[1;32m~\\AppData\\Local\\Temp\\ipykernel_16048\\251341764.py\u001b[0m in \u001b[0;36m<module>\u001b[1;34m\u001b[0m\n\u001b[1;32m----> 1\u001b[1;33m \u001b[0mbest_para\u001b[0m\u001b[1;33m,\u001b[0m\u001b[0mbest_acc\u001b[0m\u001b[1;33m,\u001b[0m\u001b[0mn_best\u001b[0m\u001b[1;33m=\u001b[0m\u001b[0mHyperparameter_Search\u001b[0m\u001b[1;33m(\u001b[0m\u001b[0mgrids\u001b[0m\u001b[1;33m=\u001b[0m\u001b[0mgrids\u001b[0m\u001b[1;33m,\u001b[0m\u001b[0mparameters\u001b[0m\u001b[1;33m=\u001b[0m\u001b[0mparam_list\u001b[0m\u001b[1;33m)\u001b[0m\u001b[1;33m\u001b[0m\u001b[1;33m\u001b[0m\u001b[0m\n\u001b[0m",
      "\u001b[1;32m~\\AppData\\Local\\Temp\\ipykernel_16048\\2726872659.py\u001b[0m in \u001b[0;36mHyperparameter_Search\u001b[1;34m(grids, parameters)\u001b[0m\n\u001b[0;32m     17\u001b[0m \u001b[1;33m\u001b[0m\u001b[0m\n\u001b[0;32m     18\u001b[0m                 \u001b[1;31m# Appeler la fonction de Grid Search avec les paramètres spécifiés\u001b[0m\u001b[1;33m\u001b[0m\u001b[1;33m\u001b[0m\u001b[0m\n\u001b[1;32m---> 19\u001b[1;33m                 \u001b[0moptimum_parameter\u001b[0m\u001b[1;33m,\u001b[0m \u001b[0mtotal_accuracy\u001b[0m\u001b[1;33m,\u001b[0m\u001b[0mn_best\u001b[0m \u001b[1;33m=\u001b[0m \u001b[0mHyper_parameter_GridSearch\u001b[0m\u001b[1;33m(\u001b[0m\u001b[0mbest_parameters\u001b[0m\u001b[1;33m,\u001b[0m\u001b[0mgrid\u001b[0m\u001b[1;33m=\u001b[0m\u001b[0mgrid_values\u001b[0m\u001b[1;33m,\u001b[0m\u001b[0mparameter\u001b[0m\u001b[1;33m=\u001b[0m\u001b[0mparam\u001b[0m\u001b[1;33m)\u001b[0m\u001b[1;33m\u001b[0m\u001b[1;33m\u001b[0m\u001b[0m\n\u001b[0m\u001b[0;32m     20\u001b[0m                 \u001b[0mMean_acc\u001b[0m\u001b[1;33m=\u001b[0m\u001b[1;33m(\u001b[0m\u001b[1;33m(\u001b[0m\u001b[0mtorch\u001b[0m\u001b[1;33m.\u001b[0m\u001b[0mmean\u001b[0m\u001b[1;33m(\u001b[0m\u001b[0mtotal_accuracy\u001b[0m\u001b[1;33m.\u001b[0m\u001b[0mfloat\u001b[0m\u001b[1;33m(\u001b[0m\u001b[1;33m)\u001b[0m\u001b[1;33m)\u001b[0m\u001b[1;33m)\u001b[0m\u001b[1;33m)\u001b[0m\u001b[1;33m.\u001b[0m\u001b[0mdetach\u001b[0m\u001b[1;33m(\u001b[0m\u001b[1;33m)\u001b[0m\u001b[1;33m.\u001b[0m\u001b[0mcpu\u001b[0m\u001b[1;33m(\u001b[0m\u001b[1;33m)\u001b[0m\u001b[1;33m.\u001b[0m\u001b[0mnumpy\u001b[0m\u001b[1;33m(\u001b[0m\u001b[1;33m)\u001b[0m\u001b[1;33m\u001b[0m\u001b[1;33m\u001b[0m\u001b[0m\n\u001b[0;32m     21\u001b[0m                 \u001b[0mMax_acc\u001b[0m\u001b[1;33m=\u001b[0m\u001b[1;33m(\u001b[0m\u001b[1;33m(\u001b[0m\u001b[0mtorch\u001b[0m\u001b[1;33m.\u001b[0m\u001b[0mmax\u001b[0m\u001b[1;33m(\u001b[0m\u001b[0mtotal_accuracy\u001b[0m\u001b[1;33m.\u001b[0m\u001b[0mfloat\u001b[0m\u001b[1;33m(\u001b[0m\u001b[1;33m)\u001b[0m\u001b[1;33m)\u001b[0m\u001b[1;33m)\u001b[0m\u001b[1;33m)\u001b[0m\u001b[1;33m.\u001b[0m\u001b[0mdetach\u001b[0m\u001b[1;33m(\u001b[0m\u001b[1;33m)\u001b[0m\u001b[1;33m.\u001b[0m\u001b[0mcpu\u001b[0m\u001b[1;33m(\u001b[0m\u001b[1;33m)\u001b[0m\u001b[1;33m.\u001b[0m\u001b[0mnumpy\u001b[0m\u001b[1;33m(\u001b[0m\u001b[1;33m)\u001b[0m\u001b[1;33m\u001b[0m\u001b[1;33m\u001b[0m\u001b[0m\n",
      "\u001b[1;32m~\\AppData\\Local\\Temp\\ipykernel_16048\\2708690194.py\u001b[0m in \u001b[0;36mHyper_parameter_GridSearch\u001b[1;34m(hyperparams, parameter, grid)\u001b[0m\n\u001b[0;32m     13\u001b[0m \u001b[1;33m\u001b[0m\u001b[0m\n\u001b[0;32m     14\u001b[0m         \u001b[1;31m# Utiliser l'instance de HyperParameters pour effectuer les tests\u001b[0m\u001b[1;33m\u001b[0m\u001b[1;33m\u001b[0m\u001b[0m\n\u001b[1;32m---> 15\u001b[1;33m         \u001b[0m_\u001b[0m\u001b[1;33m,\u001b[0m \u001b[0m_\u001b[0m\u001b[1;33m,\u001b[0m \u001b[0m_\u001b[0m\u001b[1;33m,\u001b[0m \u001b[0m_\u001b[0m\u001b[1;33m,\u001b[0m \u001b[0maccuracy\u001b[0m\u001b[1;33m,\u001b[0m\u001b[0mn_best\u001b[0m \u001b[1;33m=\u001b[0m \u001b[0mHyperparameter_Test\u001b[0m\u001b[1;33m(\u001b[0m\u001b[0mhyperparameters\u001b[0m\u001b[1;33m=\u001b[0m\u001b[0mhyperparams\u001b[0m\u001b[1;33m)\u001b[0m\u001b[1;33m\u001b[0m\u001b[1;33m\u001b[0m\u001b[0m\n\u001b[0m\u001b[0;32m     16\u001b[0m         \u001b[0mTotal_accuracy_max\u001b[0m \u001b[1;33m=\u001b[0m \u001b[0mtorch\u001b[0m\u001b[1;33m.\u001b[0m\u001b[0mcat\u001b[0m\u001b[1;33m(\u001b[0m\u001b[1;33m[\u001b[0m\u001b[0mTotal_accuracy_max\u001b[0m\u001b[1;33m,\u001b[0m \u001b[0mtorch\u001b[0m\u001b[1;33m.\u001b[0m\u001b[0mtensor\u001b[0m\u001b[1;33m(\u001b[0m\u001b[1;33m[\u001b[0m\u001b[0mtorch\u001b[0m\u001b[1;33m.\u001b[0m\u001b[0mmax\u001b[0m\u001b[1;33m(\u001b[0m\u001b[0maccuracy\u001b[0m\u001b[1;33m)\u001b[0m\u001b[1;33m]\u001b[0m\u001b[1;33m)\u001b[0m\u001b[1;33m]\u001b[0m\u001b[1;33m)\u001b[0m\u001b[1;33m\u001b[0m\u001b[1;33m\u001b[0m\u001b[0m\n\u001b[0;32m     17\u001b[0m \u001b[1;33m\u001b[0m\u001b[0m\n",
      "\u001b[1;32m~\\AppData\\Local\\Temp\\ipykernel_16048\\470237928.py\u001b[0m in \u001b[0;36mHyperparameter_Test\u001b[1;34m(hyperparameters)\u001b[0m\n\u001b[0;32m     30\u001b[0m     \u001b[0mtorch\u001b[0m\u001b[1;33m.\u001b[0m\u001b[0mcuda\u001b[0m\u001b[1;33m.\u001b[0m\u001b[0mempty_cache\u001b[0m\u001b[1;33m(\u001b[0m\u001b[1;33m)\u001b[0m\u001b[1;33m\u001b[0m\u001b[1;33m\u001b[0m\u001b[0m\n\u001b[0;32m     31\u001b[0m     \u001b[0mgc\u001b[0m\u001b[1;33m.\u001b[0m\u001b[0mcollect\u001b[0m\u001b[1;33m(\u001b[0m\u001b[1;33m)\u001b[0m\u001b[1;33m\u001b[0m\u001b[1;33m\u001b[0m\u001b[0m\n\u001b[1;32m---> 32\u001b[1;33m     \u001b[1;32mreturn\u001b[0m \u001b[0mModel\u001b[0m\u001b[1;33m,\u001b[0m\u001b[0mgrid_convlayer1\u001b[0m\u001b[1;33m,\u001b[0m\u001b[0mgrid_convlayer2\u001b[0m\u001b[1;33m,\u001b[0m\u001b[0mgrid_convlayer3\u001b[0m\u001b[1;33m,\u001b[0m \u001b[0mmean_accuracy\u001b[0m\u001b[1;33m[\u001b[0m\u001b[1;36m1\u001b[0m\u001b[1;33m:\u001b[0m\u001b[1;33m]\u001b[0m\u001b[1;33m,\u001b[0m\u001b[0mn_best\u001b[0m\u001b[1;33m\u001b[0m\u001b[1;33m\u001b[0m\u001b[0m\n\u001b[0m\u001b[0;32m     33\u001b[0m \u001b[1;33m\u001b[0m\u001b[0m\n",
      "\u001b[1;31mKeyboardInterrupt\u001b[0m: "
     ]
    }
   ],
   "source": [
    "best_para,best_acc,n_best=Hyperparameter_Search(grids=grids,parameters=param_list)"
   ]
  },
  {
   "cell_type": "code",
   "execution_count": 227,
   "metadata": {},
   "outputs": [
    {
     "name": "stderr",
     "output_type": "stream",
     "text": [
      "C:\\Users\\Utilisateur\\AppData\\Local\\Temp\\ipykernel_16048\\1783874418.py:84: DeprecationWarning: The method 'evaluate' is deprecated. Please use the normal calling notation on the basis object instead.\n",
      "  basis_eval=basis.evaluate(eval_points=eval_points)[:, :, 0]\n",
      "C:\\Users\\Utilisateur\\AppData\\Local\\Temp\\ipykernel_16048\\33423348.py:121: DeprecationWarning: The method 'evaluate' is deprecated. Please use the normal calling notation on the basis object instead.\n",
      "  basis_eval=basis.evaluate(eval_points=eval_points)[:, :, 0]\n",
      "100%|██████████| 25/25 [00:01<00:00, 17.71it/s]\n"
     ]
    },
    {
     "name": "stdout",
     "output_type": "stream",
     "text": [
      "Précision moyenne = 90.48648 %\n",
      "Précision max= 97.2973 %\n",
      "Variance des précisions = 12.856115\n"
     ]
    },
    {
     "data": {
      "text/plain": [
       "(Bsp_classifier(\n",
       "   (Relu): ReLU()\n",
       "   (convlayer1): Sequential(\n",
       "     (0): Conv1d(1, 256, kernel_size=(200,), stride=(4,), padding=(2,))\n",
       "     (1): BatchNorm1d(256, eps=1e-05, momentum=0.1, affine=True, track_running_stats=True)\n",
       "     (2): LeakyReLU(negative_slope=0.18)\n",
       "     (3): Identity()\n",
       "     (4): MaxPool1d(kernel_size=2, stride=2, padding=1, dilation=1, ceil_mode=False)\n",
       "     (5): BatchNorm1d(256, eps=1e-05, momentum=0.1, affine=True, track_running_stats=True)\n",
       "     (6): LeakyReLU(negative_slope=0.18)\n",
       "     (7): Identity()\n",
       "   )\n",
       "   (convlayer2): Sequential(\n",
       "     (0): Conv1d(256, 256, kernel_size=(50,), stride=(1,), padding=(2,))\n",
       "     (1): BatchNorm1d(256, eps=1e-05, momentum=0.1, affine=True, track_running_stats=True)\n",
       "     (2): LeakyReLU(negative_slope=0.18)\n",
       "     (3): Identity()\n",
       "     (4): MaxPool1d(kernel_size=2, stride=2, padding=1, dilation=1, ceil_mode=False)\n",
       "     (5): BatchNorm1d(256, eps=1e-05, momentum=0.1, affine=True, track_running_stats=True)\n",
       "     (6): LeakyReLU(negative_slope=0.18)\n",
       "     (7): Identity()\n",
       "   )\n",
       "   (convlayer3): Sequential(\n",
       "     (0): Conv1d(256, 256, kernel_size=(20,), stride=(1,), padding=(2,))\n",
       "     (1): BatchNorm1d(256, eps=1e-05, momentum=0.1, affine=True, track_running_stats=True)\n",
       "     (2): LeakyReLU(negative_slope=0.18)\n",
       "     (3): Identity()\n",
       "     (4): MaxPool1d(kernel_size=2, stride=1, padding=1, dilation=1, ceil_mode=False)\n",
       "     (5): BatchNorm1d(256, eps=1e-05, momentum=0.1, affine=True, track_running_stats=True)\n",
       "     (6): LeakyReLU(negative_slope=0.18)\n",
       "   )\n",
       "   (fc_block): Sequential(\n",
       "     (0): Flatten(start_dim=1, end_dim=-1)\n",
       "     (1): Linear(in_features=7168, out_features=256, bias=True)\n",
       "     (2): BatchNorm1d(256, eps=1e-05, momentum=0.1, affine=True, track_running_stats=True)\n",
       "     (3): LeakyReLU(negative_slope=0.18)\n",
       "     (4): Identity()\n",
       "     (5): Linear(in_features=256, out_features=4, bias=True)\n",
       "   )\n",
       "   (activation): Softmax(dim=None)\n",
       " ),\n",
       " FDataGrid(\n",
       "     array([[[-0.07498805],\n",
       "             [-0.08725438],\n",
       "             [-0.07872424],\n",
       "             ...,\n",
       "             [-0.12021357],\n",
       "             [-0.11986866],\n",
       "             [-0.13061059]],\n",
       "     \n",
       "            [[-0.08124173],\n",
       "             [-0.07847669],\n",
       "             [-0.05783874],\n",
       "             ...,\n",
       "             [-0.22195926],\n",
       "             [-0.22067776],\n",
       "             [-0.229608  ]],\n",
       "     \n",
       "            [[-0.12049131],\n",
       "             [-0.12255415],\n",
       "             [-0.12113828],\n",
       "             ...,\n",
       "             [-0.24213502],\n",
       "             [-0.24076325],\n",
       "             [-0.2496499 ]],\n",
       "     \n",
       "            ...,\n",
       "     \n",
       "            [[-0.11394789],\n",
       "             [-0.1136198 ],\n",
       "             [-0.10999811],\n",
       "             ...,\n",
       "             [-0.21763715],\n",
       "             [-0.2166563 ],\n",
       "             [-0.22568841]],\n",
       "     \n",
       "            [[ 0.07029859],\n",
       "             [-0.00558792],\n",
       "             [-0.00221285],\n",
       "             ...,\n",
       "             [ 0.06880376],\n",
       "             [ 0.06954513],\n",
       "             [-0.05180784]],\n",
       "     \n",
       "            [[-0.01661946],\n",
       "             [-0.0385355 ],\n",
       "             [-0.03911477],\n",
       "             ...,\n",
       "             [ 0.75320584],\n",
       "             [ 0.7455456 ],\n",
       "             [ 0.3745593 ]]], dtype=float32),\n",
       "     grid_points=(array([ 1.        ,  1.08730159,  1.17460317,  1.26190476,  1.34920635,\n",
       "             1.43650794,  1.52380952,  1.61111111,  1.6984127 ,  1.78571429,\n",
       "             1.87301587,  1.96031746,  2.04761905,  2.13492063,  2.22222222,\n",
       "             2.30952381,  2.3968254 ,  2.48412698,  2.57142857,  2.65873016,\n",
       "             2.74603175,  2.83333333,  2.92063492,  3.00793651,  3.0952381 ,\n",
       "             3.18253968,  3.26984127,  3.35714286,  3.44444444,  3.53174603,\n",
       "             3.61904762,  3.70634921,  3.79365079,  3.88095238,  3.96825397,\n",
       "             4.05555556,  4.14285714,  4.23015873,  4.31746032,  4.4047619 ,\n",
       "             4.49206349,  4.57936508,  4.66666667,  4.75396825,  4.84126984,\n",
       "             4.92857143,  5.01587302,  5.1031746 ,  5.19047619,  5.27777778,\n",
       "             5.36507937,  5.45238095,  5.53968254,  5.62698413,  5.71428571,\n",
       "             5.8015873 ,  5.88888889,  5.97619048,  6.06349206,  6.15079365,\n",
       "             6.23809524,  6.32539683,  6.41269841,  6.5       ,  6.58730159,\n",
       "             6.67460317,  6.76190476,  6.84920635,  6.93650794,  7.02380952,\n",
       "             7.11111111,  7.1984127 ,  7.28571429,  7.37301587,  7.46031746,\n",
       "             7.54761905,  7.63492063,  7.72222222,  7.80952381,  7.8968254 ,\n",
       "             7.98412698,  8.07142857,  8.15873016,  8.24603175,  8.33333333,\n",
       "             8.42063492,  8.50793651,  8.5952381 ,  8.68253968,  8.76984127,\n",
       "             8.85714286,  8.94444444,  9.03174603,  9.11904762,  9.20634921,\n",
       "             9.29365079,  9.38095238,  9.46825397,  9.55555556,  9.64285714,\n",
       "             9.73015873,  9.81746032,  9.9047619 ,  9.99206349, 10.07936508,\n",
       "            10.16666667, 10.25396825, 10.34126984, 10.42857143, 10.51587302,\n",
       "            10.6031746 , 10.69047619, 10.77777778, 10.86507937, 10.95238095,\n",
       "            11.03968254, 11.12698413, 11.21428571, 11.3015873 , 11.38888889,\n",
       "            11.47619048, 11.56349206, 11.65079365, 11.73809524, 11.82539683,\n",
       "            11.91269841, 12.        ]),),\n",
       "     domain_range=((1.0, 12.0),),\n",
       "     dataset_name=None,\n",
       "     argument_names=(None,),\n",
       "     coordinate_names=(None,),\n",
       "     extrapolation=None,\n",
       "     interpolation=SplineInterpolation(interpolation_order=1, monotone=False)),\n",
       " FDataGrid(\n",
       "     array([[[-0.09198187],\n",
       "             [-0.07955172],\n",
       "             [-0.10460183],\n",
       "             ...,\n",
       "             [-0.07662436],\n",
       "             [-0.0344758 ],\n",
       "             [-0.09410805]],\n",
       "     \n",
       "            [[-0.10941263],\n",
       "             [-0.08892052],\n",
       "             [-0.09451061],\n",
       "             ...,\n",
       "             [ 2.5751631 ],\n",
       "             [ 3.003295  ],\n",
       "             [ 1.9783615 ]],\n",
       "     \n",
       "            [[-0.09162426],\n",
       "             [-0.0721067 ],\n",
       "             [-0.0866304 ],\n",
       "             ...,\n",
       "             [ 2.160833  ],\n",
       "             [ 2.6418684 ],\n",
       "             [ 1.6586764 ]],\n",
       "     \n",
       "            ...,\n",
       "     \n",
       "            [[-0.11913769],\n",
       "             [-0.10307747],\n",
       "             [-0.11248881],\n",
       "             ...,\n",
       "             [ 1.9963963 ],\n",
       "             [ 2.4503806 ],\n",
       "             [ 1.4419328 ]],\n",
       "     \n",
       "            [[-0.09144402],\n",
       "             [-0.06610707],\n",
       "             [-0.09534335],\n",
       "             ...,\n",
       "             [-0.08464094],\n",
       "             [-0.07290759],\n",
       "             [-0.1034902 ]],\n",
       "     \n",
       "            [[-0.07733533],\n",
       "             [ 0.15136936],\n",
       "             [-0.07851635],\n",
       "             ...,\n",
       "             [-0.08858178],\n",
       "             [-0.07907844],\n",
       "             [-0.11587413]]], dtype=float32),\n",
       "     grid_points=(array([ 1.        ,  1.26829268,  1.53658537,  1.80487805,  2.07317073,\n",
       "             2.34146341,  2.6097561 ,  2.87804878,  3.14634146,  3.41463415,\n",
       "             3.68292683,  3.95121951,  4.2195122 ,  4.48780488,  4.75609756,\n",
       "             5.02439024,  5.29268293,  5.56097561,  5.82926829,  6.09756098,\n",
       "             6.36585366,  6.63414634,  6.90243902,  7.17073171,  7.43902439,\n",
       "             7.70731707,  7.97560976,  8.24390244,  8.51219512,  8.7804878 ,\n",
       "             9.04878049,  9.31707317,  9.58536585,  9.85365854, 10.12195122,\n",
       "            10.3902439 , 10.65853659, 10.92682927, 11.19512195, 11.46341463,\n",
       "            11.73170732, 12.        ]),),\n",
       "     domain_range=((1.0, 12.0),),\n",
       "     dataset_name=None,\n",
       "     argument_names=(None,),\n",
       "     coordinate_names=(None,),\n",
       "     extrapolation=None,\n",
       "     interpolation=SplineInterpolation(interpolation_order=1, monotone=False)),\n",
       " FDataGrid(\n",
       "     array([[[ 4.0099388e-01],\n",
       "             [ 4.0099388e-01],\n",
       "             [ 2.7434328e-01],\n",
       "             ...,\n",
       "             [-5.9792448e-02],\n",
       "             [-5.9792448e-02],\n",
       "             [-9.2076771e-02]],\n",
       "     \n",
       "            [[-1.4127702e-01],\n",
       "             [-1.4127702e-01],\n",
       "             [-1.4502093e-01],\n",
       "             ...,\n",
       "             [-1.3257013e-01],\n",
       "             [-1.2388096e-01],\n",
       "             [-1.2388096e-01]],\n",
       "     \n",
       "            [[-1.2362336e-01],\n",
       "             [-1.2362336e-01],\n",
       "             [-1.2960204e-01],\n",
       "             ...,\n",
       "             [-1.3657323e-01],\n",
       "             [-1.3296457e-01],\n",
       "             [-1.3296457e-01]],\n",
       "     \n",
       "            ...,\n",
       "     \n",
       "            [[-9.0948120e-02],\n",
       "             [-9.0948120e-02],\n",
       "             [-9.4181374e-02],\n",
       "             ...,\n",
       "             [-1.3891849e-01],\n",
       "             [-1.3418172e-01],\n",
       "             [-1.3418172e-01]],\n",
       "     \n",
       "            [[-6.7599409e-05],\n",
       "             [ 4.3067895e-02],\n",
       "             [ 4.3067895e-02],\n",
       "             ...,\n",
       "             [-6.6375859e-02],\n",
       "             [-7.5136341e-02],\n",
       "             [-8.3390951e-02]],\n",
       "     \n",
       "            [[-1.0796176e-01],\n",
       "             [-1.0457723e-01],\n",
       "             [-1.0457723e-01],\n",
       "             ...,\n",
       "             [ 8.1862040e-02],\n",
       "             [-5.2876372e-02],\n",
       "             [-5.8177963e-02]]], dtype=float32),\n",
       "     grid_points=(array([ 1.        ,  1.40740741,  1.81481481,  2.22222222,  2.62962963,\n",
       "             3.03703704,  3.44444444,  3.85185185,  4.25925926,  4.66666667,\n",
       "             5.07407407,  5.48148148,  5.88888889,  6.2962963 ,  6.7037037 ,\n",
       "             7.11111111,  7.51851852,  7.92592593,  8.33333333,  8.74074074,\n",
       "             9.14814815,  9.55555556,  9.96296296, 10.37037037, 10.77777778,\n",
       "            11.18518519, 11.59259259, 12.        ]),),\n",
       "     domain_range=((1.0, 12.0),),\n",
       "     dataset_name=None,\n",
       "     argument_names=(None,),\n",
       "     coordinate_names=(None,),\n",
       "     extrapolation=None,\n",
       "     interpolation=SplineInterpolation(interpolation_order=1, monotone=False)),\n",
       " tensor([89.1892, 81.0811, 89.1892, 91.8919, 86.4865, 89.1892, 91.8919, 89.1892,\n",
       "         97.2973, 91.8919, 86.4865, 94.5946, 89.1892, 91.8919, 91.8919, 91.8919,\n",
       "         91.8919, 89.1892, 91.8919, 91.8919, 91.8919, 91.8919, 83.7838, 89.1892,\n",
       "         97.2973]),\n",
       " tensor(8))"
      ]
     },
     "execution_count": 227,
     "metadata": {},
     "output_type": "execute_result"
    }
   ],
   "source": [
    "best_para.n_epochs=25\n",
    "Hyperparameter_Test(best_para)"
   ]
  },
  {
   "cell_type": "code",
   "execution_count": 228,
   "metadata": {},
   "outputs": [
    {
     "data": {
      "text/plain": [
       "1"
      ]
     },
     "execution_count": 228,
     "metadata": {},
     "output_type": "execute_result"
    }
   ],
   "source": [
    "best_para.stride_3"
   ]
  },
  {
   "cell_type": "code",
   "execution_count": 191,
   "metadata": {},
   "outputs": [
    {
     "data": {
      "text/plain": [
       "0"
      ]
     },
     "execution_count": 191,
     "metadata": {},
     "output_type": "execute_result"
    }
   ],
   "source": [
    "import gc\n",
    "torch.cuda.empty_cache()\n",
    "gc.collect()"
   ]
  }
 ],
 "metadata": {
  "kernelspec": {
   "display_name": "base",
   "language": "python",
   "name": "python3"
  },
  "language_info": {
   "codemirror_mode": {
    "name": "ipython",
    "version": 3
   },
   "file_extension": ".py",
   "mimetype": "text/x-python",
   "name": "python",
   "nbconvert_exporter": "python",
   "pygments_lexer": "ipython3",
   "version": "3.9.13"
  },
  "orig_nbformat": 4
 },
 "nbformat": 4,
 "nbformat_minor": 2
}
