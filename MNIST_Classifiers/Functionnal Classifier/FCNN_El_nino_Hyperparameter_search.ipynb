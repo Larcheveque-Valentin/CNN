{
 "cells": [
  {
   "cell_type": "code",
   "execution_count": 1,
   "metadata": {},
   "outputs": [],
   "source": [
    "# -*- coding: utf-8 -*-\n",
    "\"\"\"\n",
    "Created on Mon Aug 15 14:49:58 2022\n",
    "\n",
    "@author:Unknown\n",
    "\n",
    "Functional autoencoder implementation\n",
    "\"\"\"\n",
    "\n",
    "# Import modules\n",
    "import inspect\n",
    "import random\n",
    "import torch\n",
    "import torch.nn.init as init\n",
    "import torch.nn.functional as F\n",
    "import torch.nn as nn\n",
    "\n",
    "from torch import optim\n",
    "from torch.autograd import Variable\n",
    "from torchvision import datasets, transforms\n",
    "from torchvision.utils import save_image\n",
    "import pandas as pd\n",
    "import numpy as np\n",
    "from numpy import *\n",
    "import seaborn as sns\n",
    "#matplotlib.use('TkAgg')\n",
    "from matplotlib import pyplot as plt\n",
    "# import skfda as fda\n",
    "# from skfda import representation as representation\n",
    "# from skfda.exploratory.visualization import FPCAPlot\n",
    "# # from skfda.exploratory.visualization import FPCAPlot\n",
    "# # from skfda.preprocessing.dim_reduction import FPCA\n",
    "# # from skfda.representation.basis import BSpline, Fourier, Monomial\n",
    "import scipy\n",
    "from scipy.interpolate import BSpline\n",
    "import os\n",
    "import ignite\n",
    "from tqdm import tqdm\n",
    "import sklearn\n",
    "from sklearn.utils import shuffle\n",
    "from sklearn.decomposition import PCA\n",
    "from sklearn.linear_model import LogisticRegression\n",
    "from sklearn.metrics import classification_report, confusion_matrix\n",
    "from sklearn.cluster import KMeans\n",
    "import random\n",
    "from random import seed\n",
    "from scipy import stats\n",
    "import statistics\n",
    "from statistics import stdev\n",
    "\n",
    "import skfda\n",
    "from skfda import FDataGrid as fd\n",
    "from skfda.representation.basis import BSpline as B\n"
   ]
  },
  {
   "cell_type": "code",
   "execution_count": 2,
   "metadata": {},
   "outputs": [
    {
     "name": "stderr",
     "output_type": "stream",
     "text": [
      "c:\\Users\\Utilisateur\\anaconda3\\lib\\site-packages\\rdata\\conversion\\_conversion.py:843: UserWarning: Missing constructor for R class \"sfts\". The constructor for class \"fts\" will be used instead.\n",
      "  warnings.warn(\n",
      "c:\\Users\\Utilisateur\\anaconda3\\lib\\site-packages\\rdata\\conversion\\_conversion.py:843: UserWarning: Missing constructor for R class \"fts\". The constructor for class \"fds\" will be used instead.\n",
      "  warnings.warn(\n",
      "c:\\Users\\Utilisateur\\anaconda3\\lib\\site-packages\\rdata\\conversion\\_conversion.py:843: UserWarning: Missing constructor for R class \"fds\". The underlying R object is returned instead.\n",
      "  warnings.warn(\n",
      "c:\\Users\\Utilisateur\\anaconda3\\lib\\site-packages\\rdata\\conversion\\_conversion.py:843: UserWarning: Missing constructor for R class \"sfts\". The constructor for class \"fts\" will be used instead.\n",
      "  warnings.warn(\n",
      "c:\\Users\\Utilisateur\\anaconda3\\lib\\site-packages\\rdata\\conversion\\_conversion.py:843: UserWarning: Missing constructor for R class \"fts\". The constructor for class \"fds\" will be used instead.\n",
      "  warnings.warn(\n",
      "c:\\Users\\Utilisateur\\anaconda3\\lib\\site-packages\\rdata\\conversion\\_conversion.py:843: UserWarning: Missing constructor for R class \"fds\". The underlying R object is returned instead.\n",
      "  warnings.warn(\n",
      "c:\\Users\\Utilisateur\\anaconda3\\lib\\site-packages\\rdata\\conversion\\_conversion.py:843: UserWarning: Missing constructor for R class \"sfts\". The constructor for class \"fts\" will be used instead.\n",
      "  warnings.warn(\n",
      "c:\\Users\\Utilisateur\\anaconda3\\lib\\site-packages\\rdata\\conversion\\_conversion.py:843: UserWarning: Missing constructor for R class \"fts\". The constructor for class \"fds\" will be used instead.\n",
      "  warnings.warn(\n",
      "c:\\Users\\Utilisateur\\anaconda3\\lib\\site-packages\\rdata\\conversion\\_conversion.py:843: UserWarning: Missing constructor for R class \"fds\". The underlying R object is returned instead.\n",
      "  warnings.warn(\n",
      "c:\\Users\\Utilisateur\\anaconda3\\lib\\site-packages\\rdata\\conversion\\_conversion.py:843: UserWarning: Missing constructor for R class \"sfts\". The constructor for class \"fts\" will be used instead.\n",
      "  warnings.warn(\n",
      "c:\\Users\\Utilisateur\\anaconda3\\lib\\site-packages\\rdata\\conversion\\_conversion.py:843: UserWarning: Missing constructor for R class \"fts\". The constructor for class \"fds\" will be used instead.\n",
      "  warnings.warn(\n",
      "c:\\Users\\Utilisateur\\anaconda3\\lib\\site-packages\\rdata\\conversion\\_conversion.py:843: UserWarning: Missing constructor for R class \"fds\". The underlying R object is returned instead.\n",
      "  warnings.warn(\n"
     ]
    }
   ],
   "source": [
    "##Importation des données sous forme FDA\n",
    "\n",
    "ElNino_OISST_region_1and2=skfda.datasets.fetch_cran(\"ElNino_OISST_region_1and2\",\"rainbow\")\n",
    "ElNino_OISST_region_3=skfda.datasets.fetch_cran(\"ElNino_OISST_region_3\",\"rainbow\")\n",
    "ElNino_OISST_region_4=skfda.datasets.fetch_cran(\"ElNino_OISST_region_4\",\"rainbow\")\n",
    "ElNino_OISST_region_3and4=skfda.datasets.fetch_cran(\"ElNino_OISST_region_3and4\",\"rainbow\")\n",
    "ElNino_OISST_region_1and2_y=ElNino_OISST_region_1and2['ElNino_OISST_region_1and2']['y'].to_numpy()\n",
    "ElNino_OISST_region_1and2_x=ElNino_OISST_region_1and2['ElNino_OISST_region_1and2']['x']\n",
    "# plt.plot(ElNino_OISST_region_1and2_x,ElNino_OISST_region_1and2_y)\n",
    "# plt.show(\n",
    "# )\n",
    "ElNino_OISST_region_3_y=ElNino_OISST_region_3['ElNino_OISST_region_3']['y'].to_numpy()\n",
    "ElNino_OISST_region_3_x=ElNino_OISST_region_3['ElNino_OISST_region_3']['x']\n",
    "# plt.plot(ElNino_OISST_region_3_x,ElNino_OISST_region_3_y)\n",
    "# plt.show(\n",
    "\n",
    "# )\n",
    "ElNino_OISST_region_3and4_y=ElNino_OISST_region_3and4['ElNino_OISST_region_3and4']['y'].to_numpy()\n",
    "ElNino_OISST_region_3and4_x=ElNino_OISST_region_3and4['ElNino_OISST_region_3and4']['x']\n",
    "# plt.plot(ElNino_OISST_region_3and4_x,ElNino_OISST_region_3and4_y)\n",
    "# plt.show(\n",
    "# )\n",
    "\n",
    "\n",
    "ElNino_OISST_region_4_y=ElNino_OISST_region_4['ElNino_OISST_region_4']['y'].to_numpy()\n",
    "ElNino_OISST_region_4_x=ElNino_OISST_region_4['ElNino_OISST_region_4']['x']\n",
    "# plt.plot(ElNino_OISST_region_4_x,ElNino_OISST_region_4_y)\n",
    "# plt.show(\n",
    "# )\n",
    "grid_points=ElNino_OISST_region_1and2_x\n",
    "T=len(grid_points)"
   ]
  },
  {
   "cell_type": "code",
   "execution_count": 3,
   "metadata": {},
   "outputs": [
    {
     "data": {
      "text/plain": [
       "(torch.Size([111, 1, 12]), torch.Size([111, 1, 1]))"
      ]
     },
     "execution_count": 3,
     "metadata": {},
     "output_type": "execute_result"
    }
   ],
   "source": [
    "x0=torch.tensor(ElNino_OISST_region_1and2_y).float().cuda()\n",
    "x1=torch.tensor(ElNino_OISST_region_3_y).float().cuda()\n",
    "x2=torch.tensor(ElNino_OISST_region_4_y).float().cuda()\n",
    "x3=torch.tensor(ElNino_OISST_region_3and4_y).float().cuda()\n",
    "x0=torch.t(x0)\n",
    "x1=torch.t(x1)\n",
    "x2=torch.t(x2)\n",
    "x3=torch.t(x3)\n",
    "\n",
    "labels = torch.tensor([0] * x0.shape[0] + [1] * x1.shape[0] + [2] * x2.shape[0] + [3] * x3.shape[0]).unsqueeze(1).unsqueeze(2).cuda()\n",
    "X=torch.concatenate([x0,x1,x2,x3]).reshape(148,1,12)\n",
    "x_train,x_test,y_train,y_test=sklearn.model_selection.train_test_split(X,labels,shuffle=True)\n",
    "x_train.shape,y_train.shape\n",
    "\n"
   ]
  },
  {
   "cell_type": "code",
   "execution_count": 4,
   "metadata": {},
   "outputs": [],
   "source": [
    "\n",
    "def weights_init_normal(m):\n",
    "    classname = m.__class__.__name__\n",
    "    if classname.find('Conv') != -1:\n",
    "        torch.nn.init.normal_(m.weight.data, 0.0, 0.07)\n",
    "    elif classname.find('BatchNorm') != -1:\n",
    "        torch.nn.init.normal_(m.weight.data, 1.0, 0.07)\n",
    "        torch.nn.init.constant_(m.bias.data, 0.0)\n"
   ]
  },
  {
   "cell_type": "code",
   "execution_count": 5,
   "metadata": {},
   "outputs": [],
   "source": [
    "n_epochs=25  \n",
    "basis=B(knots=linspace(1,T,6),order=3)\n",
    "n_conv_out=64\n",
    "granulation=1200\n",
    "n_conv_in=128\n",
    "n_conv_in2=128\n",
    "n_conv_in3=64\n",
    "n_Flat_out=256\n",
    "stride_1=6\n",
    "stride_2=2\n",
    "stride_3=1\n",
    "stride_pool_1=2\n",
    "stride_pool_2=2\n",
    "stride_pool_3=1\n",
    "kernel_size_1=120\n",
    "kernel_size_2=35\n",
    "kernel_size_3=20\n",
    "kernel_size_pool_1=6\n",
    "kernel_size_pool_2=4\n",
    "kernel_size_pool_3=2\n",
    "dilation_1=1\n",
    "dilation_2=1\n",
    "dilation_3=1\n",
    "dilation_pool_1=1\n",
    "dilation_pool_2=1\n",
    "dilation_pool_3=1\n",
    "padding_1=2\n",
    "padding_2=2\n",
    "padding_3=2\n",
    "padding_pool_1=1\n",
    "padding_pool_2=1\n",
    "padding_pool_3=1\n",
    "opt=\"Adam\"\n",
    "lr_adam=0.00089\n",
    "lr_SGD=0.001\n",
    "loss_function=nn.CrossEntropyLoss()\n",
    "batch_size=96"
   ]
  },
  {
   "cell_type": "code",
   "execution_count": 87,
   "metadata": {},
   "outputs": [],
   "source": [
    "class HyperParameters:\n",
    "    def __init__(self, n_epochs=25, granulation=2000,\n",
    "                 n_conv_in=32, n_conv_in2=512, n_conv_in3=256,n_conv_out=64, n_Flat_out=256,\n",
    "                 stride_1=1, stride_2=1, stride_3=1,\n",
    "                 stride_pool_1=2, stride_pool_2=2, stride_pool_3=2,\n",
    "                 kernel_size_1=5, kernel_size_2=3, kernel_size_3=4,\n",
    "                 kernel_size_pool_1=3, kernel_size_pool_2=2, kernel_size_pool_3=3,\n",
    "                 dilation_1=1, dilation_2=1, dilation_3=1,\n",
    "                 dilation_pool_1=1, dilation_pool_2=1, dilation_pool_3=1,\n",
    "                 padding_1=2, padding_2=2, padding_3=2,\n",
    "                 padding_pool_1=1, padding_pool_2=1, padding_pool_3=1,\n",
    "                 opt=\"Adam\", lr=0.00089, loss=nn.CrossEntropyLoss(),activation=nn.Identity()):\n",
    "        self.n_epochs = n_epochs\n",
    "        self.activation=activation\n",
    "        self.n_conv_out=n_conv_out\n",
    "        self.basis = basis\n",
    "        self.granulation = granulation\n",
    "        self.n_conv_in = n_conv_in\n",
    "        self.n_conv_in2 = n_conv_in2\n",
    "        self.n_conv_in3 = n_conv_in3\n",
    "        self.n_Flat_out = n_Flat_out\n",
    "        self.stride_1 = stride_1\n",
    "        self.stride_2 = stride_2\n",
    "        self.stride_3 = stride_3\n",
    "        self.stride_pool_1 = stride_pool_1\n",
    "        self.stride_pool_2 = stride_pool_2\n",
    "        self.stride_pool_3 = stride_pool_3\n",
    "        self.kernel_size_1 = kernel_size_1\n",
    "        self.kernel_size_2 = kernel_size_2\n",
    "        self.kernel_size_3 = kernel_size_3\n",
    "        self.kernel_size_pool_1 = kernel_size_pool_1\n",
    "        self.kernel_size_pool_2 = kernel_size_pool_2\n",
    "        self.kernel_size_pool_3 = kernel_size_pool_3\n",
    "        self.dilation_1 = dilation_1\n",
    "        self.dilation_2 = dilation_2\n",
    "        self.dilation_3 = dilation_3\n",
    "        self.dilation_pool_1 = dilation_pool_1\n",
    "        self.dilation_pool_2 = dilation_pool_2\n",
    "        self.dilation_pool_3 = dilation_pool_3\n",
    "        self.padding_1 = padding_1\n",
    "        self.padding_2 = padding_2\n",
    "        self.padding_3 = padding_3\n",
    "        self.padding_pool_1 = padding_pool_1\n",
    "        self.padding_pool_2 = padding_pool_2\n",
    "        self.padding_pool_3 = padding_pool_3\n",
    "        self.opt = opt\n",
    "        self.lr = lr\n",
    "        self.loss = loss\n"
   ]
  },
  {
   "cell_type": "code",
   "execution_count": 88,
   "metadata": {},
   "outputs": [],
   "source": [
    "Defaults_arguments=HyperParameters()\n"
   ]
  },
  {
   "cell_type": "code",
   "execution_count": 8,
   "metadata": {},
   "outputs": [],
   "source": [
    "\n",
    "class FCNN(nn.Module):\n",
    "    def __init__(self, hyperparams):\n",
    "        super(FCNN, self).__init__()\n",
    "\n",
    "        basis = hyperparams.basis\n",
    "        granulation = hyperparams.granulation\n",
    "        n_conv_in = hyperparams.n_conv_in\n",
    "        n_conv_in2 = hyperparams.n_conv_in2\n",
    "        n_conv_in3 = hyperparams.n_conv_in3\n",
    "        n_Flat_out = hyperparams.n_Flat_out\n",
    "        stride_1 = hyperparams.stride_1\n",
    "        stride_2 = hyperparams.stride_2\n",
    "        stride_3 = hyperparams.stride_3\n",
    "        stride_pool_1 = hyperparams.stride_pool_1\n",
    "        stride_pool_2 = hyperparams.stride_pool_2\n",
    "        stride_pool_3 = hyperparams.stride_pool_3\n",
    "        kernel_size_1 = hyperparams.kernel_size_1\n",
    "        kernel_size_2 = hyperparams.kernel_size_2\n",
    "        kernel_size_3 = hyperparams.kernel_size_3\n",
    "        kernel_size_pool_1 = hyperparams.kernel_size_pool_1\n",
    "        kernel_size_pool_2 = hyperparams.kernel_size_pool_2\n",
    "        kernel_size_pool_3 = hyperparams.kernel_size_pool_3\n",
    "        dilation_1 = hyperparams.dilation_1\n",
    "        dilation_2 = hyperparams.dilation_2\n",
    "        dilation_3 = hyperparams.dilation_3\n",
    "        dilation_pool_1 = hyperparams.dilation_pool_1\n",
    "        dilation_pool_2 = hyperparams.dilation_pool_2\n",
    "        dilation_pool_3 = hyperparams.dilation_pool_3\n",
    "\n",
    "        # Reste du code pour l'initialisation de la classe model\n",
    "\n",
    "        self.Relu=nn.ReLU()\n",
    "\n",
    "        self.convlayer1=nn.Sequential(\n",
    "            nn.Conv1d(1,n_conv_in,kernel_size=kernel_size_1,stride=stride_1,padding=padding_1,dilation=dilation_1),\n",
    "            nn.BatchNorm1d(n_conv_in),\n",
    "            nn.LeakyReLU(0.18),\n",
    "            \n",
    "            nn.MaxPool1d(kernel_size=kernel_size_pool_1,stride=stride_pool_1,padding=padding_pool_1,dilation=dilation_pool_1),\n",
    "            nn.BatchNorm1d(n_conv_in),\n",
    "            nn.LeakyReLU(0.18),\n",
    "        )\n",
    "        \n",
    "        self.convlayer2=nn.Sequential(\n",
    "            nn.Conv1d(n_conv_in,n_conv_in2,kernel_size=kernel_size_2,stride=stride_2,padding=padding_2,dilation=dilation_2),\n",
    "            nn.BatchNorm1d(n_conv_in2),\n",
    "            nn.LeakyReLU(0.18),\n",
    "            \n",
    "            nn.MaxPool1d(kernel_size=kernel_size_pool_2,stride=stride_pool_2,padding=padding_pool_2,dilation=dilation_pool_2),\n",
    "            nn.BatchNorm1d(n_conv_in2),\n",
    "            nn.LeakyReLU(0.18),\n",
    "        )\n",
    "        \n",
    "        self.convlayer3=nn.Sequential(\n",
    "\n",
    "            nn.Conv1d(n_conv_in2,n_conv_in3,kernel_size=kernel_size_3,stride=stride_3,padding=padding_3,dilation=dilation_3),\n",
    "            nn.BatchNorm1d(n_conv_in3),\n",
    "            nn.LeakyReLU(0.18),\n",
    "            \n",
    "            nn.MaxPool1d(kernel_size=kernel_size_pool_3,stride=stride_pool_3,padding=padding_pool_3,dilation=dilation_pool_3),\n",
    "            nn.BatchNorm1d(n_conv_in3),\n",
    "            nn.LeakyReLU(0.18),\n",
    "        )\n",
    "\n",
    "        self.fc_block=nn.Sequential(\n",
    "            nn.Flatten(),\n",
    "            nn.Linear(n_conv_out*n_conv_in3,n_Flat_out),\n",
    "            nn.BatchNorm1d(n_Flat_out),\n",
    "            nn.LeakyReLU(0.18),\n",
    "            \n",
    "            nn.Linear(n_Flat_out,4),\n",
    "            \n",
    "        )\n",
    "        self.activation=nn.Softmax()\n",
    "        self.n_conv_out=n_conv_out\n",
    "\n",
    "    def forward(self,x):\n",
    "\n",
    "\n",
    "        Conv_out=self.convlayer1(x)\n",
    "        Conv_out2=self.convlayer2(Conv_out)\n",
    "        Conv_out3=self.convlayer3(Conv_out2)\n",
    "        Lin_out=self.fc_block(Conv_out3)\n",
    "        return Lin_out.float().unsqueeze_(2).unsqueeze_(3)\n"
   ]
  },
  {
   "cell_type": "code",
   "execution_count": 11,
   "metadata": {},
   "outputs": [
    {
     "data": {
      "text/plain": [
       "torch.Size([2, 1, 12])"
      ]
     },
     "execution_count": 11,
     "metadata": {},
     "output_type": "execute_result"
    }
   ],
   "source": [
    "x_train[:2,:,:].shape"
   ]
  },
  {
   "cell_type": "code",
   "execution_count": 10,
   "metadata": {},
   "outputs": [],
   "source": [
    "def Compile_class(hyperparams):\n",
    "    basis = hyperparams.basis\n",
    "    granulation = hyperparams.granulation\n",
    "    n_conv_in = hyperparams.n_conv_in\n",
    "    n_conv_in2 = hyperparams.n_conv_in2\n",
    "    n_conv_in3 = hyperparams.n_conv_in3\n",
    "    n_Flat_out = hyperparams.n_Flat_out\n",
    "    stride_1 = hyperparams.stride_1\n",
    "    stride_2 = hyperparams.stride_2\n",
    "    stride_3 = hyperparams.stride_3\n",
    "    stride_pool_1 = hyperparams.stride_pool_1\n",
    "    stride_pool_2 = hyperparams.stride_pool_2\n",
    "    stride_pool_3 = hyperparams.stride_pool_3\n",
    "    kernel_size_1 = hyperparams.kernel_size_1\n",
    "    kernel_size_2 = hyperparams.kernel_size_2\n",
    "    kernel_size_3 = hyperparams.kernel_size_3\n",
    "    kernel_size_pool_1 = hyperparams.kernel_size_pool_1\n",
    "    kernel_size_pool_2 = hyperparams.kernel_size_pool_2\n",
    "    kernel_size_pool_3 = hyperparams.kernel_size_pool_3\n",
    "    dilation_1 = hyperparams.dilation_1\n",
    "    dilation_2 = hyperparams.dilation_2\n",
    "    dilation_3 = hyperparams.dilation_3\n",
    "    dilation_pool_1 = hyperparams.dilation_pool_1\n",
    "    dilation_pool_2 = hyperparams.dilation_pool_2\n",
    "    dilation_pool_3 = hyperparams.dilation_pool_3\n",
    "    padding_1 = hyperparams.padding_1\n",
    "    padding_2 = hyperparams.padding_2\n",
    "    padding_3 = hyperparams.padding_3\n",
    "    padding_pool_1 = hyperparams.padding_pool_1\n",
    "    padding_pool_2 = hyperparams.padding_pool_2\n",
    "    padding_pool_3 = hyperparams.padding_pool_3\n",
    "\n",
    "    # Reste du code de la fonction\n",
    "\n",
    "    CNN=FCNN(hyperparams=hyperparams).cuda()\n",
    "    Conv_out=CNN.convlayer1(x_train[:2,:,:])\n",
    "    Conv_out2=CNN.convlayer2(Conv_out)\n",
    "    Conv_out3=CNN.convlayer3(Conv_out2)\n",
    "    n_conv_out=Conv_out3.shape[2]\n",
    "    hyperparams.n_conv_out=n_conv_out\n",
    "    class Functionnal_conv_classifier(nn.Module): \n",
    "        def __init__(self, hyperparams):\n",
    "            super(Functionnal_conv_classifier, self).__init__()\n",
    "            n_conv_in = hyperparams.n_conv_in\n",
    "            n_conv_in2 = hyperparams.n_conv_in2\n",
    "            n_conv_in3 = hyperparams.n_conv_in3\n",
    "            n_conv_out=hyperparams.n_conv_out\n",
    "            n_Flat_out = hyperparams.n_Flat_out\n",
    "            stride_1 = hyperparams.stride_1\n",
    "            stride_2 = hyperparams.stride_2\n",
    "            stride_3 = hyperparams.stride_3\n",
    "            stride_pool_1 = hyperparams.stride_pool_1\n",
    "            stride_pool_2 = hyperparams.stride_pool_2\n",
    "            stride_pool_3 = hyperparams.stride_pool_3\n",
    "            kernel_size_1 = hyperparams.kernel_size_1\n",
    "            kernel_size_2 = hyperparams.kernel_size_2\n",
    "            kernel_size_3 = hyperparams.kernel_size_3\n",
    "            kernel_size_pool_1 = hyperparams.kernel_size_pool_1\n",
    "            kernel_size_pool_2 = hyperparams.kernel_size_pool_2\n",
    "            kernel_size_pool_3 = hyperparams.kernel_size_pool_3\n",
    "            dilation_1 = hyperparams.dilation_1\n",
    "            dilation_2 = hyperparams.dilation_2\n",
    "            dilation_3 = hyperparams.dilation_3\n",
    "            dilation_pool_1 = hyperparams.dilation_pool_1\n",
    "            dilation_pool_2 = hyperparams.dilation_pool_2\n",
    "            dilation_pool_3 = hyperparams.dilation_pool_3\n",
    "            padding_1 = hyperparams.padding_1\n",
    "            padding_2 = hyperparams.padding_2\n",
    "            padding_3 = hyperparams.padding_3\n",
    "            padding_pool_1 = hyperparams.padding_pool_1\n",
    "            padding_pool_2 = hyperparams.padding_pool_2\n",
    "            padding_pool_3 = hyperparams.padding_pool_3\n",
    "\n",
    "\n",
    "            self.Relu=nn.ReLU()\n",
    "            \n",
    "            self.convlayer1=nn.Sequential(\n",
    "                nn.Conv1d(1,n_conv_in,kernel_size=kernel_size_1,stride=stride_1,padding=padding_1,dilation=dilation_1),\n",
    "                nn.BatchNorm1d(n_conv_in),\n",
    "                nn.LeakyReLU(0.18),\n",
    "                hyperparams.activation,\n",
    "                nn.MaxPool1d(kernel_size=kernel_size_pool_1,stride=stride_pool_1,padding=padding_pool_1,dilation=dilation_pool_1),\n",
    "                nn.BatchNorm1d(n_conv_in),\n",
    "                nn.LeakyReLU(0.18),\n",
    "                hyperparams.activation,\n",
    "            )\n",
    "            \n",
    "            self.convlayer2=nn.Sequential(\n",
    "                nn.Conv1d(n_conv_in,n_conv_in2,kernel_size=kernel_size_2,stride=stride_2,padding=padding_2,dilation=dilation_2),\n",
    "                nn.BatchNorm1d(n_conv_in2),\n",
    "                nn.LeakyReLU(0.18),\n",
    "                hyperparams.activation,\n",
    "                nn.MaxPool1d(kernel_size=kernel_size_pool_2,stride=stride_pool_2,padding=padding_pool_2,dilation=dilation_pool_2),\n",
    "                nn.BatchNorm1d(n_conv_in2),\n",
    "                nn.LeakyReLU(0.18),\n",
    "                hyperparams.activation,\n",
    "            )\n",
    "            \n",
    "            self.convlayer3=nn.Sequential(\n",
    "\n",
    "                nn.Conv1d(n_conv_in2,n_conv_in3,kernel_size=kernel_size_3,stride=stride_3,padding=padding_3,dilation=dilation_3),\n",
    "                nn.BatchNorm1d(n_conv_in3),\n",
    "                nn.LeakyReLU(0.18),\n",
    "                hyperparams.activation,\n",
    "                nn.MaxPool1d(kernel_size=kernel_size_pool_3,stride=stride_pool_3,padding=padding_pool_3,dilation=dilation_pool_3),\n",
    "                nn.BatchNorm1d(n_conv_in3),\n",
    "                nn.LeakyReLU(0.18),\n",
    "            )\n",
    "\n",
    "            self.fc_block=nn.Sequential(\n",
    "                nn.Flatten(),\n",
    "                nn.Linear(n_conv_out*n_conv_in3,n_Flat_out),\n",
    "                nn.BatchNorm1d(n_Flat_out),\n",
    "                nn.LeakyReLU(0.18),\n",
    "                hyperparams.activation,\n",
    "                nn.Linear(n_Flat_out,4),\n",
    "                \n",
    "            )\n",
    "            self.n_conv_out=n_conv_out\n",
    "\n",
    "        def forward(self,x):\n",
    "            Conv_out=self.convlayer1(x)\n",
    "            Conv_out2=self.convlayer2(Conv_out)\n",
    "            Conv_out3=self.convlayer3(Conv_out2)\n",
    "            Lin_out=self.fc_block(Conv_out3)\n",
    "            return Lin_out.float().unsqueeze_(2).unsqueeze_(3)\n",
    "    module= Functionnal_conv_classifier(hyperparams=hyperparams)\n",
    "    return module"
   ]
  },
  {
   "cell_type": "code",
   "execution_count": 31,
   "metadata": {},
   "outputs": [],
   "source": [
    "def Compile_train(module, lr, opt=\"Adam\", loss=nn.CrossEntropyLoss(), batch_size=batch_size):\n",
    "    betas = [0.5, 0.999]\n",
    "    if opt == \"Adam\":\n",
    "        optimizer = optim.Adam(module.parameters(), lr=lr, betas=betas)\n",
    "    else:\n",
    "        optimizer = optim.SGD(module.parameters(), lr=lr)\n",
    "    def train(n_epochs, module, optimizer, loss, batch_size):\n",
    "        for epoch in range(n_epochs):\n",
    "            train_loss = torch.tensor(0).cuda().long()\n",
    "            \n",
    "            # Mélanger les données d'entraînement\n",
    "            indices = list(range(len(x_train)))\n",
    "            random.shuffle(indices)\n",
    "            \n",
    "            batch_index = 0  # Indice de batch\n",
    "            \n",
    "            for i in range(int(len(x_train) / batch_size)):\n",
    "                # Obtenir les indices des données mélangées\n",
    "                batch_indices = indices[batch_index:batch_index+batch_size]\n",
    "                \n",
    "                functions_train = x_train[batch_indices,:,:]\n",
    "                labels_train = y_train[batch_indices]\n",
    "                \n",
    "                optimizer.zero_grad()\n",
    "                output = module(functions_train)\n",
    "                loss_value = loss(input=output, target=labels_train)\n",
    "                \n",
    "                loss_value.backward()\n",
    "                optimizer.step()\n",
    "                train_loss += loss_value.long()\n",
    "                \n",
    "                batch_index += batch_size  # Passer au prochain batch\n",
    "                \n",
    "            return train_loss, loss_value\n",
    "    \n",
    "    return lambda n_epochs: train(n_epochs, module, optimizer, loss, batch_size)\n"
   ]
  },
  {
   "cell_type": "code",
   "execution_count": 255,
   "metadata": {},
   "outputs": [],
   "source": [
    "def Hyperparameter_Test(hyperparameters):\n",
    "\n",
    "    x_train,x_test,y_train,y_test=sklearn.model_selection.train_test_split(X,labels,shuffle=True)\n",
    "    ##Compilation de la classe \n",
    "    Model=Compile_class(hyperparams=hyperparameters).cuda().apply(weights_init_normal)\n",
    "    \n",
    "    \n",
    "    mean_accuracy=torch.tensor([0])\n",
    "    train_fn = Compile_train(module=Model, lr=lr_adam, opt=\"Adam\", loss=loss_function, batch_size=batch_size)\n",
    "    for i in tqdm(range(hyperparameters.n_epochs)):\n",
    "            train_fn(n_epochs=1)\n",
    "            \n",
    "            accuracy=((torch.sum(torch.argmax(Model(x_test),dim=1)==y_test)/x_test.shape[0])*100)\n",
    "            mean_accuracy=torch.cat([mean_accuracy,accuracy.cpu().unsqueeze(0)],dim=0)\n",
    "    Mean_acc=((torch.mean(mean_accuracy[1:].float()))).detach().cpu().numpy()\n",
    "    Max_acc=((torch.max(mean_accuracy[1:].float()))).detach().cpu().numpy()\n",
    "    Var_acc=((torch.var(mean_accuracy[1:].float()))).detach().cpu().numpy()\n",
    "    print(\"Précision moyenne =\",Mean_acc,\"%\")  \n",
    "    print(\"Précision max=\",Max_acc,\"%\")  \n",
    "    print(\"Variance des précisions =\",Var_acc)  \n",
    "    # print(mean_accuracy.unsqueeze(1)[1:]) \n",
    "\n",
    "    \n",
    "    \n",
    "    grid_test=fd(x_test[:,0,:].cpu(),grid_points=grid_points).to_basis(basis)\n",
    "    grid_convlayer1=fd(Model.convlayer1(x_test)[0,:,:].detach().cpu(),grid_points=linspace(1,T,Model.convlayer1(x_test).shape[2]))\n",
    "    grid_convlayer2=fd(Model.convlayer2(Model.convlayer1(x_test))[:,0,:].detach().cpu(),grid_points=linspace(1,T,Model.convlayer2(Model.convlayer1(x_test)).shape[2]))\n",
    "    grid_convlayer3=fd(Model.convlayer3(Model.convlayer2(Model.convlayer1(x_test)))[:,0,:].detach().cpu(),grid_points=linspace(1,T,Model.convlayer3(Model.convlayer2(Model.convlayer1(x_test))).shape[2]))\n",
    "    n_best=torch.argmax(mean_accuracy[1:])\n",
    "        \n",
    "\n",
    "    import gc\n",
    "    torch.cuda.empty_cache()\n",
    "    gc.collect()\n",
    "    return Model,grid_convlayer1,grid_convlayer2,grid_convlayer3,mean_accuracy[1:],n_best\n",
    "\n"
   ]
  },
  {
   "cell_type": "code",
   "execution_count": 132,
   "metadata": {},
   "outputs": [
    {
     "data": {
      "text/plain": [
       "(torch.Size([2, 256, 4]), torch.Size([2, 256, 4]), torch.Size([2, 256, 2]))"
      ]
     },
     "execution_count": 132,
     "metadata": {},
     "output_type": "execute_result"
    }
   ],
   "source": [
    "CNN=Compile_class(hyperparams=Defaults_arguments).cuda()\n",
    "optimizer=optim.Adam(CNN.parameters(),lr=Defaults_arguments.lr)\n",
    "\n",
    "Conv_out=CNN.convlayer1(x_train[:2,:,:])\n",
    "Conv_out2=CNN.convlayer2(Conv_out)\n",
    "Conv_out3=CNN.convlayer3(Conv_out2)\n",
    "Conv_out.shape,Conv_out2.shape,Conv_out3.shape\n"
   ]
  },
  {
   "cell_type": "code",
   "execution_count": 135,
   "metadata": {},
   "outputs": [
    {
     "name": "stderr",
     "output_type": "stream",
     "text": [
      "100%|██████████| 25/25 [00:00<00:00, 77.03it/s]\n"
     ]
    },
    {
     "name": "stdout",
     "output_type": "stream",
     "text": [
      "Précision moyenne = 83.89189 %\n",
      "Précision max= 91.8919 %\n",
      "Variance des précisions = 48.38082\n"
     ]
    }
   ],
   "source": [
    "\n",
    "Model,grid_convlayer1,grid_convlayer2,grid_convlayer3, Acc,n_best=Hyperparameter_Test(hyperparameters=Defaults_arguments)"
   ]
  },
  {
   "cell_type": "code",
   "execution_count": 101,
   "metadata": {},
   "outputs": [
    {
     "data": {
      "image/png": "[encoded data removed]",
      "text/plain": [
       "<Figure size 640x480 with 1 Axes>"
      ]
     },
     "metadata": {},
     "output_type": "display_data"
    },
    {
     "data": {
      "text/plain": [
       "(32,)"
      ]
     },
     "execution_count": 101,
     "metadata": {},
     "output_type": "execute_result"
    }
   ],
   "source": [
    "grid_convlayer1.plot()\n",
    "plt.show()\n"
   ]
  },
  {
   "cell_type": "code",
   "execution_count": 142,
   "metadata": {},
   "outputs": [],
   "source": [
    "def Hyper_parameter_GridSearch(hyperparams,parameter, grid):\n",
    "    Total_accuracy_max = torch.tensor([0])\n",
    "    Optimum_parameter = grid[0]\n",
    "\n",
    "    \n",
    "    \n",
    "    # Obtenir l'attribut correspondant au paramètre spécifié\n",
    "    attribute = getattr(hyperparams, parameter)\n",
    "    \n",
    "    for value in grid:\n",
    "        # Modifier la valeur de l'attribut de la classe HyperParameters\n",
    "        setattr(hyperparams, parameter, value)\n",
    "        \n",
    "        # Utiliser l'instance de HyperParameters pour effectuer les tests\n",
    "        _, _, _, _, accuracy,n_best = Hyperparameter_Test(hyperparameters=hyperparams)\n",
    "        Total_accuracy_max = torch.cat([Total_accuracy_max, torch.tensor([torch.max(accuracy)])])\n",
    "\n",
    "    Optimum_parameter = grid[torch.argmax(Total_accuracy_max[1:])]\n",
    "    return Optimum_parameter, torch.max(Total_accuracy_max[1:]),n_best\n",
    "\n"
   ]
  },
  {
   "cell_type": "code",
   "execution_count": 144,
   "metadata": {},
   "outputs": [],
   "source": [
    "hyperparameters_opt=Defaults_arguments"
   ]
  },
  {
   "cell_type": "code",
   "execution_count": 145,
   "metadata": {},
   "outputs": [
    {
     "name": "stderr",
     "output_type": "stream",
     "text": [
      "100%|██████████| 25/25 [00:00<00:00, 60.93it/s]\n"
     ]
    },
    {
     "name": "stdout",
     "output_type": "stream",
     "text": [
      "Précision moyenne = 84.64865 %\n",
      "Précision max= 91.8919 %\n",
      "Variance des précisions = 29.656698\n"
     ]
    },
    {
     "name": "stderr",
     "output_type": "stream",
     "text": [
      "100%|██████████| 25/25 [00:00<00:00, 106.40it/s]\n"
     ]
    },
    {
     "name": "stdout",
     "output_type": "stream",
     "text": [
      "Précision moyenne = 84.97297 %\n",
      "Précision max= 91.8919 %\n",
      "Variance des précisions = 15.266617\n"
     ]
    },
    {
     "name": "stderr",
     "output_type": "stream",
     "text": [
      "100%|██████████| 25/25 [00:00<00:00, 115.64it/s]\n"
     ]
    },
    {
     "name": "stdout",
     "output_type": "stream",
     "text": [
      "Précision moyenne = 91.24324 %\n",
      "Précision max= 97.2973 %\n",
      "Variance des précisions = 9.909923\n"
     ]
    },
    {
     "name": "stderr",
     "output_type": "stream",
     "text": [
      "100%|██████████| 25/25 [00:00<00:00, 111.45it/s]\n"
     ]
    },
    {
     "name": "stdout",
     "output_type": "stream",
     "text": [
      "Précision moyenne = 93.08109 %\n",
      "Précision max= 97.2973 %\n",
      "Variance des précisions = 8.570731\n"
     ]
    }
   ],
   "source": [
    "param_opt,Max_acc,n_best=Hyper_parameter_GridSearch(hyperparameters_opt,grid = (32,64,128,256),parameter=\"n_Flat_out\")"
   ]
  },
  {
   "cell_type": "code",
   "execution_count": 146,
   "metadata": {},
   "outputs": [
    {
     "data": {
      "text/plain": [
       "(128, tensor(97.2973), tensor(11))"
      ]
     },
     "execution_count": 146,
     "metadata": {},
     "output_type": "execute_result"
    }
   ],
   "source": [
    "param_opt,Max_acc,n_best"
   ]
  },
  {
   "cell_type": "code",
   "execution_count": 147,
   "metadata": {},
   "outputs": [],
   "source": [
    "grids = {\n",
    "    \"n_epochs\": 25,\n",
    "    \"basis\": B(knots=linspace(1,T,6),order=3),\n",
    "    \"granulation\": 2000,\n",
    "    \"n_conv_in\": (32,64, 128,256),\n",
    "    \"n_conv_in2\": (32,64, 128,256),\n",
    "    \"n_conv_in3\": (32,64, 128,256),\n",
    "    \"n_Flat_out\": (32,64, 128,256),\n",
    "    \"stride_1\": (1,2),\n",
    "    \"stride_2\": 1,\n",
    "    \"stride_3\": 1,\n",
    "    \"stride_pool_1\": 2,\n",
    "    \"stride_pool_2\": 2,\n",
    "    \"stride_pool_3\": 1,\n",
    "    \"kernel_size_1\": (3,4,5),\n",
    "    \"kernel_size_2\": (3,4,5),\n",
    "    \"kernel_size_3\": (3,4,5),\n",
    "    \"kernel_size_pool_1\": np.arange(3)[2:],\n",
    "    \"kernel_size_pool_2\": np.arange(3)[2:],\n",
    "    \"kernel_size_pool_3\": (2,3),\n",
    "    \"dilation_1\": 1,\n",
    "    \"dilation_2\": 1,\n",
    "    \"dilation_3\": 1,\n",
    "    \"dilation_pool_1\": 1,\n",
    "    \"dilation_pool_2\": 1,\n",
    "    \"dilation_pool_3\": 1,\n",
    "    \"padding_1\": np.arange(10)[1:],\n",
    "    \"padding_2\": np.arange(10)[1:],\n",
    "    \"padding_3\": np.arange(10)[1:],\n",
    "    \"padding_pool_1\": np.arange(4)[1:],\n",
    "    \"padding_pool_2\": np.arange(4)[1:],\n",
    "    \"padding_pool_3\": np.arange(4)[1:],\n",
    "    \"opt\": \"Adam\",\n",
    "    \"lr\": (0.00089,0.0001,0.00007),\n",
    "    \"loss\": nn.CrossEntropyLoss()\n",
    "}\n"
   ]
  },
  {
   "cell_type": "code",
   "execution_count": 148,
   "metadata": {},
   "outputs": [],
   "source": [
    "param_list=[\"stride_1\",\"kernel_size_1\",\"kernel_size_3\",\"kernel_size_pool_1\",\"kernel_size_pool_2\",\"kernel_size_3\",\"n_conv_in\",\"n_conv_in2\",\"n_conv_in3\",\"n_Flat_out\",\"lr\"]"
   ]
  },
  {
   "cell_type": "code",
   "execution_count": 279,
   "metadata": {},
   "outputs": [],
   "source": [
    "def Hyperparameter_Search(hyperparams, grids, parameters):\n",
    "    best_parameters = HyperParameters()\n",
    "    best_accuracy = 0.0\n",
    "    mean_acc_base=0.0\n",
    "    var_acc=0.0\n",
    "    i=1\n",
    "    # Boucle sur les paramètres\n",
    "    for param in parameters:\n",
    "        # Vérifier si le paramètre est dans la grille\n",
    "        if param in grids:\n",
    "            grid_values = grids[param]  # Récupérer les valeurs de la grille pour le paramètre donné\n",
    "\n",
    "            # Boucle sur les valeurs de la grille pour le paramètre\n",
    "            for value in grid_values:\n",
    "                # Mettre à jour les hyperparamètres avec la valeur actuelle du paramètre\n",
    "                setattr(hyperparams, param, value)\n",
    "\n",
    "                # Appeler la fonction de Grid Search avec les paramètres spécifiés\n",
    "                optimum_parameter, total_accuracy,n_best = Hyper_parameter_GridSearch(hyperparams,grid=grid_values,parameter=param)\n",
    "                Mean_acc=((torch.mean(total_accuracy.float()))).detach().cpu().numpy()\n",
    "                Max_acc=((torch.max(total_accuracy.float()))).detach().cpu().numpy()\n",
    "                Var_acc=((torch.var(total_accuracy.float()))).detach().cpu().numpy()\n",
    "            \n",
    "                # Mettre à jour le meilleur résultat si nécessaire\n",
    "                if total_accuracy >= best_accuracy:\n",
    "                    if total_accuracy==best_accuracy:\n",
    "                        if var_acc>Var_acc:\n",
    "                            best_parameters.param = optimum_parameter\n",
    "                            best_accuracy = total_accuracy\n",
    "                    else:\n",
    "                        best_parameters.param = optimum_parameter\n",
    "                        best_accuracy = total_accuracy\n",
    "                    i+=1\n",
    "    return best_parameters, best_accuracy,n_best,i\n"
   ]
  },
  {
   "cell_type": "code",
   "execution_count": 280,
   "metadata": {},
   "outputs": [],
   "source": [
    "Defaults_arguments=HyperParameters()"
   ]
  },
  {
   "cell_type": "code",
   "execution_count": 281,
   "metadata": {},
   "outputs": [
    {
     "name": "stderr",
     "output_type": "stream",
     "text": [
      "100%|██████████| 25/25 [00:00<00:00, 72.86it/s]\n"
     ]
    },
    {
     "name": "stdout",
     "output_type": "stream",
     "text": [
      "Précision moyenne = 90.48648 %\n",
      "Précision max= 94.5946 %\n",
      "Variance des précisions = 5.551509\n"
     ]
    },
    {
     "name": "stderr",
     "output_type": "stream",
     "text": [
      "100%|██████████| 25/25 [00:00<00:00, 113.97it/s]\n"
     ]
    },
    {
     "name": "stdout",
     "output_type": "stream",
     "text": [
      "Précision moyenne = 93.837845 %\n",
      "Précision max= 97.2973 %\n",
      "Variance des précisions = 11.882159\n"
     ]
    },
    {
     "name": "stderr",
     "output_type": "stream",
     "text": [
      "100%|██████████| 25/25 [00:00<00:00, 115.09it/s]\n"
     ]
    },
    {
     "name": "stdout",
     "output_type": "stream",
     "text": [
      "Précision moyenne = 95.56758 %\n",
      "Précision max= 97.2973 %\n",
      "Variance des précisions = 3.579255\n"
     ]
    },
    {
     "name": "stderr",
     "output_type": "stream",
     "text": [
      "100%|██████████| 25/25 [00:00<00:00, 115.30it/s]\n"
     ]
    },
    {
     "name": "stdout",
     "output_type": "stream",
     "text": [
      "Précision moyenne = 86.27027 %\n",
      "Précision max= 91.8919 %\n",
      "Variance des précisions = 12.734353\n"
     ]
    },
    {
     "name": "stderr",
     "output_type": "stream",
     "text": [
      "100%|██████████| 25/25 [00:00<00:00, 116.86it/s]\n"
     ]
    },
    {
     "name": "stdout",
     "output_type": "stream",
     "text": [
      "Précision moyenne = 83.89189 %\n",
      "Précision max= 97.2973 %\n",
      "Variance des précisions = 39.858784\n"
     ]
    },
    {
     "name": "stderr",
     "output_type": "stream",
     "text": [
      "100%|██████████| 25/25 [00:00<00:00, 111.53it/s]\n"
     ]
    },
    {
     "name": "stdout",
     "output_type": "stream",
     "text": [
      "Précision moyenne = 89.51352 %\n",
      "Précision max= 94.5946 %\n",
      "Variance des précisions = 25.760904\n"
     ]
    },
    {
     "name": "stderr",
     "output_type": "stream",
     "text": [
      "100%|██████████| 25/25 [00:00<00:00, 119.99it/s]\n"
     ]
    },
    {
     "name": "stdout",
     "output_type": "stream",
     "text": [
      "Précision moyenne = 95.89189 %\n",
      "Précision max= 97.2973 %\n",
      "Variance des précisions = 5.551501\n"
     ]
    },
    {
     "name": "stderr",
     "output_type": "stream",
     "text": [
      "100%|██████████| 25/25 [00:00<00:00, 119.38it/s]\n"
     ]
    },
    {
     "name": "stdout",
     "output_type": "stream",
     "text": [
      "Précision moyenne = 84.432434 %\n",
      "Précision max= 89.189186 %\n",
      "Variance des précisions = 28.78012\n"
     ]
    },
    {
     "name": "stderr",
     "output_type": "stream",
     "text": [
      "100%|██████████| 25/25 [00:00<00:00, 120.05it/s]\n"
     ]
    },
    {
     "name": "stdout",
     "output_type": "stream",
     "text": [
      "Précision moyenne = 89.189186 %\n",
      "Précision max= 94.5946 %\n",
      "Variance des précisions = 39.56662\n"
     ]
    },
    {
     "name": "stderr",
     "output_type": "stream",
     "text": [
      "100%|██████████| 25/25 [00:00<00:00, 121.47it/s]\n"
     ]
    },
    {
     "name": "stdout",
     "output_type": "stream",
     "text": [
      "Précision moyenne = 81.62162 %\n",
      "Précision max= 91.8919 %\n",
      "Variance des précisions = 28.609694\n"
     ]
    },
    {
     "name": "stderr",
     "output_type": "stream",
     "text": [
      "100%|██████████| 25/25 [00:00<00:00, 119.40it/s]\n"
     ]
    },
    {
     "name": "stdout",
     "output_type": "stream",
     "text": [
      "Précision moyenne = 81.40541 %\n",
      "Précision max= 86.48649 %\n",
      "Variance des précisions = 31.23936\n"
     ]
    },
    {
     "name": "stderr",
     "output_type": "stream",
     "text": [
      "100%|██████████| 25/25 [00:00<00:00, 120.56it/s]\n"
     ]
    },
    {
     "name": "stdout",
     "output_type": "stream",
     "text": [
      "Précision moyenne = 78.48649 %\n",
      "Précision max= 89.189186 %\n",
      "Variance des précisions = 34.380325\n"
     ]
    },
    {
     "name": "stderr",
     "output_type": "stream",
     "text": [
      "100%|██████████| 25/25 [00:00<00:00, 119.74it/s]\n"
     ]
    },
    {
     "name": "stdout",
     "output_type": "stream",
     "text": [
      "Précision moyenne = 85.62162 %\n",
      "Précision max= 91.8919 %\n",
      "Variance des précisions = 10.177745\n"
     ]
    },
    {
     "name": "stderr",
     "output_type": "stream",
     "text": [
      "100%|██████████| 25/25 [00:00<00:00, 100.66it/s]\n"
     ]
    },
    {
     "name": "stdout",
     "output_type": "stream",
     "text": [
      "Précision moyenne = 94.054054 %\n",
      "Précision max= 97.2973 %\n",
      "Variance des précisions = 17.6528\n"
     ]
    },
    {
     "name": "stderr",
     "output_type": "stream",
     "text": [
      "100%|██████████| 25/25 [00:00<00:00, 113.09it/s]\n"
     ]
    },
    {
     "name": "stdout",
     "output_type": "stream",
     "text": [
      "Précision moyenne = 93.945946 %\n",
      "Précision max= 97.2973 %\n",
      "Variance des précisions = 5.648897\n"
     ]
    },
    {
     "name": "stderr",
     "output_type": "stream",
     "text": [
      "100%|██████████| 25/25 [00:00<00:00, 116.10it/s]\n"
     ]
    },
    {
     "name": "stdout",
     "output_type": "stream",
     "text": [
      "Précision moyenne = 95.78379 %\n",
      "Précision max= 100.0 %\n",
      "Variance des précisions = 22.57121\n"
     ]
    },
    {
     "name": "stderr",
     "output_type": "stream",
     "text": [
      "100%|██████████| 25/25 [00:00<00:00, 117.83it/s]\n"
     ]
    },
    {
     "name": "stdout",
     "output_type": "stream",
     "text": [
      "Précision moyenne = 89.837845 %\n",
      "Précision max= 94.5946 %\n",
      "Variance des précisions = 13.562229\n"
     ]
    },
    {
     "name": "stderr",
     "output_type": "stream",
     "text": [
      "100%|██████████| 25/25 [00:00<00:00, 112.76it/s]\n"
     ]
    },
    {
     "name": "stdout",
     "output_type": "stream",
     "text": [
      "Précision moyenne = 90.702705 %\n",
      "Précision max= 94.5946 %\n",
      "Variance des précisions = 26.832235\n"
     ]
    },
    {
     "name": "stderr",
     "output_type": "stream",
     "text": [
      "100%|██████████| 25/25 [00:00<00:00, 118.77it/s]\n"
     ]
    },
    {
     "name": "stdout",
     "output_type": "stream",
     "text": [
      "Précision moyenne = 93.945946 %\n",
      "Précision max= 100.0 %\n",
      "Variance des précisions = 21.475534\n"
     ]
    },
    {
     "name": "stderr",
     "output_type": "stream",
     "text": [
      "100%|██████████| 25/25 [00:00<00:00, 120.54it/s]\n"
     ]
    },
    {
     "name": "stdout",
     "output_type": "stream",
     "text": [
      "Précision moyenne = 87.24324 %\n",
      "Précision max= 94.5946 %\n",
      "Variance des précisions = 24.665222\n"
     ]
    },
    {
     "name": "stderr",
     "output_type": "stream",
     "text": [
      "100%|██████████| 25/25 [00:00<00:00, 110.53it/s]\n"
     ]
    },
    {
     "name": "stdout",
     "output_type": "stream",
     "text": [
      "Précision moyenne = 85.72974 %\n",
      "Précision max= 94.5946 %\n",
      "Variance des précisions = 52.057484\n"
     ]
    },
    {
     "name": "stderr",
     "output_type": "stream",
     "text": [
      "100%|██████████| 25/25 [00:00<00:00, 107.36it/s]\n"
     ]
    },
    {
     "name": "stdout",
     "output_type": "stream",
     "text": [
      "Précision moyenne = 80.21622 %\n",
      "Précision max= 89.189186 %\n",
      "Variance des précisions = 54.00536\n"
     ]
    },
    {
     "name": "stderr",
     "output_type": "stream",
     "text": [
      "100%|██████████| 25/25 [00:00<00:00, 103.88it/s]\n"
     ]
    },
    {
     "name": "stdout",
     "output_type": "stream",
     "text": [
      "Précision moyenne = 92.54055 %\n",
      "Précision max= 97.2973 %\n",
      "Variance des précisions = 17.82323\n"
     ]
    },
    {
     "name": "stderr",
     "output_type": "stream",
     "text": [
      "100%|██████████| 25/25 [00:00<00:00, 108.85it/s]\n"
     ]
    },
    {
     "name": "stdout",
     "output_type": "stream",
     "text": [
      "Précision moyenne = 85.837845 %\n",
      "Précision max= 94.5946 %\n",
      "Variance des précisions = 25.127844\n"
     ]
    },
    {
     "name": "stderr",
     "output_type": "stream",
     "text": [
      "100%|██████████| 25/25 [00:00<00:00, 110.54it/s]\n"
     ]
    },
    {
     "name": "stdout",
     "output_type": "stream",
     "text": [
      "Précision moyenne = 89.837845 %\n",
      "Précision max= 94.5946 %\n",
      "Variance des précisions = 25.127851\n"
     ]
    },
    {
     "name": "stderr",
     "output_type": "stream",
     "text": [
      "100%|██████████| 25/25 [00:00<00:00, 125.00it/s]\n"
     ]
    },
    {
     "name": "stdout",
     "output_type": "stream",
     "text": [
      "Précision moyenne = 84.64865 %\n",
      "Précision max= 91.8919 %\n",
      "Variance des précisions = 10.7864685\n"
     ]
    },
    {
     "name": "stderr",
     "output_type": "stream",
     "text": [
      "100%|██████████| 25/25 [00:00<00:00, 107.66it/s]\n"
     ]
    },
    {
     "name": "stdout",
     "output_type": "stream",
     "text": [
      "Précision moyenne = 83.02703 %\n",
      "Précision max= 94.5946 %\n",
      "Variance des précisions = 31.96981\n"
     ]
    },
    {
     "name": "stderr",
     "output_type": "stream",
     "text": [
      "100%|██████████| 25/25 [00:00<00:00, 118.50it/s]\n"
     ]
    },
    {
     "name": "stdout",
     "output_type": "stream",
     "text": [
      "Précision moyenne = 82.59459 %\n",
      "Précision max= 91.8919 %\n",
      "Variance des précisions = 26.223534\n"
     ]
    },
    {
     "name": "stderr",
     "output_type": "stream",
     "text": [
      "100%|██████████| 25/25 [00:00<00:00, 116.22it/s]\n"
     ]
    },
    {
     "name": "stdout",
     "output_type": "stream",
     "text": [
      "Précision moyenne = 89.40541 %\n",
      "Précision max= 94.5946 %\n",
      "Variance des précisions = 25.51742\n"
     ]
    },
    {
     "name": "stderr",
     "output_type": "stream",
     "text": [
      "100%|██████████| 25/25 [00:00<00:00, 115.52it/s]\n"
     ]
    },
    {
     "name": "stdout",
     "output_type": "stream",
     "text": [
      "Précision moyenne = 93.72973 %\n",
      "Précision max= 100.0 %\n",
      "Variance des précisions = 28.439247\n"
     ]
    },
    {
     "name": "stderr",
     "output_type": "stream",
     "text": [
      "100%|██████████| 25/25 [00:00<00:00, 122.28it/s]\n"
     ]
    },
    {
     "name": "stdout",
     "output_type": "stream",
     "text": [
      "Précision moyenne = 91.67568 %\n",
      "Précision max= 100.0 %\n",
      "Variance des précisions = 79.69322\n"
     ]
    },
    {
     "name": "stderr",
     "output_type": "stream",
     "text": [
      "100%|██████████| 25/25 [00:00<00:00, 119.07it/s]\n"
     ]
    },
    {
     "name": "stdout",
     "output_type": "stream",
     "text": [
      "Précision moyenne = 90.16217 %\n",
      "Précision max= 97.2973 %\n",
      "Variance des précisions = 28.536663\n"
     ]
    },
    {
     "name": "stderr",
     "output_type": "stream",
     "text": [
      "100%|██████████| 25/25 [00:00<00:00, 120.77it/s]\n"
     ]
    },
    {
     "name": "stdout",
     "output_type": "stream",
     "text": [
      "Précision moyenne = 92.54055 %\n",
      "Précision max= 97.2973 %\n",
      "Variance des précisions = 10.518635\n"
     ]
    },
    {
     "name": "stderr",
     "output_type": "stream",
     "text": [
      "100%|██████████| 25/25 [00:00<00:00, 124.18it/s]\n"
     ]
    },
    {
     "name": "stdout",
     "output_type": "stream",
     "text": [
      "Précision moyenne = 99.02703 %\n",
      "Précision max= 100.0 %\n",
      "Variance des précisions = 2.3618155\n"
     ]
    },
    {
     "name": "stderr",
     "output_type": "stream",
     "text": [
      "100%|██████████| 25/25 [00:00<00:00, 123.58it/s]\n"
     ]
    },
    {
     "name": "stdout",
     "output_type": "stream",
     "text": [
      "Précision moyenne = 89.081085 %\n",
      "Précision max= 94.5946 %\n",
      "Variance des précisions = 25.858307\n"
     ]
    },
    {
     "name": "stderr",
     "output_type": "stream",
     "text": [
      "100%|██████████| 25/25 [00:00<00:00, 124.18it/s]\n"
     ]
    },
    {
     "name": "stdout",
     "output_type": "stream",
     "text": [
      "Précision moyenne = 93.08109 %\n",
      "Précision max= 97.2973 %\n",
      "Variance des précisions = 13.440484\n"
     ]
    },
    {
     "name": "stderr",
     "output_type": "stream",
     "text": [
      "100%|██████████| 25/25 [00:00<00:00, 122.85it/s]\n"
     ]
    },
    {
     "name": "stdout",
     "output_type": "stream",
     "text": [
      "Précision moyenne = 93.72971 %\n",
      "Précision max= 100.0 %\n",
      "Variance des précisions = 32.70027\n"
     ]
    },
    {
     "name": "stderr",
     "output_type": "stream",
     "text": [
      "100%|██████████| 25/25 [00:00<00:00, 120.55it/s]\n"
     ]
    },
    {
     "name": "stdout",
     "output_type": "stream",
     "text": [
      "Précision moyenne = 93.08109 %\n",
      "Précision max= 100.0 %\n",
      "Variance des précisions = 23.17993\n"
     ]
    },
    {
     "name": "stderr",
     "output_type": "stream",
     "text": [
      "100%|██████████| 25/25 [00:00<00:00, 112.99it/s]\n"
     ]
    },
    {
     "name": "stdout",
     "output_type": "stream",
     "text": [
      "Précision moyenne = 90.054054 %\n",
      "Précision max= 97.2973 %\n",
      "Variance des précisions = 31.48285\n"
     ]
    },
    {
     "name": "stderr",
     "output_type": "stream",
     "text": [
      "100%|██████████| 25/25 [00:00<00:00, 121.73it/s]\n"
     ]
    },
    {
     "name": "stdout",
     "output_type": "stream",
     "text": [
      "Précision moyenne = 95.567566 %\n",
      "Précision max= 100.0 %\n",
      "Variance des précisions = 8.448994\n"
     ]
    },
    {
     "name": "stderr",
     "output_type": "stream",
     "text": [
      "100%|██████████| 25/25 [00:00<00:00, 123.55it/s]\n"
     ]
    },
    {
     "name": "stdout",
     "output_type": "stream",
     "text": [
      "Précision moyenne = 74.054054 %\n",
      "Précision max= 91.8919 %\n",
      "Variance des précisions = 44.436333\n"
     ]
    },
    {
     "name": "stderr",
     "output_type": "stream",
     "text": [
      "100%|██████████| 25/25 [00:00<00:00, 120.54it/s]\n"
     ]
    },
    {
     "name": "stdout",
     "output_type": "stream",
     "text": [
      "Précision moyenne = 90.810814 %\n",
      "Précision max= 100.0 %\n",
      "Variance des précisions = 17.652796\n"
     ]
    },
    {
     "name": "stderr",
     "output_type": "stream",
     "text": [
      "100%|██████████| 25/25 [00:00<00:00, 116.09it/s]\n"
     ]
    },
    {
     "name": "stdout",
     "output_type": "stream",
     "text": [
      "Précision moyenne = 89.4054 %\n",
      "Précision max= 91.8919 %\n",
      "Variance des précisions = 5.429763\n"
     ]
    },
    {
     "name": "stderr",
     "output_type": "stream",
     "text": [
      "100%|██████████| 25/25 [00:00<00:00, 122.90it/s]\n"
     ]
    },
    {
     "name": "stdout",
     "output_type": "stream",
     "text": [
      "Précision moyenne = 93.1892 %\n",
      "Précision max= 100.0 %\n",
      "Variance des précisions = 16.508398\n"
     ]
    },
    {
     "name": "stderr",
     "output_type": "stream",
     "text": [
      "100%|██████████| 25/25 [00:00<00:00, 122.84it/s]\n"
     ]
    },
    {
     "name": "stdout",
     "output_type": "stream",
     "text": [
      "Précision moyenne = 91.459465 %\n",
      "Précision max= 97.2973 %\n",
      "Variance des précisions = 44.241554\n"
     ]
    },
    {
     "name": "stderr",
     "output_type": "stream",
     "text": [
      "100%|██████████| 25/25 [00:00<00:00, 123.48it/s]\n"
     ]
    },
    {
     "name": "stdout",
     "output_type": "stream",
     "text": [
      "Précision moyenne = 96.21622 %\n",
      "Précision max= 100.0 %\n",
      "Variance des précisions = 56.00195\n"
     ]
    },
    {
     "name": "stderr",
     "output_type": "stream",
     "text": [
      "100%|██████████| 25/25 [00:00<00:00, 123.40it/s]\n"
     ]
    },
    {
     "name": "stdout",
     "output_type": "stream",
     "text": [
      "Précision moyenne = 94.918915 %\n",
      "Précision max= 100.0 %\n",
      "Variance des précisions = 27.587044\n"
     ]
    },
    {
     "name": "stderr",
     "output_type": "stream",
     "text": [
      "100%|██████████| 25/25 [00:00<00:00, 123.95it/s]\n"
     ]
    },
    {
     "name": "stdout",
     "output_type": "stream",
     "text": [
      "Précision moyenne = 83.89189 %\n",
      "Précision max= 97.2973 %\n",
      "Variance des précisions = 45.337246\n"
     ]
    },
    {
     "name": "stderr",
     "output_type": "stream",
     "text": [
      "100%|██████████| 25/25 [00:00<00:00, 118.85it/s]\n"
     ]
    },
    {
     "name": "stdout",
     "output_type": "stream",
     "text": [
      "Précision moyenne = 95.67568 %\n",
      "Précision max= 100.0 %\n",
      "Variance des précisions = 11.5656185\n"
     ]
    },
    {
     "name": "stderr",
     "output_type": "stream",
     "text": [
      "100%|██████████| 25/25 [00:00<00:00, 122.59it/s]\n"
     ]
    },
    {
     "name": "stdout",
     "output_type": "stream",
     "text": [
      "Précision moyenne = 96.32433 %\n",
      "Précision max= 100.0 %\n",
      "Variance des précisions = 6.0141253\n"
     ]
    },
    {
     "name": "stderr",
     "output_type": "stream",
     "text": [
      "100%|██████████| 25/25 [00:00<00:00, 120.01it/s]\n"
     ]
    },
    {
     "name": "stdout",
     "output_type": "stream",
     "text": [
      "Précision moyenne = 88.86486 %\n",
      "Précision max= 97.2973 %\n",
      "Variance des précisions = 22.108597\n"
     ]
    },
    {
     "name": "stderr",
     "output_type": "stream",
     "text": [
      "100%|██████████| 25/25 [00:00<00:00, 109.52it/s]\n"
     ]
    },
    {
     "name": "stdout",
     "output_type": "stream",
     "text": [
      "Précision moyenne = 91.24324 %\n",
      "Précision max= 97.2973 %\n",
      "Variance des précisions = 48.8678\n"
     ]
    },
    {
     "name": "stderr",
     "output_type": "stream",
     "text": [
      "100%|██████████| 25/25 [00:00<00:00, 123.41it/s]\n"
     ]
    },
    {
     "name": "stdout",
     "output_type": "stream",
     "text": [
      "Précision moyenne = 93.189186 %\n",
      "Précision max= 97.2973 %\n",
      "Variance des précisions = 12.247387\n"
     ]
    },
    {
     "name": "stderr",
     "output_type": "stream",
     "text": [
      "100%|██████████| 25/25 [00:00<00:00, 106.30it/s]\n"
     ]
    },
    {
     "name": "stdout",
     "output_type": "stream",
     "text": [
      "Précision moyenne = 84.64866 %\n",
      "Précision max= 94.5946 %\n",
      "Variance des précisions = 60.092537\n"
     ]
    },
    {
     "name": "stderr",
     "output_type": "stream",
     "text": [
      "100%|██████████| 25/25 [00:00<00:00, 100.22it/s]\n"
     ]
    },
    {
     "name": "stdout",
     "output_type": "stream",
     "text": [
      "Précision moyenne = 93.51352 %\n",
      "Précision max= 100.0 %\n",
      "Variance des précisions = 33.47944\n"
     ]
    },
    {
     "name": "stderr",
     "output_type": "stream",
     "text": [
      "100%|██████████| 25/25 [00:00<00:00, 116.32it/s]\n"
     ]
    },
    {
     "name": "stdout",
     "output_type": "stream",
     "text": [
      "Précision moyenne = 85.62162 %\n",
      "Précision max= 94.5946 %\n",
      "Variance des précisions = 23.569529\n"
     ]
    },
    {
     "name": "stderr",
     "output_type": "stream",
     "text": [
      "100%|██████████| 25/25 [00:00<00:00, 120.20it/s]\n"
     ]
    },
    {
     "name": "stdout",
     "output_type": "stream",
     "text": [
      "Précision moyenne = 92.97297 %\n",
      "Précision max= 100.0 %\n",
      "Variance des précisions = 34.696865\n"
     ]
    },
    {
     "name": "stderr",
     "output_type": "stream",
     "text": [
      "100%|██████████| 25/25 [00:00<00:00, 97.75it/s] \n"
     ]
    },
    {
     "name": "stdout",
     "output_type": "stream",
     "text": [
      "Précision moyenne = 76.21622 %\n",
      "Précision max= 91.8919 %\n",
      "Variance des précisions = 72.437325\n"
     ]
    },
    {
     "name": "stderr",
     "output_type": "stream",
     "text": [
      "100%|██████████| 25/25 [00:00<00:00, 96.10it/s] \n"
     ]
    },
    {
     "name": "stdout",
     "output_type": "stream",
     "text": [
      "Précision moyenne = 94.70271 %\n",
      "Précision max= 97.2973 %\n",
      "Variance des précisions = 16.727537\n"
     ]
    },
    {
     "name": "stderr",
     "output_type": "stream",
     "text": [
      "100%|██████████| 25/25 [00:00<00:00, 98.24it/s] \n"
     ]
    },
    {
     "name": "stdout",
     "output_type": "stream",
     "text": [
      "Précision moyenne = 93.72973 %\n",
      "Précision max= 100.0 %\n",
      "Variance des précisions = 36.961292\n"
     ]
    },
    {
     "name": "stderr",
     "output_type": "stream",
     "text": [
      "100%|██████████| 25/25 [00:00<00:00, 102.49it/s]\n"
     ]
    },
    {
     "name": "stdout",
     "output_type": "stream",
     "text": [
      "Précision moyenne = 93.51352 %\n",
      "Précision max= 97.2973 %\n",
      "Variance des précisions = 6.0871677\n"
     ]
    },
    {
     "name": "stderr",
     "output_type": "stream",
     "text": [
      "100%|██████████| 25/25 [00:00<00:00, 113.42it/s]\n"
     ]
    },
    {
     "name": "stdout",
     "output_type": "stream",
     "text": [
      "Précision moyenne = 78.48648 %\n",
      "Précision max= 86.48649 %\n",
      "Variance des précisions = 41.07623\n"
     ]
    },
    {
     "name": "stderr",
     "output_type": "stream",
     "text": [
      "100%|██████████| 25/25 [00:00<00:00, 103.50it/s]\n"
     ]
    },
    {
     "name": "stdout",
     "output_type": "stream",
     "text": [
      "Précision moyenne = 84.97298 %\n",
      "Précision max= 94.5946 %\n",
      "Variance des précisions = 57.876793\n"
     ]
    },
    {
     "name": "stderr",
     "output_type": "stream",
     "text": [
      "100%|██████████| 25/25 [00:00<00:00, 110.09it/s]\n"
     ]
    },
    {
     "name": "stdout",
     "output_type": "stream",
     "text": [
      "Précision moyenne = 87.135124 %\n",
      "Précision max= 94.5946 %\n",
      "Variance des précisions = 33.649868\n"
     ]
    },
    {
     "name": "stderr",
     "output_type": "stream",
     "text": [
      "100%|██████████| 25/25 [00:00<00:00, 116.56it/s]\n"
     ]
    },
    {
     "name": "stdout",
     "output_type": "stream",
     "text": [
      "Précision moyenne = 92.540535 %\n",
      "Précision max= 97.2973 %\n",
      "Variance des précisions = 8.083765\n"
     ]
    },
    {
     "name": "stderr",
     "output_type": "stream",
     "text": [
      "100%|██████████| 25/25 [00:00<00:00, 119.42it/s]\n"
     ]
    },
    {
     "name": "stdout",
     "output_type": "stream",
     "text": [
      "Précision moyenne = 88.10811 %\n",
      "Précision max= 97.2973 %\n",
      "Variance des précisions = 112.00391\n"
     ]
    },
    {
     "name": "stderr",
     "output_type": "stream",
     "text": [
      "100%|██████████| 25/25 [00:00<00:00, 119.45it/s]\n"
     ]
    },
    {
     "name": "stdout",
     "output_type": "stream",
     "text": [
      "Précision moyenne = 87.45945 %\n",
      "Précision max= 97.2973 %\n",
      "Variance des précisions = 21.84077\n"
     ]
    },
    {
     "name": "stderr",
     "output_type": "stream",
     "text": [
      "100%|██████████| 25/25 [00:00<00:00, 107.79it/s]\n"
     ]
    },
    {
     "name": "stdout",
     "output_type": "stream",
     "text": [
      "Précision moyenne = 84.540535 %\n",
      "Précision max= 94.5946 %\n",
      "Variance des précisions = 55.10106\n"
     ]
    },
    {
     "name": "stderr",
     "output_type": "stream",
     "text": [
      "100%|██████████| 25/25 [00:00<00:00, 117.74it/s]\n"
     ]
    },
    {
     "name": "stdout",
     "output_type": "stream",
     "text": [
      "Précision moyenne = 86.702705 %\n",
      "Précision max= 97.2973 %\n",
      "Variance des précisions = 35.8656\n"
     ]
    },
    {
     "name": "stderr",
     "output_type": "stream",
     "text": [
      "100%|██████████| 25/25 [00:00<00:00, 120.63it/s]\n"
     ]
    },
    {
     "name": "stdout",
     "output_type": "stream",
     "text": [
      "Précision moyenne = 92.54055 %\n",
      "Précision max= 100.0 %\n",
      "Variance des précisions = 28.780146\n"
     ]
    },
    {
     "name": "stderr",
     "output_type": "stream",
     "text": [
      "100%|██████████| 25/25 [00:00<00:00, 91.10it/s] \n"
     ]
    },
    {
     "name": "stdout",
     "output_type": "stream",
     "text": [
      "Précision moyenne = 70.054054 %\n",
      "Précision max= 78.37838 %\n",
      "Variance des précisions = 27.952272\n"
     ]
    },
    {
     "name": "stderr",
     "output_type": "stream",
     "text": [
      "100%|██████████| 25/25 [00:00<00:00, 104.26it/s]\n"
     ]
    },
    {
     "name": "stdout",
     "output_type": "stream",
     "text": [
      "Précision moyenne = 91.567566 %\n",
      "Précision max= 97.2973 %\n",
      "Variance des précisions = 16.630152\n"
     ]
    },
    {
     "name": "stderr",
     "output_type": "stream",
     "text": [
      "100%|██████████| 25/25 [00:00<00:00, 114.60it/s]\n"
     ]
    },
    {
     "name": "stdout",
     "output_type": "stream",
     "text": [
      "Précision moyenne = 93.1892 %\n",
      "Précision max= 100.0 %\n",
      "Variance des précisions = 34.161217\n"
     ]
    },
    {
     "name": "stderr",
     "output_type": "stream",
     "text": [
      "100%|██████████| 25/25 [00:00<00:00, 111.05it/s]\n"
     ]
    },
    {
     "name": "stdout",
     "output_type": "stream",
     "text": [
      "Précision moyenne = 89.40541 %\n",
      "Précision max= 100.0 %\n",
      "Variance des précisions = 92.476265\n"
     ]
    },
    {
     "name": "stderr",
     "output_type": "stream",
     "text": [
      "100%|██████████| 25/25 [00:00<00:00, 121.22it/s]\n"
     ]
    },
    {
     "name": "stdout",
     "output_type": "stream",
     "text": [
      "Précision moyenne = 88.21622 %\n",
      "Précision max= 94.5946 %\n",
      "Variance des précisions = 21.232063\n"
     ]
    },
    {
     "name": "stderr",
     "output_type": "stream",
     "text": [
      "100%|██████████| 25/25 [00:00<00:00, 110.48it/s]\n"
     ]
    },
    {
     "name": "stdout",
     "output_type": "stream",
     "text": [
      "Précision moyenne = 85.72973 %\n",
      "Précision max= 94.5946 %\n",
      "Variance des précisions = 56.3185\n"
     ]
    },
    {
     "name": "stderr",
     "output_type": "stream",
     "text": [
      "100%|██████████| 25/25 [00:00<00:00, 123.79it/s]\n"
     ]
    },
    {
     "name": "stdout",
     "output_type": "stream",
     "text": [
      "Précision moyenne = 92.21622 %\n",
      "Précision max= 100.0 %\n",
      "Variance des précisions = 23.934753\n"
     ]
    },
    {
     "name": "stderr",
     "output_type": "stream",
     "text": [
      "100%|██████████| 25/25 [00:00<00:00, 111.48it/s]\n"
     ]
    },
    {
     "name": "stdout",
     "output_type": "stream",
     "text": [
      "Précision moyenne = 86.05406 %\n",
      "Précision max= 94.5946 %\n",
      "Variance des précisions = 56.415874\n"
     ]
    },
    {
     "name": "stderr",
     "output_type": "stream",
     "text": [
      "100%|██████████| 25/25 [00:00<00:00, 121.18it/s]\n"
     ]
    },
    {
     "name": "stdout",
     "output_type": "stream",
     "text": [
      "Précision moyenne = 91.459465 %\n",
      "Précision max= 100.0 %\n",
      "Variance des précisions = 25.371315\n"
     ]
    },
    {
     "name": "stderr",
     "output_type": "stream",
     "text": [
      "100%|██████████| 25/25 [00:00<00:00, 111.81it/s]\n"
     ]
    },
    {
     "name": "stdout",
     "output_type": "stream",
     "text": [
      "Précision moyenne = 87.675674 %\n",
      "Précision max= 100.0 %\n",
      "Variance des précisions = 28.049677\n"
     ]
    },
    {
     "name": "stderr",
     "output_type": "stream",
     "text": [
      "100%|██████████| 25/25 [00:00<00:00, 111.86it/s]\n"
     ]
    },
    {
     "name": "stdout",
     "output_type": "stream",
     "text": [
      "Précision moyenne = 85.62162 %\n",
      "Précision max= 91.8919 %\n",
      "Variance des précisions = 42.439743\n"
     ]
    },
    {
     "name": "stderr",
     "output_type": "stream",
     "text": [
      "100%|██████████| 25/25 [00:00<00:00, 121.13it/s]\n"
     ]
    },
    {
     "name": "stdout",
     "output_type": "stream",
     "text": [
      "Précision moyenne = 93.189186 %\n",
      "Précision max= 100.0 %\n",
      "Variance des précisions = 45.11809\n"
     ]
    },
    {
     "name": "stderr",
     "output_type": "stream",
     "text": [
      "100%|██████████| 25/25 [00:00<00:00, 122.38it/s]\n"
     ]
    },
    {
     "name": "stdout",
     "output_type": "stream",
     "text": [
      "Précision moyenne = 84.75676 %\n",
      "Précision max= 94.5946 %\n",
      "Variance des précisions = 26.710505\n"
     ]
    },
    {
     "name": "stderr",
     "output_type": "stream",
     "text": [
      "100%|██████████| 25/25 [00:00<00:00, 123.88it/s]\n"
     ]
    },
    {
     "name": "stdout",
     "output_type": "stream",
     "text": [
      "Précision moyenne = 89.081085 %\n",
      "Précision max= 94.5946 %\n",
      "Variance des précisions = 29.510609\n"
     ]
    },
    {
     "name": "stderr",
     "output_type": "stream",
     "text": [
      "100%|██████████| 25/25 [00:00<00:00, 124.13it/s]\n"
     ]
    },
    {
     "name": "stdout",
     "output_type": "stream",
     "text": [
      "Précision moyenne = 88.10811 %\n",
      "Précision max= 97.2973 %\n",
      "Variance des précisions = 39.566605\n"
     ]
    },
    {
     "name": "stderr",
     "output_type": "stream",
     "text": [
      "100%|██████████| 25/25 [00:00<00:00, 126.02it/s]\n"
     ]
    },
    {
     "name": "stdout",
     "output_type": "stream",
     "text": [
      "Précision moyenne = 85.081085 %\n",
      "Précision max= 91.8919 %\n",
      "Variance des précisions = 34.769897\n"
     ]
    },
    {
     "name": "stderr",
     "output_type": "stream",
     "text": [
      "100%|██████████| 25/25 [00:00<00:00, 124.05it/s]\n"
     ]
    },
    {
     "name": "stdout",
     "output_type": "stream",
     "text": [
      "Précision moyenne = 88.10811 %\n",
      "Précision max= 94.5946 %\n",
      "Variance des précisions = 7.3045974\n"
     ]
    },
    {
     "name": "stderr",
     "output_type": "stream",
     "text": [
      "100%|██████████| 25/25 [00:00<00:00, 121.69it/s]\n"
     ]
    },
    {
     "name": "stdout",
     "output_type": "stream",
     "text": [
      "Précision moyenne = 84.10811 %\n",
      "Précision max= 91.8919 %\n",
      "Variance des précisions = 41.587555\n"
     ]
    },
    {
     "name": "stderr",
     "output_type": "stream",
     "text": [
      "100%|██████████| 25/25 [00:00<00:00, 113.88it/s]\n"
     ]
    },
    {
     "name": "stdout",
     "output_type": "stream",
     "text": [
      "Précision moyenne = 89.51352 %\n",
      "Précision max= 94.5946 %\n",
      "Variance des précisions = 17.847588\n"
     ]
    },
    {
     "name": "stderr",
     "output_type": "stream",
     "text": [
      "100%|██████████| 25/25 [00:00<00:00, 122.31it/s]\n"
     ]
    },
    {
     "name": "stdout",
     "output_type": "stream",
     "text": [
      "Précision moyenne = 91.67568 %\n",
      "Précision max= 100.0 %\n",
      "Variance des précisions = 43.170216\n"
     ]
    },
    {
     "name": "stderr",
     "output_type": "stream",
     "text": [
      "100%|██████████| 25/25 [00:00<00:00, 123.46it/s]\n"
     ]
    },
    {
     "name": "stdout",
     "output_type": "stream",
     "text": [
      "Précision moyenne = 86.16217 %\n",
      "Précision max= 91.8919 %\n",
      "Variance des précisions = 16.021433\n"
     ]
    },
    {
     "name": "stderr",
     "output_type": "stream",
     "text": [
      "100%|██████████| 25/25 [00:00<00:00, 123.45it/s]\n"
     ]
    },
    {
     "name": "stdout",
     "output_type": "stream",
     "text": [
      "Précision moyenne = 87.675674 %\n",
      "Précision max= 94.5946 %\n",
      "Variance des précisions = 31.701979\n"
     ]
    },
    {
     "name": "stderr",
     "output_type": "stream",
     "text": [
      "100%|██████████| 25/25 [00:00<00:00, 113.50it/s]\n"
     ]
    },
    {
     "name": "stdout",
     "output_type": "stream",
     "text": [
      "Précision moyenne = 88.864876 %\n",
      "Précision max= 97.2973 %\n",
      "Variance des précisions = 62.28393\n"
     ]
    },
    {
     "name": "stderr",
     "output_type": "stream",
     "text": [
      "100%|██████████| 25/25 [00:00<00:00, 121.08it/s]\n"
     ]
    },
    {
     "name": "stdout",
     "output_type": "stream",
     "text": [
      "Précision moyenne = 88.324326 %\n",
      "Précision max= 94.5946 %\n",
      "Variance des précisions = 8.960314\n"
     ]
    },
    {
     "name": "stderr",
     "output_type": "stream",
     "text": [
      "100%|██████████| 25/25 [00:00<00:00, 117.67it/s]\n"
     ]
    },
    {
     "name": "stdout",
     "output_type": "stream",
     "text": [
      "Précision moyenne = 87.13515 %\n",
      "Précision max= 94.5946 %\n",
      "Variance des précisions = 44.606792\n"
     ]
    },
    {
     "name": "stderr",
     "output_type": "stream",
     "text": [
      "100%|██████████| 25/25 [00:00<00:00, 121.22it/s]\n"
     ]
    },
    {
     "name": "stdout",
     "output_type": "stream",
     "text": [
      "Précision moyenne = 91.78379 %\n",
      "Précision max= 100.0 %\n",
      "Variance des précisions = 9.422937\n"
     ]
    },
    {
     "name": "stderr",
     "output_type": "stream",
     "text": [
      "100%|██████████| 25/25 [00:00<00:00, 123.58it/s]\n"
     ]
    },
    {
     "name": "stdout",
     "output_type": "stream",
     "text": [
      "Précision moyenne = 96.324326 %\n",
      "Précision max= 100.0 %\n",
      "Variance des précisions = 13.9274435\n"
     ]
    },
    {
     "name": "stderr",
     "output_type": "stream",
     "text": [
      "100%|██████████| 25/25 [00:00<00:00, 123.57it/s]\n"
     ]
    },
    {
     "name": "stdout",
     "output_type": "stream",
     "text": [
      "Précision moyenne = 96.00001 %\n",
      "Précision max= 100.0 %\n",
      "Variance des précisions = 8.595078\n"
     ]
    },
    {
     "name": "stderr",
     "output_type": "stream",
     "text": [
      "100%|██████████| 25/25 [00:00<00:00, 119.36it/s]\n"
     ]
    },
    {
     "name": "stdout",
     "output_type": "stream",
     "text": [
      "Précision moyenne = 97.40541 %\n",
      "Précision max= 100.0 %\n",
      "Variance des précisions = 13.683943\n"
     ]
    },
    {
     "name": "stderr",
     "output_type": "stream",
     "text": [
      "100%|██████████| 25/25 [00:00<00:00, 120.73it/s]\n"
     ]
    },
    {
     "name": "stdout",
     "output_type": "stream",
     "text": [
      "Précision moyenne = 90.486496 %\n",
      "Précision max= 94.5946 %\n",
      "Variance des précisions = 14.073541\n"
     ]
    },
    {
     "name": "stderr",
     "output_type": "stream",
     "text": [
      "100%|██████████| 25/25 [00:00<00:00, 111.53it/s]\n"
     ]
    },
    {
     "name": "stdout",
     "output_type": "stream",
     "text": [
      "Précision moyenne = 83.459465 %\n",
      "Précision max= 94.5946 %\n",
      "Variance des précisions = 46.457294\n"
     ]
    },
    {
     "name": "stderr",
     "output_type": "stream",
     "text": [
      "100%|██████████| 25/25 [00:00<00:00, 122.39it/s]\n"
     ]
    },
    {
     "name": "stdout",
     "output_type": "stream",
     "text": [
      "Précision moyenne = 82.7027 %\n",
      "Précision max= 94.5946 %\n",
      "Variance des précisions = 52.95837\n"
     ]
    },
    {
     "name": "stderr",
     "output_type": "stream",
     "text": [
      "100%|██████████| 25/25 [00:00<00:00, 122.97it/s]\n"
     ]
    },
    {
     "name": "stdout",
     "output_type": "stream",
     "text": [
      "Précision moyenne = 92.75676 %\n",
      "Précision max= 97.2973 %\n",
      "Variance des précisions = 7.7428885\n"
     ]
    },
    {
     "name": "stderr",
     "output_type": "stream",
     "text": [
      "100%|██████████| 25/25 [00:00<00:00, 122.88it/s]\n"
     ]
    },
    {
     "name": "stdout",
     "output_type": "stream",
     "text": [
      "Précision moyenne = 71.24325 %\n",
      "Précision max= 83.78379 %\n",
      "Variance des précisions = 40.71098\n"
     ]
    },
    {
     "name": "stderr",
     "output_type": "stream",
     "text": [
      "100%|██████████| 25/25 [00:00<00:00, 122.37it/s]\n"
     ]
    },
    {
     "name": "stdout",
     "output_type": "stream",
     "text": [
      "Précision moyenne = 74.054054 %\n",
      "Précision max= 83.78379 %\n",
      "Variance des précisions = 36.523\n"
     ]
    },
    {
     "name": "stderr",
     "output_type": "stream",
     "text": [
      "100%|██████████| 25/25 [00:00<00:00, 121.75it/s]\n"
     ]
    },
    {
     "name": "stdout",
     "output_type": "stream",
     "text": [
      "Précision moyenne = 89.40541 %\n",
      "Précision max= 94.5946 %\n",
      "Variance des précisions = 39.51791\n"
     ]
    }
   ],
   "source": [
    "best_para,best_acc,n_best,combien=Hyperparameter_Search(hyperparams=Defaults_arguments,grids=grids,parameters=param_list)"
   ]
  },
  {
   "cell_type": "code",
   "execution_count": 291,
   "metadata": {},
   "outputs": [
    {
     "name": "stderr",
     "output_type": "stream",
     "text": [
      "100%|██████████| 25/25 [00:00<00:00, 77.99it/s]\n"
     ]
    },
    {
     "name": "stdout",
     "output_type": "stream",
     "text": [
      "Précision moyenne = 92.864876 %\n",
      "Précision max= 100.0 %\n",
      "Variance des précisions = 24.275625\n"
     ]
    },
    {
     "data": {
      "text/plain": [
       "tensor([ 83.7838,  89.1892,  86.4865,  86.4865,  89.1892,  83.7838,  91.8919,\n",
       "         89.1892,  91.8919,  94.5946,  94.5946,  94.5946,  94.5946, 100.0000,\n",
       "        100.0000,  86.4865,  94.5946,  91.8919,  97.2973,  94.5946, 100.0000,\n",
       "         97.2973,  97.2973,  94.5946,  97.2973])"
      ]
     },
     "execution_count": 291,
     "metadata": {},
     "output_type": "execute_result"
    }
   ],
   "source": [
    "\n",
    "model_opt,_,_,_,Qcc,n_best=Hyperparameter_Test(hyperparameters=best_para)\n"
   ]
  },
  {
   "cell_type": "code",
   "execution_count": 292,
   "metadata": {},
   "outputs": [
    {
     "data": {
      "text/plain": [
       "Functionnal_conv_classifier(\n",
       "  (Relu): ReLU()\n",
       "  (convlayer1): Sequential(\n",
       "    (0): Conv1d(1, 32, kernel_size=(5,), stride=(1,), padding=(2,))\n",
       "    (1): BatchNorm1d(32, eps=1e-05, momentum=0.1, affine=True, track_running_stats=True)\n",
       "    (2): LeakyReLU(negative_slope=0.18)\n",
       "    (3): Identity()\n",
       "    (4): MaxPool1d(kernel_size=3, stride=2, padding=1, dilation=1, ceil_mode=False)\n",
       "    (5): BatchNorm1d(32, eps=1e-05, momentum=0.1, affine=True, track_running_stats=True)\n",
       "    (6): LeakyReLU(negative_slope=0.18)\n",
       "    (7): Identity()\n",
       "  )\n",
       "  (convlayer2): Sequential(\n",
       "    (0): Conv1d(32, 512, kernel_size=(3,), stride=(1,), padding=(2,))\n",
       "    (1): BatchNorm1d(512, eps=1e-05, momentum=0.1, affine=True, track_running_stats=True)\n",
       "    (2): LeakyReLU(negative_slope=0.18)\n",
       "    (3): Identity()\n",
       "    (4): MaxPool1d(kernel_size=2, stride=2, padding=1, dilation=1, ceil_mode=False)\n",
       "    (5): BatchNorm1d(512, eps=1e-05, momentum=0.1, affine=True, track_running_stats=True)\n",
       "    (6): LeakyReLU(negative_slope=0.18)\n",
       "    (7): Identity()\n",
       "  )\n",
       "  (convlayer3): Sequential(\n",
       "    (0): Conv1d(512, 256, kernel_size=(4,), stride=(1,), padding=(2,))\n",
       "    (1): BatchNorm1d(256, eps=1e-05, momentum=0.1, affine=True, track_running_stats=True)\n",
       "    (2): LeakyReLU(negative_slope=0.18)\n",
       "    (3): Identity()\n",
       "    (4): MaxPool1d(kernel_size=3, stride=2, padding=1, dilation=1, ceil_mode=False)\n",
       "    (5): BatchNorm1d(256, eps=1e-05, momentum=0.1, affine=True, track_running_stats=True)\n",
       "    (6): LeakyReLU(negative_slope=0.18)\n",
       "  )\n",
       "  (fc_block): Sequential(\n",
       "    (0): Flatten(start_dim=1, end_dim=-1)\n",
       "    (1): Linear(in_features=768, out_features=256, bias=True)\n",
       "    (2): BatchNorm1d(256, eps=1e-05, momentum=0.1, affine=True, track_running_stats=True)\n",
       "    (3): LeakyReLU(negative_slope=0.18)\n",
       "    (4): Identity()\n",
       "    (5): Linear(in_features=256, out_features=4, bias=True)\n",
       "  )\n",
       ")"
      ]
     },
     "execution_count": 292,
     "metadata": {},
     "output_type": "execute_result"
    }
   ],
   "source": []
  },
  {
   "cell_type": "code",
   "execution_count": 278,
   "metadata": {},
   "outputs": [
    {
     "name": "stderr",
     "output_type": "stream",
     "text": [
      "  0%|          | 0/100 [00:00<?, ?it/s]"
     ]
    },
    {
     "name": "stderr",
     "output_type": "stream",
     "text": [
      "100%|██████████| 100/100 [00:01<00:00, 95.87it/s]"
     ]
    },
    {
     "name": "stdout",
     "output_type": "stream",
     "text": [
      "Précision moyenne = 78.10811 %\n",
      "Précision max= 86.48649 %\n",
      "Variance des précisions = 4.795953\n"
     ]
    },
    {
     "name": "stderr",
     "output_type": "stream",
     "text": [
      "\n"
     ]
    }
   ],
   "source": [
    "train_fn = Compile_train(module=model_opt, lr=lr_adam, opt=\"Adam\", loss=loss_function, batch_size=batch_size)\n",
    "train_fn(n_epochs=1)\n",
    "mean_accuracy=torch.tensor([0])\n",
    "for i in tqdm(range(best_para.n_epochs)):\n",
    "        train_fn(n_epochs=1)\n",
    "        \n",
    "        accuracy=((torch.sum(torch.argmax(model_opt(x_test),dim=1)==y_test)/x_test.shape[0])*100)\n",
    "        mean_accuracy=torch.cat([mean_accuracy,accuracy.cpu().unsqueeze(0)],dim=0)\n",
    "Mean_acc=((torch.mean(mean_accuracy[1:].float()))).detach().cpu().numpy()\n",
    "Max_acc=((torch.max(mean_accuracy[1:].float()))).detach().cpu().numpy()\n",
    "Var_acc=((torch.var(mean_accuracy[1:].float()))).detach().cpu().numpy()\n",
    "print(\"Précision moyenne =\",Mean_acc,\"%\")  \n",
    "print(\"Précision max=\",Max_acc,\"%\")  \n",
    "print(\"Variance des précisions =\",Var_acc)  \n",
    "\n"
   ]
  },
  {
   "cell_type": "code",
   "execution_count": 294,
   "metadata": {},
   "outputs": [
    {
     "data": {
      "text/plain": [
       "tensor(67.5676, device='cuda:0')"
      ]
     },
     "execution_count": 294,
     "metadata": {},
     "output_type": "execute_result"
    }
   ],
   "source": [
    "accuracy=((torch.sum(torch.argmax(model_opt(x_test),dim=1)==y_test)/x_test.shape[0])*100)\n",
    "accuracy"
   ]
  },
  {
   "cell_type": "code",
   "execution_count": 190,
   "metadata": {},
   "outputs": [
    {
     "data": {
      "text/plain": [
       "0"
      ]
     },
     "execution_count": 190,
     "metadata": {},
     "output_type": "execute_result"
    }
   ],
   "source": [
    "import gc\n",
    "torch.cuda.empty_cache()\n",
    "gc.collect()"
   ]
  }
 ],
 "metadata": {
  "kernelspec": {
   "display_name": "base",
   "language": "python",
   "name": "python3"
  },
  "language_info": {
   "codemirror_mode": {
    "name": "ipython",
    "version": 3
   },
   "file_extension": ".py",
   "mimetype": "text/x-python",
   "name": "python",
   "nbconvert_exporter": "python",
   "pygments_lexer": "ipython3",
   "version": "3.9.13"
  },
  "orig_nbformat": 4
 },
 "nbformat": 4,
 "nbformat_minor": 2
}
