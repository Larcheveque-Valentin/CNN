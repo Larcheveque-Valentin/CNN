{
 "cells": [
  {
   "cell_type": "code",
   "execution_count": 1,
   "metadata": {},
   "outputs": [],
   "source": [
    "# -*- coding: utf-8 -*-\n",
    "\"\"\"\n",
    "Created on Mon Aug 15 14:49:58 2022\n",
    "\n",
    "@author:Unknown\n",
    "\n",
    "Functional autoencoder implementation\n",
    "\"\"\"\n",
    "\n",
    "# Import modules\n",
    "import inspect\n",
    "import random\n",
    "import torch\n",
    "import torch.nn.init as init\n",
    "import torch.nn.functional as F\n",
    "import torch.nn as nn\n",
    "\n",
    "from torch import optim\n",
    "from torch.autograd import Variable\n",
    "from torchvision import datasets, transforms\n",
    "from torchvision.utils import save_image\n",
    "import pandas as pd\n",
    "import numpy as np\n",
    "from numpy import *\n",
    "import seaborn as sns\n",
    "import matplotlib\n",
    "#matplotlib.use('TkAgg')\n",
    "from matplotlib import pyplot as plt\n",
    "# import skfda as fda\n",
    "# from skfda import representation as representation\n",
    "# from skfda.exploratory.visualization import FPCAPlot\n",
    "# # from skfda.exploratory.visualization import FPCAPlot\n",
    "# # from skfda.preprocessing.dim_reduction import FPCA\n",
    "# # from skfda.representation.basis import BSpline, Fourier, Monomial\n",
    "import scipy\n",
    "from scipy.interpolate import BSpline\n",
    "import os\n",
    "import ignite\n",
    "from tqdm import tqdm\n",
    "import sklearn\n",
    "from sklearn.utils import shuffle\n",
    "from sklearn.decomposition import PCA\n",
    "from sklearn.linear_model import LogisticRegression\n",
    "from sklearn.metrics import classification_report, confusion_matrix\n",
    "from sklearn.cluster import KMeans\n",
    "import random\n",
    "from random import seed\n",
    "from scipy import stats\n",
    "import statistics\n",
    "from statistics import stdev\n",
    "\n",
    "import skfda\n",
    "from skfda import FDataGrid as fd\n",
    "from skfda.representation.basis import BSpline as B\n"
   ]
  },
  {
   "cell_type": "code",
   "execution_count": 2,
   "metadata": {},
   "outputs": [
    {
     "name": "stdout",
     "output_type": "stream",
     "text": [
      "Index(['V1', 'V2', 'V3', 'V4', 'V5', 'V6', 'V7', 'V8', 'V9', 'V10',\n",
      "       ...\n",
      "       'V165', 'V166', 'V167', 'V168', 'V169', 'V170', 'V171', 'V172', 'V173',\n",
      "       'V174'],\n",
      "      dtype='object', length=174)\n"
     ]
    },
    {
     "data": {
      "text/plain": [
       "(520, 174)"
      ]
     },
     "execution_count": 2,
     "metadata": {},
     "output_type": "execute_result"
    }
   ],
   "source": [
    "import pandas as pd\n",
    "import os\n",
    "os.chdir(\"C:/Users/Utilisateur/Documents/Master_SSD/STAGE_RECHERCHE/Functionnal Classifier\")\n",
    "# Lire le fichier CSV\n",
    "sofa = pd.read_csv('sofa.csv')\n",
    "T=20\n",
    "# Attribuer des noms de colonnes personnalisés\n",
    "\n",
    "\n",
    "# Afficher les noms de colonnes\n",
    "print(sofa.columns)\n",
    "grid_points=np.arange(T+1)[1:]\n",
    "sofa.values.shape\n"
   ]
  },
  {
   "cell_type": "code",
   "execution_count": 3,
   "metadata": {},
   "outputs": [
    {
     "data": {
      "text/plain": [
       "(torch.Size([390, 1, 20]), torch.Size([390, 1, 1]))"
      ]
     },
     "execution_count": 3,
     "metadata": {},
     "output_type": "execute_result"
    }
   ],
   "source": [
    "Y_X=torch.from_numpy(sofa.values).float().cuda()\n",
    "\n",
    "y,x=Y_X[:,0].unsqueeze(1).unsqueeze(2).long(),Y_X[:,1:T+1].reshape(520,1,T)\n",
    "x_train,x_test,y_train,y_test=sklearn.model_selection.train_test_split(x,y,shuffle=True)\n",
    "x_train.shape,y_train.shape\n"
   ]
  },
  {
   "cell_type": "code",
   "execution_count": 4,
   "metadata": {},
   "outputs": [],
   "source": [
    "\n",
    "def weights_init_normal(m):\n",
    "    classname = m.__class__.__name__\n",
    "    if classname.find('Conv') != -1:\n",
    "        torch.nn.init.normal_(m.weight.data, 0.0, 0.07)\n",
    "    elif classname.find('BatchNorm') != -1:\n",
    "        torch.nn.init.normal_(m.weight.data, 1.0, 0.07)\n",
    "        torch.nn.init.constant_(m.bias.data, 0.0)\n"
   ]
  },
  {
   "cell_type": "code",
   "execution_count": 5,
   "metadata": {},
   "outputs": [],
   "source": [
    "n_epochs=25  \n",
    "basis=B(knots=linspace(1,T,6),order=3)\n",
    "n_conv_out=64\n",
    "granulation=2000\n",
    "n_conv_in=128\n",
    "n_conv_in2=128\n",
    "n_conv_in3=64\n",
    "n_Flat_out=256\n",
    "stride_1=6\n",
    "stride_2=2\n",
    "stride_3=1\n",
    "stride_pool_1=2\n",
    "stride_pool_2=2\n",
    "stride_pool_3=1\n",
    "kernel_size_1=200\n",
    "kernel_size_2=50\n",
    "kernel_size_3=20\n",
    "kernel_size_pool_1=6\n",
    "kernel_size_pool_2=4\n",
    "kernel_size_pool_3=2\n",
    "dilation_1=1\n",
    "dilation_2=1\n",
    "dilation_3=1\n",
    "dilation_pool_1=1\n",
    "dilation_pool_2=1\n",
    "dilation_pool_3=1\n",
    "padding_1=2\n",
    "padding_2=2\n",
    "padding_3=2\n",
    "padding_pool_1=1\n",
    "padding_pool_2=1\n",
    "padding_pool_3=1\n",
    "opt=\"Adam\"\n",
    "lr_adam=0.00089\n",
    "lr_SGD=0.001\n",
    "loss_function=nn.CrossEntropyLoss()\n",
    "batch_size=96"
   ]
  },
  {
   "cell_type": "code",
   "execution_count": 6,
   "metadata": {},
   "outputs": [],
   "source": [
    "class HyperParameters:\n",
    "    def __init__(self,batch_size=96, n_epochs=25, basis=B(knots=linspace(1, T, 6), order=3), granulation=2000,\n",
    "                 n_conv_in=128, n_conv_in2=128, n_conv_in3=64,n_conv_out=64, n_Flat_out=256,\n",
    "                 stride_1=6, stride_2=2, stride_3=1,\n",
    "                 stride_pool_1=2, stride_pool_2=2, stride_pool_3=1,\n",
    "                 kernel_size_1=200, kernel_size_2=50, kernel_size_3=20,\n",
    "                 kernel_size_pool_1=6, kernel_size_pool_2=4, kernel_size_pool_3=2,\n",
    "                 dilation_1=1, dilation_2=1, dilation_3=1,\n",
    "                 dilation_pool_1=1, dilation_pool_2=1, dilation_pool_3=1,\n",
    "                 padding_1=2, padding_2=2, padding_3=2,\n",
    "                 padding_pool_1=1, padding_pool_2=1, padding_pool_3=1,\n",
    "                 opt=\"Adam\", lr=0.00089, loss=nn.CrossEntropyLoss(),activation=nn.Identity()):\n",
    "        self.n_epochs = n_epochs\n",
    "        self.batch_size=batch_size\n",
    "        self.activation=activation\n",
    "        self.n_conv_out=n_conv_out\n",
    "        self.basis = basis\n",
    "        self.granulation = granulation\n",
    "        self.n_conv_in = n_conv_in\n",
    "        self.n_conv_in2 = n_conv_in2\n",
    "        self.n_conv_in3 = n_conv_in3\n",
    "        self.n_Flat_out = n_Flat_out\n",
    "        self.stride_1 = stride_1\n",
    "        self.stride_2 = stride_2\n",
    "        self.stride_3 = stride_3\n",
    "        self.stride_pool_1 = stride_pool_1\n",
    "        self.stride_pool_2 = stride_pool_2\n",
    "        self.stride_pool_3 = stride_pool_3\n",
    "        self.kernel_size_1 = kernel_size_1\n",
    "        self.kernel_size_2 = kernel_size_2\n",
    "        self.kernel_size_3 = kernel_size_3\n",
    "        self.kernel_size_pool_1 = kernel_size_pool_1\n",
    "        self.kernel_size_pool_2 = kernel_size_pool_2\n",
    "        self.kernel_size_pool_3 = kernel_size_pool_3\n",
    "        self.dilation_1 = dilation_1\n",
    "        self.dilation_2 = dilation_2\n",
    "        self.dilation_3 = dilation_3\n",
    "        self.dilation_pool_1 = dilation_pool_1\n",
    "        self.dilation_pool_2 = dilation_pool_2\n",
    "        self.dilation_pool_3 = dilation_pool_3\n",
    "        self.padding_1 = padding_1\n",
    "        self.padding_2 = padding_2\n",
    "        self.padding_3 = padding_3\n",
    "        self.padding_pool_1 = padding_pool_1\n",
    "        self.padding_pool_2 = padding_pool_2\n",
    "        self.padding_pool_3 = padding_pool_3\n",
    "        self.opt = opt\n",
    "        self.lr = lr\n",
    "        self.loss = loss\n"
   ]
  },
  {
   "cell_type": "code",
   "execution_count": 7,
   "metadata": {},
   "outputs": [],
   "source": [
    "arguments_defaults = {\n",
    "    \"n_epochs\": 25,\n",
    "    \"basis\": B(knots=linspace(1,T,6),order=3),\n",
    "    \"granulation\": 2000,\n",
    "    \"n_conv_in\": 128,\n",
    "    \"n_conv_in2\": 128,\n",
    "    \"n_conv_in3\": 64,\n",
    "    \"n_Flat_out\": 256,\n",
    "    \"stride_1\": 6,\n",
    "    \"stride_2\": 2,\n",
    "    \"stride_3\": 1,\n",
    "    \"stride_pool_1\": 2,\n",
    "    \"stride_pool_2\": 2,\n",
    "    \"stride_pool_3\": 1,\n",
    "    \"kernel_size_1\": 200,\n",
    "    \"kernel_size_2\": 50,\n",
    "    \"kernel_size_3\": 20,\n",
    "    \"kernel_size_pool_1\": 6,\n",
    "    \"kernel_size_pool_2\": 4,\n",
    "    \"kernel_size_pool_3\": 2,\n",
    "    \"dilation_1\": 1,\n",
    "    \"dilation_2\": 1,\n",
    "    \"dilation_3\": 1,\n",
    "    \"dilation_pool_1\": 1,\n",
    "    \"dilation_pool_2\": 1,\n",
    "    \"dilation_pool_3\": 1,\n",
    "    \"padding_1\": 2,\n",
    "    \"padding_2\": 2,\n",
    "    \"padding_3\": 2,\n",
    "    \"padding_pool_1\": 1,\n",
    "    \"padding_pool_2\": 1,\n",
    "    \"padding_pool_3\": 1,\n",
    "    \"opt\": \"Adam\",\n",
    "    \"lr\": 0.00089,\n",
    "    \"loss\": nn.CrossEntropyLoss()\n",
    "}\n"
   ]
  },
  {
   "cell_type": "code",
   "execution_count": 8,
   "metadata": {},
   "outputs": [],
   "source": [
    "Defaults_arguments=HyperParameters()\n"
   ]
  },
  {
   "cell_type": "code",
   "execution_count": 40,
   "metadata": {},
   "outputs": [],
   "source": [
    "\n",
    "class Smooth_Strides_FCNN(nn.Module):\n",
    "    def __init__(self, hyperparams):\n",
    "        super(Smooth_Strides_FCNN, self).__init__()\n",
    "\n",
    "        basis = hyperparams.basis\n",
    "        granulation = hyperparams.granulation\n",
    "        n_conv_in = hyperparams.n_conv_in\n",
    "        n_conv_in2 = hyperparams.n_conv_in2\n",
    "        n_conv_in3 = hyperparams.n_conv_in3\n",
    "        n_Flat_out = hyperparams.n_Flat_out\n",
    "        stride_1 = hyperparams.stride_1\n",
    "        stride_2 = hyperparams.stride_2\n",
    "        stride_3 = hyperparams.stride_3\n",
    "        stride_pool_1 = hyperparams.stride_pool_1\n",
    "        stride_pool_2 = hyperparams.stride_pool_2\n",
    "        stride_pool_3 = hyperparams.stride_pool_3\n",
    "        kernel_size_1 = hyperparams.kernel_size_1\n",
    "        kernel_size_2 = hyperparams.kernel_size_2\n",
    "        kernel_size_3 = hyperparams.kernel_size_3\n",
    "        kernel_size_pool_1 = hyperparams.kernel_size_pool_1\n",
    "        kernel_size_pool_2 = hyperparams.kernel_size_pool_2\n",
    "        kernel_size_pool_3 = hyperparams.kernel_size_pool_3\n",
    "        dilation_1 = hyperparams.dilation_1\n",
    "        dilation_2 = hyperparams.dilation_2\n",
    "        dilation_3 = hyperparams.dilation_3\n",
    "        dilation_pool_1 = hyperparams.dilation_pool_1\n",
    "        dilation_pool_2 = hyperparams.dilation_pool_2\n",
    "        dilation_pool_3 = hyperparams.dilation_pool_3\n",
    "            \n",
    "        padding_1 = hyperparams.padding_1\n",
    "        padding_2 = hyperparams.padding_2\n",
    "        padding_3 = hyperparams.padding_3\n",
    "        padding_pool_1 = hyperparams.padding_pool_1\n",
    "        padding_pool_2 = hyperparams.padding_pool_2\n",
    "        padding_pool_3 = hyperparams.padding_pool_3\n",
    "\n",
    "        # Reste du code pour l'initialisation de la classe model\n",
    "\n",
    "        self.Relu=nn.ReLU()\n",
    "\n",
    "        self.convlayer1=nn.Sequential(\n",
    "            nn.Conv1d(1,n_conv_in,kernel_size=kernel_size_1,stride=stride_1,padding=padding_1,dilation=dilation_1),\n",
    "            nn.BatchNorm1d(n_conv_in),\n",
    "            nn.LeakyReLU(0.18),\n",
    "            \n",
    "            nn.MaxPool1d(kernel_size=kernel_size_pool_1,stride=stride_pool_1,padding=padding_pool_1,dilation=dilation_pool_1),\n",
    "            nn.BatchNorm1d(n_conv_in),\n",
    "            nn.LeakyReLU(0.18),\n",
    "        )\n",
    "        \n",
    "        self.convlayer2=nn.Sequential(\n",
    "            nn.Conv1d(n_conv_in,n_conv_in2,kernel_size=kernel_size_2,stride=stride_2,padding=padding_2,dilation=dilation_2),\n",
    "            nn.BatchNorm1d(n_conv_in2),\n",
    "            nn.LeakyReLU(0.18),\n",
    "            \n",
    "            nn.MaxPool1d(kernel_size=kernel_size_pool_2,stride=stride_pool_2,padding=padding_pool_2,dilation=dilation_pool_2),\n",
    "            nn.BatchNorm1d(n_conv_in2),\n",
    "            nn.LeakyReLU(0.18),\n",
    "        )\n",
    "        \n",
    "        self.convlayer3=nn.Sequential(\n",
    "\n",
    "            nn.Conv1d(n_conv_in2,n_conv_in3,kernel_size=kernel_size_3,stride=stride_3,padding=padding_3,dilation=dilation_3),\n",
    "            nn.BatchNorm1d(n_conv_in3),\n",
    "            nn.LeakyReLU(0.18),\n",
    "            \n",
    "            nn.MaxPool1d(kernel_size=kernel_size_pool_3,stride=stride_pool_3,padding=padding_pool_3,dilation=dilation_pool_3),\n",
    "            nn.BatchNorm1d(n_conv_in3),\n",
    "            nn.LeakyReLU(0.18),\n",
    "        )\n",
    "\n",
    "        self.fc_block=nn.Sequential(\n",
    "            nn.Flatten(),\n",
    "            nn.Linear(n_conv_out*n_conv_in3,n_Flat_out),\n",
    "            nn.BatchNorm1d(n_Flat_out),\n",
    "            nn.LeakyReLU(0.18),\n",
    "            \n",
    "            nn.Linear(n_Flat_out,2),\n",
    "            \n",
    "        )\n",
    "        self.activation=nn.Softmax()\n",
    "        self.n_conv_out=n_conv_out\n",
    "    def Granulator(self,x):\n",
    "        eval_points=linspace(1,T,granulation)\n",
    "        basis_eval=basis.evaluate(eval_points=eval_points)[:, :, 0]\n",
    "        basis_fc = torch.from_numpy(basis_eval).float().cuda()\n",
    "        coefs=fd(x[:,0,:].cpu(),grid_points=grid_points).to_basis(basis=basis).coefficients\n",
    "        \n",
    "        coefs_torch=torch.tensor(coefs).float().cuda()\n",
    "        Recons_train=torch.matmul(coefs_torch,basis_fc)\n",
    "        Recons_train=Recons_train.reshape(Recons_train.shape[0],1,Recons_train.shape[1])\n",
    "        return Recons_train\n",
    "\n",
    "    def forward(self,x):\n",
    "        Granulated_x_train=self.Granulator(x)\n",
    "        tresh_out=torch.relu(Granulated_x_train)\n",
    "        Conv_out=self.convlayer1(tresh_out)\n",
    "        Conv_out2=self.convlayer2(Conv_out)\n",
    "        Conv_out3=self.convlayer3(Conv_out2)\n",
    "        Lin_out=self.fc_block(Conv_out3)\n",
    "        return Lin_out.float().unsqueeze_(2).unsqueeze_(3)\n"
   ]
  },
  {
   "cell_type": "code",
   "execution_count": 41,
   "metadata": {},
   "outputs": [],
   "source": [
    "def Compile_class(hyperparams):\n",
    "    basis = hyperparams.basis\n",
    "    granulation = hyperparams.granulation\n",
    "    n_conv_in = hyperparams.n_conv_in\n",
    "    n_conv_in2 = hyperparams.n_conv_in2\n",
    "    n_conv_in3 = hyperparams.n_conv_in3\n",
    "    n_Flat_out = hyperparams.n_Flat_out\n",
    "    stride_1 = hyperparams.stride_1\n",
    "    stride_2 = hyperparams.stride_2\n",
    "    stride_3 = hyperparams.stride_3\n",
    "    stride_pool_1 = hyperparams.stride_pool_1\n",
    "    stride_pool_2 = hyperparams.stride_pool_2\n",
    "    stride_pool_3 = hyperparams.stride_pool_3\n",
    "    kernel_size_1 = hyperparams.kernel_size_1\n",
    "    kernel_size_2 = hyperparams.kernel_size_2\n",
    "    kernel_size_3 = hyperparams.kernel_size_3\n",
    "    kernel_size_pool_1 = hyperparams.kernel_size_pool_1\n",
    "    kernel_size_pool_2 = hyperparams.kernel_size_pool_2\n",
    "    kernel_size_pool_3 = hyperparams.kernel_size_pool_3\n",
    "    dilation_1 = hyperparams.dilation_1\n",
    "    dilation_2 = hyperparams.dilation_2\n",
    "    dilation_3 = hyperparams.dilation_3\n",
    "    dilation_pool_1 = hyperparams.dilation_pool_1\n",
    "    dilation_pool_2 = hyperparams.dilation_pool_2\n",
    "    dilation_pool_3 = hyperparams.dilation_pool_3\n",
    "    padding_1 = hyperparams.padding_1\n",
    "    padding_2 = hyperparams.padding_2\n",
    "    padding_3 = hyperparams.padding_3\n",
    "    padding_pool_1 = hyperparams.padding_pool_1\n",
    "    padding_pool_2 = hyperparams.padding_pool_2\n",
    "    padding_pool_3 = hyperparams.padding_pool_3\n",
    "\n",
    "    # Reste du code de la fonction\n",
    "\n",
    "    CNN=Smooth_Strides_FCNN(hyperparams=hyperparams).cuda()\n",
    "    Granul=CNN.Granulator(x_train[:1,:,:])\n",
    "    Conv_out=CNN.convlayer1(Granul)\n",
    "    Conv_out2=CNN.convlayer2(Conv_out)\n",
    "    Conv_out3=CNN.convlayer3(Conv_out2)\n",
    "    n_conv_out=Conv_out3.shape[2]\n",
    "    hyperparams.n_conv_out=n_conv_out\n",
    "    class Bsp_classifier(nn.Module): \n",
    "        def __init__(self, hyperparams):\n",
    "            super(Bsp_classifier, self).__init__()\n",
    "\n",
    "            basis = hyperparams.basis\n",
    "            granulation = hyperparams.granulation\n",
    "            n_conv_in = hyperparams.n_conv_in\n",
    "            n_conv_in2 = hyperparams.n_conv_in2\n",
    "            n_conv_in3 = hyperparams.n_conv_in3\n",
    "            n_conv_out=hyperparams.n_conv_out\n",
    "            n_Flat_out = hyperparams.n_Flat_out\n",
    "            stride_1 = hyperparams.stride_1\n",
    "            stride_2 = hyperparams.stride_2\n",
    "            stride_3 = hyperparams.stride_3\n",
    "            stride_pool_1 = hyperparams.stride_pool_1\n",
    "            stride_pool_2 = hyperparams.stride_pool_2\n",
    "            stride_pool_3 = hyperparams.stride_pool_3\n",
    "            kernel_size_1 = hyperparams.kernel_size_1\n",
    "            kernel_size_2 = hyperparams.kernel_size_2\n",
    "            kernel_size_3 = hyperparams.kernel_size_3\n",
    "            kernel_size_pool_1 = hyperparams.kernel_size_pool_1\n",
    "            kernel_size_pool_2 = hyperparams.kernel_size_pool_2\n",
    "            kernel_size_pool_3 = hyperparams.kernel_size_pool_3\n",
    "            dilation_1 = hyperparams.dilation_1\n",
    "            dilation_2 = hyperparams.dilation_2\n",
    "            dilation_3 = hyperparams.dilation_3\n",
    "            dilation_pool_1 = hyperparams.dilation_pool_1\n",
    "            dilation_pool_2 = hyperparams.dilation_pool_2\n",
    "            dilation_pool_3 = hyperparams.dilation_pool_3\n",
    "                    \n",
    "            padding_1 = hyperparams.padding_1\n",
    "            padding_2 = hyperparams.padding_2\n",
    "            padding_3 = hyperparams.padding_3\n",
    "            padding_pool_1 = hyperparams.padding_pool_1\n",
    "            padding_pool_2 = hyperparams.padding_pool_2\n",
    "            padding_pool_3 = hyperparams.padding_pool_3\n",
    "\n",
    "\n",
    "            self.Relu=nn.ReLU()\n",
    "            \n",
    "            self.convlayer1=nn.Sequential(\n",
    "                nn.Conv1d(1,n_conv_in,kernel_size=kernel_size_1,stride=stride_1,padding=padding_1,dilation=dilation_1),\n",
    "                nn.BatchNorm1d(n_conv_in),\n",
    "                nn.LeakyReLU(0.18),\n",
    "                hyperparams.activation,\n",
    "                nn.MaxPool1d(kernel_size=kernel_size_pool_1,stride=stride_pool_1,padding=padding_pool_1,dilation=dilation_pool_1),\n",
    "                nn.BatchNorm1d(n_conv_in),\n",
    "                nn.LeakyReLU(0.18),\n",
    "                hyperparams.activation,\n",
    "            )\n",
    "            \n",
    "            self.convlayer2=nn.Sequential(\n",
    "                nn.Conv1d(n_conv_in,n_conv_in2,kernel_size=kernel_size_2,stride=stride_2,padding=padding_2,dilation=dilation_2),\n",
    "                nn.BatchNorm1d(n_conv_in2),\n",
    "                nn.LeakyReLU(0.18),\n",
    "                hyperparams.activation,\n",
    "                nn.MaxPool1d(kernel_size=kernel_size_pool_2,stride=stride_pool_2,padding=padding_pool_2,dilation=dilation_pool_2),\n",
    "                nn.BatchNorm1d(n_conv_in2),\n",
    "                nn.LeakyReLU(0.18),\n",
    "                hyperparams.activation,\n",
    "            )\n",
    "            \n",
    "            self.convlayer3=nn.Sequential(\n",
    "\n",
    "                nn.Conv1d(n_conv_in2,n_conv_in3,kernel_size=kernel_size_3,stride=stride_3,padding=padding_3,dilation=dilation_3),\n",
    "                nn.BatchNorm1d(n_conv_in3),\n",
    "                nn.LeakyReLU(0.18),\n",
    "                hyperparams.activation,\n",
    "                nn.MaxPool1d(kernel_size=kernel_size_pool_3,stride=stride_pool_3,padding=padding_pool_3,dilation=dilation_pool_3),\n",
    "                nn.BatchNorm1d(n_conv_in3),\n",
    "                nn.LeakyReLU(0.18),\n",
    "            )\n",
    "\n",
    "            self.fc_block=nn.Sequential(\n",
    "                nn.Flatten(),\n",
    "                nn.Linear(n_conv_out*n_conv_in3,n_Flat_out),\n",
    "                nn.BatchNorm1d(n_Flat_out),\n",
    "                nn.LeakyReLU(0.18),\n",
    "                hyperparams.activation,\n",
    "                nn.Linear(n_Flat_out,2),\n",
    "                \n",
    "            )\n",
    "            self.basis=basis\n",
    "            self.n_conv_out=n_conv_out\n",
    "        def Granulator(self,x):\n",
    "            eval_points=linspace(1,T,granulation)\n",
    "            basis_eval=basis.evaluate(eval_points=eval_points)[:, :, 0]\n",
    "            basis_fc = torch.from_numpy(basis_eval).float().cuda()\n",
    "            coefs=fd(x[:,0,:].cpu(),grid_points=grid_points).to_basis(basis=self.basis).coefficients\n",
    "            \n",
    "            coefs_torch=torch.tensor(coefs).float().cuda()\n",
    "            Recons_train=torch.matmul(coefs_torch,basis_fc)\n",
    "            Recons_train=Recons_train.reshape(Recons_train.shape[0],1,Recons_train.shape[1])\n",
    "            return Recons_train\n",
    "\n",
    "        def forward(self,x):\n",
    "            Granulated_x_train=self.Granulator(x)\n",
    "            tresh_out=torch.relu(Granulated_x_train)\n",
    "            Conv_out=self.convlayer1(tresh_out)\n",
    "            Conv_out2=self.convlayer2(Conv_out)\n",
    "            Conv_out3=self.convlayer3(Conv_out2)\n",
    "            Lin_out=self.fc_block(Conv_out3)\n",
    "            return Lin_out.float().unsqueeze_(2).unsqueeze_(3)\n",
    "    module=Bsp_classifier(hyperparams=hyperparams)\n",
    "    return module"
   ]
  },
  {
   "cell_type": "code",
   "execution_count": 42,
   "metadata": {},
   "outputs": [],
   "source": [
    "def Compile_train(module, lr, opt=\"Adam\", loss=nn.CrossEntropyLoss(), batch_size=batch_size):\n",
    "    betas = [0.5, 0.999]\n",
    "    if opt == \"Adam\":\n",
    "        optimizer = optim.Adam(module.parameters(), lr=lr, betas=betas)\n",
    "    else:\n",
    "        optimizer = optim.SGD(module.parameters(), lr=lr)\n",
    "    def train(n_epochs, module, optimizer, loss, batch_size):\n",
    "        for epoch in range(n_epochs):\n",
    "            train_loss = torch.tensor(0).cuda().long()\n",
    "            \n",
    "            # Mélanger les données d'entraînement\n",
    "            indices = list(range(len(x_train)))\n",
    "            random.shuffle(indices)\n",
    "            \n",
    "            batch_index = 0  # Indice de batch\n",
    "            \n",
    "            for i in range(int(len(x_train) / batch_size)):\n",
    "                # Obtenir les indices des données mélangées\n",
    "                batch_indices = indices[batch_index:batch_index+batch_size]\n",
    "                \n",
    "                functions_train = x_train[batch_indices,:,:]\n",
    "                labels_train = y_train[batch_indices]\n",
    "                \n",
    "                optimizer.zero_grad()\n",
    "                output = module(functions_train)\n",
    "                loss_value = loss(input=output, target=labels_train)\n",
    "                \n",
    "                loss_value.backward()\n",
    "                optimizer.step()\n",
    "                train_loss += loss_value.long()\n",
    "                \n",
    "                batch_index += batch_size  # Passer au prochain batch\n",
    "                \n",
    "            return train_loss, loss_value\n",
    "    \n",
    "    return lambda n_epochs: train(n_epochs, module, optimizer, loss, batch_size)\n"
   ]
  },
  {
   "cell_type": "code",
   "execution_count": 43,
   "metadata": {},
   "outputs": [],
   "source": [
    "def Hyperparameter_Test(hyperparameters):\n",
    "\n",
    "    x_train,x_test,y_train,y_test=sklearn.model_selection.train_test_split(x,y,shuffle=True)    \n",
    "    ##Compilation de la classe \n",
    "    Model=Compile_class(hyperparams=hyperparameters).cuda().apply(weights_init_normal)\n",
    "    \n",
    "    \n",
    "    mean_accuracy=torch.tensor([0])\n",
    "    train_fn = Compile_train(module=Model, lr=lr_adam, opt=\"Adam\", loss=loss_function, batch_size=hyperparameters.batch_size)\n",
    "    for i in tqdm(range(hyperparameters.n_epochs)):\n",
    "            train_fn(n_epochs=1)\n",
    "            \n",
    "            accuracy=((torch.sum(torch.argmax(Model(x_test),dim=1)==y_test)/x_test.shape[0])*100)\n",
    "            mean_accuracy=torch.cat([mean_accuracy,accuracy.cpu().unsqueeze(0)],dim=0)\n",
    "    print(\"Précision moyenne =\",((torch.mean(mean_accuracy[1:].float()))).detach().cpu().numpy(),\"%\")  \n",
    "    print(\"Précision max=\",((torch.max(mean_accuracy[1:].float()))).detach().cpu().numpy(),\"%\")  \n",
    "    print(\"Variance des précisions =\",((torch.var(mean_accuracy[1:].float()))).detach().cpu().numpy())  \n",
    "    # print(mean_accuracy.unsqueeze(1)[1:]) \n",
    "    n_epochs_max_acc=torch.argmax(mean_accuracy)    \n",
    "    \n",
    "    \n",
    "    grid_test=fd(x_test[:,0,:].cpu(),grid_points=grid_points).to_basis(basis)\n",
    "    grid_convlayer1=fd(Model.convlayer1(Model.Granulator(x_test))[0,:,:].detach().cpu(),grid_points=linspace(1,T,Model.convlayer1(Model.Granulator(x_test)).shape[2]))\n",
    "    grid_convlayer2=fd(Model.convlayer2(Model.convlayer1(Model.Granulator(x_test)))[:,0,:].detach().cpu(),grid_points=linspace(1,T,Model.convlayer2(Model.convlayer1(Model.Granulator(x_test))).shape[2]))\n",
    "    grid_convlayer3=fd(Model.convlayer3(Model.convlayer2(Model.convlayer1(Model.Granulator(x_test))))[:,0,:].detach().cpu(),grid_points=linspace(1,T,Model.convlayer3(Model.convlayer2(Model.convlayer1(Model.Granulator(x_test)))).shape[2]))\n",
    "        \n",
    "    import gc\n",
    "    torch.cuda.empty_cache()\n",
    "    gc.collect()\n",
    "    return Model,grid_convlayer1,grid_convlayer2,grid_convlayer3, mean_accuracy[1:],n_epochs_max_acc\n",
    "\n"
   ]
  },
  {
   "cell_type": "code",
   "execution_count": 44,
   "metadata": {},
   "outputs": [
    {
     "name": "stderr",
     "output_type": "stream",
     "text": [
      "C:\\Users\\Utilisateur\\AppData\\Local\\Temp\\ipykernel_3852\\3385958848.py:85: DeprecationWarning: The method 'evaluate' is deprecated. Please use the normal calling notation on the basis object instead.\n",
      "  basis_eval=basis.evaluate(eval_points=eval_points)[:, :, 0]\n"
     ]
    },
    {
     "data": {
      "text/plain": [
       "(torch.Size([1, 128, 149]), torch.Size([1, 128, 26]), torch.Size([1, 256, 12]))"
      ]
     },
     "execution_count": 44,
     "metadata": {},
     "output_type": "execute_result"
    }
   ],
   "source": [
    "\n",
    "CNN=Smooth_Strides_FCNN(hyperparams=hyperparameters_opt).cuda()\n",
    "Conv_out=CNN.convlayer1(CNN.Granulator(x_train[:1]))\n",
    "Conv_out2=CNN.convlayer2(Conv_out)\n",
    "Conv_out3=CNN.convlayer3(Conv_out2)\n",
    "\n",
    "Conv_out.shape,Conv_out2.shape,Conv_out3.shape\n"
   ]
  },
  {
   "cell_type": "code",
   "execution_count": 45,
   "metadata": {},
   "outputs": [
    {
     "name": "stderr",
     "output_type": "stream",
     "text": [
      "C:\\Users\\Utilisateur\\AppData\\Local\\Temp\\ipykernel_3852\\3385958848.py:85: DeprecationWarning: The method 'evaluate' is deprecated. Please use the normal calling notation on the basis object instead.\n",
      "  basis_eval=basis.evaluate(eval_points=eval_points)[:, :, 0]\n"
     ]
    },
    {
     "data": {
      "text/plain": [
       "torch.Size([389, 256, 12])"
      ]
     },
     "execution_count": 45,
     "metadata": {},
     "output_type": "execute_result"
    }
   ],
   "source": [
    "\n",
    "Model=Compile_class(hyperparams=hyperparameters_opt)\n",
    "hyperparameters_opt=HyperParameters(n_epochs=50,n_conv_in=128,n_conv_in2=128,n_conv_in3=256,n_Flat_out=32,activation=nn.Identity())\n",
    "Model=Compile_class(hyperparams=hyperparameters_opt).cuda()\n",
    "Model.fc_block\n",
    "hyperparameters_opt.n_conv_in*hyperparameters_opt.n_conv_out\n",
    "hyperparameters_opt.n_conv_in3*hyperparameters_opt.n_conv_out\n",
    "Model.convlayer3(Model.convlayer2(Model.convlayer1(CNN.Granulator(x_train[1:])))).shape\n",
    "\n"
   ]
  },
  {
   "cell_type": "code",
   "execution_count": 46,
   "metadata": {},
   "outputs": [],
   "source": [
    "hyperparameters=HyperParameters()\n",
    "hyperparameters.basis=B(knots=np.linspace(1,T,4),order=4)\n",
    "hyperparameters.kernel_size_1=50\n",
    "hyperparameters.n_conv_in=32\n",
    "hyperparameters.n_conv_in2=128\n",
    "hyperparameters.n_conv_in3=256\n",
    "hyperparameters.n_epochs=50\n"
   ]
  },
  {
   "cell_type": "code",
   "execution_count": 47,
   "metadata": {},
   "outputs": [
    {
     "name": "stderr",
     "output_type": "stream",
     "text": [
      "C:\\Users\\Utilisateur\\AppData\\Local\\Temp\\ipykernel_3852\\3385958848.py:85: DeprecationWarning: The method 'evaluate' is deprecated. Please use the normal calling notation on the basis object instead.\n",
      "  basis_eval=basis.evaluate(eval_points=eval_points)[:, :, 0]\n",
      "  0%|          | 0/50 [00:00<?, ?it/s]C:\\Users\\Utilisateur\\AppData\\Local\\Temp\\ipykernel_3852\\2965208009.py:128: DeprecationWarning: The method 'evaluate' is deprecated. Please use the normal calling notation on the basis object instead.\n",
      "  basis_eval=basis.evaluate(eval_points=eval_points)[:, :, 0]\n",
      "100%|██████████| 50/50 [00:21<00:00,  2.36it/s]\n"
     ]
    },
    {
     "name": "stdout",
     "output_type": "stream",
     "text": [
      "Précision moyenne = 86.52308 %\n",
      "Précision max= 92.30769 %\n",
      "Variance des précisions = 20.63132\n"
     ]
    },
    {
     "data": {
      "text/plain": [
       "tensor(29)"
      ]
     },
     "execution_count": 47,
     "metadata": {},
     "output_type": "execute_result"
    }
   ],
   "source": [
    "hyperparameters_opt=HyperParameters(n_epochs=100,n_conv_in=32,n_conv_in2=512,n_conv_in3=256,n_Flat_out=256,activation=nn.Identity(),lr=0.00001,batch_size=130)\n",
    "Model,grid_convlayer1,grid_convlayer2,grid_convlayer3, Acc,n_best=Hyperparameter_Test(hyperparameters=hyperparameters)\n",
    "n_best"
   ]
  },
  {
   "cell_type": "code",
   "execution_count": 16,
   "metadata": {},
   "outputs": [
    {
     "data": {
      "image/png": "[encoded data removed]",
      "text/plain": [
       "<Figure size 640x480 with 1 Axes>"
      ]
     },
     "metadata": {},
     "output_type": "display_data"
    }
   ],
   "source": [
    "\n",
    "grid_convlayer1.plot()\n",
    "plt.show()"
   ]
  },
  {
   "cell_type": "code",
   "execution_count": 78,
   "metadata": {},
   "outputs": [],
   "source": [
    "def Hyper_parameter_GridSearch(hyperparams,parameter, grid):\n",
    "    Total_accuracy_max = torch.tensor([0])\n",
    "    Optimum_parameter = grid[0]\n",
    "\n",
    "    \n",
    "    \n",
    "    # Obtenir l'attribut correspondant au paramètre spécifié\n",
    "    attribute = getattr(hyperparams, parameter)\n",
    "    \n",
    "    for value in grid:\n",
    "        # Modifier la valeur de l'attribut de la classe HyperParameters\n",
    "        setattr(hyperparams, parameter, value)\n",
    "        \n",
    "        # Utiliser l'instance de HyperParameters pour effectuer les tests\n",
    "        _, _, _, _, accuracy,n_best = Hyperparameter_Test(hyperparameters=hyperparams)\n",
    "        Total_accuracy_max = torch.cat([Total_accuracy_max, torch.tensor([torch.max(accuracy)])])\n",
    "\n",
    "    Optimum_parameter = grid[torch.argmax(Total_accuracy_max[1:])]\n",
    "    return Optimum_parameter, torch.max(Total_accuracy_max[1:]),n_best\n"
   ]
  },
  {
   "cell_type": "code",
   "execution_count": 80,
   "metadata": {},
   "outputs": [
    {
     "name": "stderr",
     "output_type": "stream",
     "text": [
      "C:\\Users\\Utilisateur\\AppData\\Local\\Temp\\ipykernel_18264\\3210377230.py:78: DeprecationWarning: The method 'evaluate' is deprecated. Please use the normal calling notation on the basis object instead.\n",
      "  basis_eval=basis.evaluate(eval_points=eval_points)[:, :, 0]\n",
      "  0%|          | 0/50 [00:00<?, ?it/s]"
     ]
    },
    {
     "name": "stderr",
     "output_type": "stream",
     "text": [
      "C:\\Users\\Utilisateur\\AppData\\Local\\Temp\\ipykernel_18264\\525065836.py:121: DeprecationWarning: The method 'evaluate' is deprecated. Please use the normal calling notation on the basis object instead.\n",
      "  basis_eval=basis.evaluate(eval_points=eval_points)[:, :, 0]\n",
      "100%|██████████| 50/50 [00:04<00:00, 12.28it/s]\n"
     ]
    },
    {
     "name": "stdout",
     "output_type": "stream",
     "text": [
      "Précision moyenne = 84.246155 %\n",
      "Précision max= 89.23077 %\n",
      "Variance des précisions = 4.763674\n"
     ]
    },
    {
     "name": "stderr",
     "output_type": "stream",
     "text": [
      "100%|██████████| 50/50 [00:04<00:00, 12.20it/s]\n"
     ]
    },
    {
     "name": "stdout",
     "output_type": "stream",
     "text": [
      "Précision moyenne = 86.5077 %\n",
      "Précision max= 92.30769 %\n",
      "Variance des précisions = 13.795668\n"
     ]
    },
    {
     "name": "stderr",
     "output_type": "stream",
     "text": [
      "100%|██████████| 50/50 [00:04<00:00, 11.82it/s]\n"
     ]
    },
    {
     "name": "stdout",
     "output_type": "stream",
     "text": [
      "Précision moyenne = 85.43077 %\n",
      "Précision max= 90.0 %\n",
      "Variance des précisions = 3.3911307\n"
     ]
    },
    {
     "name": "stderr",
     "output_type": "stream",
     "text": [
      "100%|██████████| 50/50 [00:04<00:00, 11.66it/s]\n"
     ]
    },
    {
     "name": "stdout",
     "output_type": "stream",
     "text": [
      "Précision moyenne = 88.38461 %\n",
      "Précision max= 92.30769 %\n",
      "Variance des précisions = 7.130783\n"
     ]
    },
    {
     "name": "stderr",
     "output_type": "stream",
     "text": [
      "100%|██████████| 50/50 [00:04<00:00, 11.27it/s]\n"
     ]
    },
    {
     "name": "stdout",
     "output_type": "stream",
     "text": [
      "Précision moyenne = 89.26154 %\n",
      "Précision max= 93.84615 %\n",
      "Variance des précisions = 7.8966293\n"
     ]
    },
    {
     "data": {
      "text/plain": [
       "(512, tensor(93.8462), tensor(40))"
      ]
     },
     "execution_count": 80,
     "metadata": {},
     "output_type": "execute_result"
    }
   ],
   "source": [
    "hyperparameters_opt=HyperParameters(n_epochs=50,n_conv_in=128,n_conv_in2=128,n_conv_in3=256,n_Flat_out=256,kernel_size_2=30,kernel_size_3=20)\n",
    "\n",
    "Hyper_parameter_GridSearch(hyperparameters_opt,parameter=\"n_Flat_out\",grid=(32,64, 128,256,512))"
   ]
  },
  {
   "cell_type": "code",
   "execution_count": null,
   "metadata": {},
   "outputs": [
    {
     "ename": "NameError",
     "evalue": "name 'Hyper_parameter_GridSearch' is not defined",
     "output_type": "error",
     "traceback": [
      "\u001b[1;31m---------------------------------------------------------------------------\u001b[0m",
      "\u001b[1;31mNameError\u001b[0m                                 Traceback (most recent call last)",
      "\u001b[1;32m~\\AppData\\Local\\Temp\\ipykernel_18264\\3318787503.py\u001b[0m in \u001b[0;36m<module>\u001b[1;34m\u001b[0m\n\u001b[1;32m----> 1\u001b[1;33m \u001b[0mkernel_size_Opt\u001b[0m\u001b[1;33m,\u001b[0m\u001b[0mMax_acc\u001b[0m\u001b[1;33m=\u001b[0m\u001b[0mHyper_parameter_GridSearch\u001b[0m\u001b[1;33m(\u001b[0m\u001b[0mhyperparameters_opt\u001b[0m\u001b[1;33m,\u001b[0m\u001b[0mgrid\u001b[0m \u001b[1;33m=\u001b[0m \u001b[0mnp\u001b[0m\u001b[1;33m.\u001b[0m\u001b[0marange\u001b[0m\u001b[1;33m(\u001b[0m\u001b[1;36m25\u001b[0m\u001b[1;33m)\u001b[0m\u001b[1;33m[\u001b[0m\u001b[1;36m5\u001b[0m\u001b[1;33m:\u001b[0m\u001b[1;33m]\u001b[0m\u001b[1;33m,\u001b[0m\u001b[0mparameter\u001b[0m\u001b[1;33m=\u001b[0m\u001b[1;34m\"kernel_size_3\"\u001b[0m\u001b[1;33m)\u001b[0m\u001b[1;33m\u001b[0m\u001b[1;33m\u001b[0m\u001b[0m\n\u001b[0m",
      "\u001b[1;31mNameError\u001b[0m: name 'Hyper_parameter_GridSearch' is not defined"
     ]
    }
   ],
   "source": [
    "kernel_size_Opt,Max_acc=Hyper_parameter_GridSearch(hyperparameters_opt,grid = np.arange(25)[5:],parameter=\"kernel_size_3\")"
   ]
  },
  {
   "cell_type": "code",
   "execution_count": null,
   "metadata": {},
   "outputs": [
    {
     "ename": "NameError",
     "evalue": "name 'kernel_size_Opt' is not defined",
     "output_type": "error",
     "traceback": [
      "\u001b[1;31m---------------------------------------------------------------------------\u001b[0m",
      "\u001b[1;31mNameError\u001b[0m                                 Traceback (most recent call last)",
      "\u001b[1;32m~\\AppData\\Local\\Temp\\ipykernel_18264\\4019323125.py\u001b[0m in \u001b[0;36m<module>\u001b[1;34m\u001b[0m\n\u001b[1;32m----> 1\u001b[1;33m \u001b[0mkernel_size_Opt\u001b[0m\u001b[1;33m,\u001b[0m\u001b[0mMax_acc\u001b[0m\u001b[1;33m\u001b[0m\u001b[1;33m\u001b[0m\u001b[0m\n\u001b[0m",
      "\u001b[1;31mNameError\u001b[0m: name 'kernel_size_Opt' is not defined"
     ]
    }
   ],
   "source": [
    "kernel_size_Opt,Max_acc"
   ]
  },
  {
   "cell_type": "code",
   "execution_count": null,
   "metadata": {},
   "outputs": [],
   "source": [
    "hyperparameters_best=HyperParameters(n_epochs=50,n_conv_in=128,n_conv_in2=128,n_conv_in3=256,n_Flat_out=256,kernel_size_2=50,kernel_size_3=20)"
   ]
  },
  {
   "cell_type": "code",
   "execution_count": null,
   "metadata": {},
   "outputs": [],
   "source": [
    "# grid = (32, 64, 128, 256, 512)\n",
    "# results = []\n",
    "\n",
    "# for n_conv_in in grid:\n",
    "#     for n_conv_in2 in grid:\n",
    "#         for n_conv_in3 in grid:\n",
    "#             arguments_defaults[\"n_conv_in\"] = n_conv_in\n",
    "#             arguments_defaults[\"n_conv_in2\"] = n_conv_in2\n",
    "#             arguments_defaults[\"n_conv_in3\"] = n_conv_in3\n",
    "\n",
    "#             # Appel de votre fonction avec les paramètres spécifiés\n",
    "#             _,_,_,_,result = Hyperparameter_Test(**arguments_defaults)\n",
    "\n",
    "#             # Ajout du résultat à la liste des résultats\n",
    "#             results.append(result)\n",
    "\n",
    "# print(results)\n"
   ]
  },
  {
   "cell_type": "code",
   "execution_count": null,
   "metadata": {},
   "outputs": [
    {
     "ename": "NameError",
     "evalue": "name 'Max_acc' is not defined",
     "output_type": "error",
     "traceback": [
      "\u001b[1;31m---------------------------------------------------------------------------\u001b[0m",
      "\u001b[1;31mNameError\u001b[0m                                 Traceback (most recent call last)",
      "\u001b[1;32m~\\AppData\\Local\\Temp\\ipykernel_18264\\83819675.py\u001b[0m in \u001b[0;36m<module>\u001b[1;34m\u001b[0m\n\u001b[1;32m----> 1\u001b[1;33m \u001b[0mkernel_size_2\u001b[0m\u001b[1;33m,\u001b[0m\u001b[0mMax_acc\u001b[0m\u001b[1;33m\u001b[0m\u001b[1;33m\u001b[0m\u001b[0m\n\u001b[0m",
      "\u001b[1;31mNameError\u001b[0m: name 'Max_acc' is not defined"
     ]
    }
   ],
   "source": [
    "kernel_size_2,Max_acc"
   ]
  },
  {
   "cell_type": "code",
   "execution_count": null,
   "metadata": {},
   "outputs": [],
   "source": [
    "\n",
    "# Hyper_parameter_GridSearch(parameter=\"n_conv_in3\",grid=(32,64,128,256,512),n_epochs=25)"
   ]
  },
  {
   "cell_type": "code",
   "execution_count": null,
   "metadata": {},
   "outputs": [],
   "source": [
    "grids = {\n",
    "    \"n_epochs\": 25,\n",
    "    \"basis\": B(knots=linspace(1,T,6),order=3),\n",
    "    \"granulation\": 2000,\n",
    "    \"n_conv_in\": (32,64, 128,256,512),\n",
    "    \"n_conv_in2\": (32,64, 128,256,512),\n",
    "    \"n_conv_in3\": (32,64, 128,256,512),\n",
    "    \"n_Flat_out\": (32,64, 128,256,512),\n",
    "    \"stride_1\": np.arange(8)[1:],\n",
    "    \"stride_2\": np.arange(2)[1:],\n",
    "    \"stride_3\": 1,\n",
    "    \"stride_pool_1\": 2,\n",
    "    \"stride_pool_2\": 2,\n",
    "    \"stride_pool_3\": 1,\n",
    "    \"kernel_size_1\": (50,75,150,300,400),\n",
    "    \"kernel_size_2\": 50,\n",
    "    \"kernel_size_3\": (5,10,15,20),\n",
    "    \"kernel_size_pool_1\": np.arange(6)[3:],\n",
    "    \"kernel_size_pool_2\": np.arange(4)[3:],\n",
    "    \"kernel_size_pool_3\": (1,2),\n",
    "    \"dilation_1\": 1,\n",
    "    \"dilation_2\": 1,\n",
    "    \"dilation_3\": 1,\n",
    "    \"dilation_pool_1\": 1,\n",
    "    \"dilation_pool_2\": 1,\n",
    "    \"dilation_pool_3\": 1,\n",
    "    \"padding_1\": np.arange(10)[1:],\n",
    "    \"padding_2\": np.arange(10)[1:],\n",
    "    \"padding_3\": np.arange(10)[1:],\n",
    "    \"padding_pool_1\": np.arange(4)[1:],\n",
    "    \"padding_pool_2\": np.arange(4)[1:],\n",
    "    \"padding_pool_3\": np.arange(4)[1:],\n",
    "    \"opt\": \"Adam\",\n",
    "    \"lr\": 0.00089,\n",
    "    \"loss\": nn.CrossEntropyLoss()\n",
    "}\n"
   ]
  },
  {
   "cell_type": "code",
   "execution_count": null,
   "metadata": {},
   "outputs": [],
   "source": [
    "param_list=[\"stride_1\",\"stride_2\",\"kernel_size_1\",\"kernel_size_3\",\"kernel_size_pool_1\",\"kernel_size_pool_2\",\"kernel_size_3\",\"n_conv_in\",\"n_conv_in2\",\"n_conv_in3\",\"n_Flat_out\"]"
   ]
  },
  {
   "cell_type": "code",
   "execution_count": null,
   "metadata": {},
   "outputs": [],
   "source": [
    "def Hyperparameter_Search(hyperparams,grids, parameters):\n",
    "    best_parameters = {}\n",
    "    best_accuracy = 0.0\n",
    "\n",
    "    # Boucle sur les paramètres\n",
    "    for param in parameters:\n",
    "        # Boucle sur les grilles pour chaque paramètre\n",
    "        print(param,type(param))\n",
    "            # Appeler la fonction de Grid Search avec les paramètres spécifiés\n",
    "        optimum_parameter, total_accuracy = Hyper_parameter_GridSearch(hyperparams,parameter=param,grid=grids[param])\n",
    "\n",
    "        # Mettre à jour le meilleur résultat si nécessaire\n",
    "        if total_accuracy > best_accuracy:\n",
    "            best_parameters = hyperparams\n",
    "            best_accuracy = total_accuracy\n",
    "            hyperparams.param=optimum_parameter\n",
    "    return best_parameters, best_accuracy\n"
   ]
  },
  {
   "cell_type": "code",
   "execution_count": 155,
   "metadata": {},
   "outputs": [
    {
     "name": "stdout",
     "output_type": "stream",
     "text": [
      "stride_1 <class 'str'>\n"
     ]
    },
    {
     "name": "stderr",
     "output_type": "stream",
     "text": [
      "C:\\Users\\Utilisateur\\AppData\\Local\\Temp\\ipykernel_7412\\3210377230.py:78: DeprecationWarning: The method 'evaluate' is deprecated. Please use the normal calling notation on the basis object instead.\n",
      "  basis_eval=basis.evaluate(eval_points=eval_points)[:, :, 0]\n",
      "C:\\Users\\Utilisateur\\AppData\\Local\\Temp\\ipykernel_7412\\2871145439.py:121: DeprecationWarning: The method 'evaluate' is deprecated. Please use the normal calling notation on the basis object instead.\n",
      "  basis_eval=basis.evaluate(eval_points=eval_points)[:, :, 0]\n",
      "100%|██████████| 50/50 [01:18<00:00,  1.57s/it]\n"
     ]
    },
    {
     "name": "stdout",
     "output_type": "stream",
     "text": [
      "Précision moyenne = 84.98463 %\n",
      "Précision max= 92.30769 %\n",
      "Variance des précisions = 19.689404\n"
     ]
    },
    {
     "name": "stderr",
     "output_type": "stream",
     "text": [
      "100%|██████████| 50/50 [00:40<00:00,  1.25it/s]\n"
     ]
    },
    {
     "name": "stdout",
     "output_type": "stream",
     "text": [
      "Précision moyenne = 83.10769 %\n",
      "Précision max= 90.0 %\n",
      "Variance des précisions = 12.412992\n"
     ]
    },
    {
     "name": "stderr",
     "output_type": "stream",
     "text": [
      "100%|██████████| 50/50 [00:25<00:00,  1.93it/s]\n"
     ]
    },
    {
     "name": "stdout",
     "output_type": "stream",
     "text": [
      "Précision moyenne = 85.600006 %\n",
      "Précision max= 90.76923 %\n",
      "Variance des précisions = 9.371812\n"
     ]
    },
    {
     "name": "stderr",
     "output_type": "stream",
     "text": [
      "100%|██████████| 50/50 [00:19<00:00,  2.53it/s]\n"
     ]
    },
    {
     "name": "stdout",
     "output_type": "stream",
     "text": [
      "Précision moyenne = 88.06155 %\n",
      "Précision max= 93.07692 %\n",
      "Variance des précisions = 10.8499\n"
     ]
    },
    {
     "name": "stderr",
     "output_type": "stream",
     "text": [
      "100%|██████████| 50/50 [00:17<00:00,  2.86it/s]\n"
     ]
    },
    {
     "name": "stdout",
     "output_type": "stream",
     "text": [
      "Précision moyenne = 84.46154 %\n",
      "Précision max= 89.23077 %\n",
      "Variance des précisions = 5.3616686\n"
     ]
    },
    {
     "name": "stderr",
     "output_type": "stream",
     "text": [
      "100%|██████████| 50/50 [00:14<00:00,  3.46it/s]\n"
     ]
    },
    {
     "name": "stdout",
     "output_type": "stream",
     "text": [
      "Précision moyenne = 82.41538 %\n",
      "Précision max= 89.23077 %\n",
      "Variance des précisions = 9.515999\n"
     ]
    },
    {
     "name": "stderr",
     "output_type": "stream",
     "text": [
      "100%|██████████| 50/50 [00:13<00:00,  3.60it/s]\n"
     ]
    },
    {
     "name": "stdout",
     "output_type": "stream",
     "text": [
      "Précision moyenne = 86.246155 %\n",
      "Précision max= 91.53846 %\n",
      "Variance des précisions = 9.700272\n"
     ]
    },
    {
     "ename": "ValueError",
     "evalue": "too many values to unpack (expected 2)",
     "output_type": "error",
     "traceback": [
      "\u001b[1;31m---------------------------------------------------------------------------\u001b[0m",
      "\u001b[1;31mValueError\u001b[0m                                Traceback (most recent call last)",
      "\u001b[1;32m~\\AppData\\Local\\Temp\\ipykernel_7412\\922912364.py\u001b[0m in \u001b[0;36m<module>\u001b[1;34m\u001b[0m\n\u001b[1;32m----> 1\u001b[1;33m \u001b[0mbest_para\u001b[0m\u001b[1;33m,\u001b[0m\u001b[0mbest_acc\u001b[0m\u001b[1;33m=\u001b[0m\u001b[0mHyperparameter_Search\u001b[0m\u001b[1;33m(\u001b[0m\u001b[0mhyperparams\u001b[0m\u001b[1;33m=\u001b[0m\u001b[0mhyperparameters_opt\u001b[0m\u001b[1;33m,\u001b[0m\u001b[0mgrids\u001b[0m\u001b[1;33m=\u001b[0m\u001b[0mgrids\u001b[0m\u001b[1;33m,\u001b[0m\u001b[0mparameters\u001b[0m\u001b[1;33m=\u001b[0m\u001b[0mparam_list\u001b[0m\u001b[1;33m)\u001b[0m\u001b[1;33m\u001b[0m\u001b[1;33m\u001b[0m\u001b[0m\n\u001b[0m",
      "\u001b[1;32m~\\AppData\\Local\\Temp\\ipykernel_7412\\2913187254.py\u001b[0m in \u001b[0;36mHyperparameter_Search\u001b[1;34m(hyperparams, grids, parameters)\u001b[0m\n\u001b[0;32m      8\u001b[0m         \u001b[0mprint\u001b[0m\u001b[1;33m(\u001b[0m\u001b[0mparam\u001b[0m\u001b[1;33m,\u001b[0m\u001b[0mtype\u001b[0m\u001b[1;33m(\u001b[0m\u001b[0mparam\u001b[0m\u001b[1;33m)\u001b[0m\u001b[1;33m)\u001b[0m\u001b[1;33m\u001b[0m\u001b[1;33m\u001b[0m\u001b[0m\n\u001b[0;32m      9\u001b[0m             \u001b[1;31m# Appeler la fonction de Grid Search avec les paramètres spécifiés\u001b[0m\u001b[1;33m\u001b[0m\u001b[1;33m\u001b[0m\u001b[0m\n\u001b[1;32m---> 10\u001b[1;33m         \u001b[0moptimum_parameter\u001b[0m\u001b[1;33m,\u001b[0m \u001b[0mtotal_accuracy\u001b[0m \u001b[1;33m=\u001b[0m \u001b[0mHyper_parameter_GridSearch\u001b[0m\u001b[1;33m(\u001b[0m\u001b[0mhyperparams\u001b[0m\u001b[1;33m,\u001b[0m\u001b[0mparameter\u001b[0m\u001b[1;33m=\u001b[0m\u001b[0mparam\u001b[0m\u001b[1;33m,\u001b[0m\u001b[0mgrid\u001b[0m\u001b[1;33m=\u001b[0m\u001b[0mgrids\u001b[0m\u001b[1;33m[\u001b[0m\u001b[0mparam\u001b[0m\u001b[1;33m]\u001b[0m\u001b[1;33m)\u001b[0m\u001b[1;33m\u001b[0m\u001b[1;33m\u001b[0m\u001b[0m\n\u001b[0m\u001b[0;32m     11\u001b[0m \u001b[1;33m\u001b[0m\u001b[0m\n\u001b[0;32m     12\u001b[0m         \u001b[1;31m# Mettre à jour le meilleur résultat si nécessaire\u001b[0m\u001b[1;33m\u001b[0m\u001b[1;33m\u001b[0m\u001b[0m\n",
      "\u001b[1;31mValueError\u001b[0m: too many values to unpack (expected 2)"
     ]
    }
   ],
   "source": [
    "best_para,best_acc=Hyperparameter_Search(hyperparams=hyperparameters_opt,grids=grids,parameters=param_list)"
   ]
  },
  {
   "cell_type": "code",
   "execution_count": 151,
   "metadata": {},
   "outputs": [
    {
     "name": "stderr",
     "output_type": "stream",
     "text": [
      "C:\\Users\\Utilisateur\\AppData\\Local\\Temp\\ipykernel_7412\\3210377230.py:78: DeprecationWarning: The method 'evaluate' is deprecated. Please use the normal calling notation on the basis object instead.\n",
      "  basis_eval=basis.evaluate(eval_points=eval_points)[:, :, 0]\n",
      "C:\\Users\\Utilisateur\\AppData\\Local\\Temp\\ipykernel_7412\\2871145439.py:121: DeprecationWarning: The method 'evaluate' is deprecated. Please use the normal calling notation on the basis object instead.\n",
      "  basis_eval=basis.evaluate(eval_points=eval_points)[:, :, 0]\n",
      "100%|██████████| 50/50 [00:02<00:00, 17.79it/s]\n"
     ]
    },
    {
     "name": "stdout",
     "output_type": "stream",
     "text": [
      "Précision moyenne = 88.0 %\n",
      "Précision max= 91.53846 %\n",
      "Variance des précisions = 4.661273\n"
     ]
    },
    {
     "name": "stderr",
     "output_type": "stream",
     "text": [
      "100%|██████████| 50/50 [00:03<00:00, 15.01it/s]\n"
     ]
    },
    {
     "name": "stdout",
     "output_type": "stream",
     "text": [
      "Précision moyenne = 87.769226 %\n",
      "Précision max= 93.84615 %\n",
      "Variance des précisions = 11.671297\n"
     ]
    },
    {
     "name": "stderr",
     "output_type": "stream",
     "text": [
      "100%|██████████| 50/50 [00:04<00:00, 10.06it/s]\n"
     ]
    },
    {
     "name": "stdout",
     "output_type": "stream",
     "text": [
      "Précision moyenne = 81.96924 %\n",
      "Précision max= 88.46153 %\n",
      "Variance des précisions = 11.934789\n"
     ]
    },
    {
     "name": "stderr",
     "output_type": "stream",
     "text": [
      "100%|██████████| 50/50 [00:07<00:00,  6.37it/s]\n"
     ]
    },
    {
     "name": "stdout",
     "output_type": "stream",
     "text": [
      "Précision moyenne = 87.4 %\n",
      "Précision max= 90.76923 %\n",
      "Variance des précisions = 3.9340646\n"
     ]
    },
    {
     "name": "stderr",
     "output_type": "stream",
     "text": [
      "100%|██████████| 50/50 [00:13<00:00,  3.64it/s]"
     ]
    },
    {
     "name": "stdout",
     "output_type": "stream",
     "text": [
      "Précision moyenne = 85.21538 %\n",
      "Précision max= 90.76923 %\n",
      "Variance des précisions = 10.996013\n"
     ]
    },
    {
     "name": "stderr",
     "output_type": "stream",
     "text": [
      "\n"
     ]
    }
   ],
   "source": [
    "hyperparameters_best.lr=0.01\n",
    "hyperparameters_best.opt=\"SGD\"\n",
    "best_off,best_acc,n_opt=Hyper_parameter_GridSearch(hyperparameters_opt,parameter=\"n_conv_in\",grid=(32,64, 128,256,512))\n"
   ]
  },
  {
   "cell_type": "code",
   "execution_count": 152,
   "metadata": {},
   "outputs": [
    {
     "data": {
      "text/plain": [
       "(64, tensor(93.8462), tensor(38))"
      ]
     },
     "execution_count": 152,
     "metadata": {},
     "output_type": "execute_result"
    }
   ],
   "source": [
    "best_off,best_acc,n_opt"
   ]
  },
  {
   "cell_type": "code",
   "execution_count": 107,
   "metadata": {},
   "outputs": [
    {
     "data": {
      "text/plain": [
       "512"
      ]
     },
     "execution_count": 107,
     "metadata": {},
     "output_type": "execute_result"
    }
   ],
   "source": [
    "hyperparameters_opt.n_conv_in"
   ]
  },
  {
   "cell_type": "code",
   "execution_count": 190,
   "metadata": {},
   "outputs": [
    {
     "data": {
      "text/plain": [
       "0"
      ]
     },
     "execution_count": 190,
     "metadata": {},
     "output_type": "execute_result"
    }
   ],
   "source": [
    "import gc\n",
    "torch.cuda.empty_cache()\n",
    "gc.collect()"
   ]
  }
 ],
 "metadata": {
  "kernelspec": {
   "display_name": "base",
   "language": "python",
   "name": "python3"
  },
  "language_info": {
   "codemirror_mode": {
    "name": "ipython",
    "version": 3
   },
   "file_extension": ".py",
   "mimetype": "text/x-python",
   "name": "python",
   "nbconvert_exporter": "python",
   "pygments_lexer": "ipython3",
   "version": "3.9.13"
  },
  "orig_nbformat": 4
 },
 "nbformat": 4,
 "nbformat_minor": 2
}
