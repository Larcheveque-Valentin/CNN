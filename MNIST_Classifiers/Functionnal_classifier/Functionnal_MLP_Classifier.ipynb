{
 "cells": [
  {
   "cell_type": "code",
   "execution_count": 6,
   "metadata": {},
   "outputs": [],
   "source": [
    "# -*- coding: utf-8 -*-\n",
    "\"\"\"\n",
    "Created on Mon Aug 15 14:49:58 2022\n",
    "\n",
    "@author: Sidi Wu and Cédric Beaulac\n",
    "\n",
    "Functional autoencoder implementation\n",
    "\"\"\"\n",
    "\n",
    "# Import modules\n",
    "import sys\n",
    "import torch\n",
    "import torch.nn.init as init\n",
    "import torch.nn.functional as F\n",
    "import torch.nn as nn\n",
    "from torch import optim\n",
    "from torch.autograd import Variable\n",
    "from torchvision import datasets, transforms\n",
    "from torchvision.utils import save_image\n",
    "import pandas as pd\n",
    "import numpy as np\n",
    "from numpy import *\n",
    "import seaborn as sns\n",
    "import matplotlib\n",
    "#matplotlib.use('TkAgg')\n",
    "from matplotlib import pyplot as plt\n",
    "# import skfda as fda\n",
    "# from skfda import representation as representation\n",
    "# from skfda.exploratory.visualization import FPCAPlot\n",
    "# # from skfda.exploratory.visualization import FPCAPlot\n",
    "# # from skfda.preprocessing.dim_reduction import FPCA\n",
    "# # from skfda.representation.basis import BSpline, Fourier, Monomial\n",
    "import scipy\n",
    "from scipy.interpolate import BSpline\n",
    "import os\n",
    "import ignite\n",
    "import sklearn\n",
    "from sklearn.utils import shuffle\n",
    "from sklearn.decomposition import PCA\n",
    "from sklearn.linear_model import LogisticRegression\n",
    "from sklearn.metrics import classification_report, confusion_matrix\n",
    "from sklearn.cluster import KMeans\n",
    "import random\n",
    "from random import seed\n",
    "from scipy import stats\n",
    "import statistics\n",
    "from statistics import stdev\n",
    "import skfda\n",
    "\n",
    "import skfda\n",
    "from skfda import FDataGrid as fd\n"
   ]
  },
  {
   "cell_type": "code",
   "execution_count": 7,
   "metadata": {},
   "outputs": [
    {
     "name": "stderr",
     "output_type": "stream",
     "text": [
      "c:\\Users\\Utilisateur\\anaconda3\\lib\\site-packages\\rdata\\conversion\\_conversion.py:843: UserWarning: Missing constructor for R class \"sfts\". The constructor for class \"fts\" will be used instead.\n",
      "  warnings.warn(\n",
      "c:\\Users\\Utilisateur\\anaconda3\\lib\\site-packages\\rdata\\conversion\\_conversion.py:843: UserWarning: Missing constructor for R class \"fts\". The constructor for class \"fds\" will be used instead.\n",
      "  warnings.warn(\n",
      "c:\\Users\\Utilisateur\\anaconda3\\lib\\site-packages\\rdata\\conversion\\_conversion.py:843: UserWarning: Missing constructor for R class \"fds\". The underlying R object is returned instead.\n",
      "  warnings.warn(\n",
      "c:\\Users\\Utilisateur\\anaconda3\\lib\\site-packages\\rdata\\conversion\\_conversion.py:843: UserWarning: Missing constructor for R class \"sfts\". The constructor for class \"fts\" will be used instead.\n",
      "  warnings.warn(\n",
      "c:\\Users\\Utilisateur\\anaconda3\\lib\\site-packages\\rdata\\conversion\\_conversion.py:843: UserWarning: Missing constructor for R class \"fts\". The constructor for class \"fds\" will be used instead.\n",
      "  warnings.warn(\n",
      "c:\\Users\\Utilisateur\\anaconda3\\lib\\site-packages\\rdata\\conversion\\_conversion.py:843: UserWarning: Missing constructor for R class \"fds\". The underlying R object is returned instead.\n",
      "  warnings.warn(\n",
      "c:\\Users\\Utilisateur\\anaconda3\\lib\\site-packages\\rdata\\conversion\\_conversion.py:843: UserWarning: Missing constructor for R class \"sfts\". The constructor for class \"fts\" will be used instead.\n",
      "  warnings.warn(\n",
      "c:\\Users\\Utilisateur\\anaconda3\\lib\\site-packages\\rdata\\conversion\\_conversion.py:843: UserWarning: Missing constructor for R class \"fts\". The constructor for class \"fds\" will be used instead.\n",
      "  warnings.warn(\n",
      "c:\\Users\\Utilisateur\\anaconda3\\lib\\site-packages\\rdata\\conversion\\_conversion.py:843: UserWarning: Missing constructor for R class \"fds\". The underlying R object is returned instead.\n",
      "  warnings.warn(\n",
      "c:\\Users\\Utilisateur\\anaconda3\\lib\\site-packages\\rdata\\conversion\\_conversion.py:843: UserWarning: Missing constructor for R class \"sfts\". The constructor for class \"fts\" will be used instead.\n",
      "  warnings.warn(\n",
      "c:\\Users\\Utilisateur\\anaconda3\\lib\\site-packages\\rdata\\conversion\\_conversion.py:843: UserWarning: Missing constructor for R class \"fts\". The constructor for class \"fds\" will be used instead.\n",
      "  warnings.warn(\n",
      "c:\\Users\\Utilisateur\\anaconda3\\lib\\site-packages\\rdata\\conversion\\_conversion.py:843: UserWarning: Missing constructor for R class \"fds\". The underlying R object is returned instead.\n",
      "  warnings.warn(\n"
     ]
    }
   ],
   "source": [
    "##Importation des données sous forme FDA\n",
    "\n",
    "ElNino_OISST_region_1and2=skfda.datasets.fetch_cran(\"ElNino_OISST_region_1and2\",\"rainbow\")\n",
    "ElNino_OISST_region_3=skfda.datasets.fetch_cran(\"ElNino_OISST_region_3\",\"rainbow\")\n",
    "ElNino_OISST_region_4=skfda.datasets.fetch_cran(\"ElNino_OISST_region_4\",\"rainbow\")\n",
    "ElNino_OISST_region_3and4=skfda.datasets.fetch_cran(\"ElNino_OISST_region_3and4\",\"rainbow\")\n"
   ]
  },
  {
   "cell_type": "code",
   "execution_count": 8,
   "metadata": {},
   "outputs": [],
   "source": [
    "ElNino_OISST_region_1and2_y=ElNino_OISST_region_1and2['ElNino_OISST_region_1and2']['y'].to_numpy()\n",
    "ElNino_OISST_region_1and2_x=ElNino_OISST_region_1and2['ElNino_OISST_region_1and2']['x']\n",
    "# plt.plot(ElNino_OISST_region_1and2_x,ElNino_OISST_region_1and2_y)\n",
    "# plt.show(\n",
    "# )\n",
    "ElNino_OISST_region_3_y=ElNino_OISST_region_3['ElNino_OISST_region_3']['y'].to_numpy()\n",
    "ElNino_OISST_region_3_x=ElNino_OISST_region_3['ElNino_OISST_region_3']['x']\n",
    "# plt.plot(ElNino_OISST_region_3_x,ElNino_OISST_region_3_y)\n",
    "# plt.show(\n",
    "# )\n",
    "\n",
    "ElNino_OISST_region_3and4_y=ElNino_OISST_region_3and4['ElNino_OISST_region_3and4']['y'].to_numpy()\n",
    "ElNino_OISST_region_3and4_x=ElNino_OISST_region_3and4['ElNino_OISST_region_3and4']['x']\n",
    "# plt.plot(ElNino_OISST_region_3and4_x,ElNino_OISST_region_3and4_y)\n",
    "# plt.show(\n",
    "# )\n",
    "\n",
    "\n",
    "ElNino_OISST_region_4_y=ElNino_OISST_region_4['ElNino_OISST_region_4']['y'].to_numpy()\n",
    "ElNino_OISST_region_4_x=ElNino_OISST_region_4['ElNino_OISST_region_4']['x']\n",
    "# plt.plot(ElNino_OISST_region_4_x,ElNino_OISST_region_4_y)\n",
    "# plt.show(\n",
    "# )"
   ]
  },
  {
   "cell_type": "code",
   "execution_count": null,
   "metadata": {},
   "outputs": [],
   "source": []
  },
  {
   "cell_type": "code",
   "execution_count": 9,
   "metadata": {},
   "outputs": [],
   "source": [
    "x0=torch.tensor(ElNino_OISST_region_1and2_y).float().cuda()\n",
    "x1=torch.tensor(ElNino_OISST_region_3_y).float().cuda()\n",
    "x2=torch.tensor(ElNino_OISST_region_4_y).float().cuda()\n",
    "x3=torch.tensor(ElNino_OISST_region_3and4_y).float().cuda()\n",
    "x0=torch.t(x0)\n",
    "x1=torch.t(x1)\n",
    "x2=torch.t(x2)\n",
    "x3=torch.t(x3)"
   ]
  },
  {
   "cell_type": "code",
   "execution_count": 10,
   "metadata": {},
   "outputs": [],
   "source": [
    "\n",
    "labels = torch.tensor([0] * x0.shape[0] + [1] * x1.shape[0] + [2] * x2.shape[0] + [3] * x3.shape[0])\n",
    "X=torch.concatenate([x0,x1,x2,x3])\n",
    "x_train,x_test,y_train,y_test=sklearn.model_selection.train_test_split(X,labels,shuffle=True)\n",
    "x_train=x_train.reshape(111,1,12).cuda()\n",
    "y_train=y_train.unsqueeze(1).cuda()\n",
    "x_test=x_test.reshape(37,1,12).cuda()\n",
    "y_test=y_test.unsqueeze(1).cuda()"
   ]
  },
  {
   "cell_type": "code",
   "execution_count": 11,
   "metadata": {},
   "outputs": [],
   "source": [
    "\n",
    "def weights_init_normal(m):\n",
    "    classname = m.__class__.__name__\n",
    "    if classname.find('Conv') != -1:\n",
    "        torch.nn.init.normal_(m.weight.data, 0.0, 3)\n",
    "    elif classname.find('BatchNorm') != -1:\n",
    "        torch.nn.init.normal_(m.weight.data, 1.0, 3)\n",
    "        torch.nn.init.constant_(m.bias.data, 0.0)\n"
   ]
  },
  {
   "cell_type": "code",
   "execution_count": 12,
   "metadata": {},
   "outputs": [],
   "source": [
    "class FMLP(nn.Module):\n",
    "    def __init__(self):\n",
    "        super(FMLP,self).__init__()\n",
    "        self.fc_block1=nn.Sequential(\n",
    "            nn.Flatten(),\n",
    "            nn.Linear(12,64),\n",
    "            nn.BatchNorm1d(64),\n",
    "            nn.LeakyReLU(0.18),\n",
    "        )\n",
    "        self.fc_block2=nn.Sequential(     \n",
    "            nn.Linear(64,128),\n",
    "            nn.BatchNorm1d(128),\n",
    "            nn.LeakyReLU(0.18),\n",
    "            nn.Linear(128,4)\n",
    "        )\n",
    "    \n",
    "        \n",
    "\n",
    "    def forward(self,x):\n",
    "\n",
    "        block_out1=self.fc_block1(x)\n",
    "        block_out2=self.fc_block2(block_out1)\n",
    "\n",
    "        return block_out2.float().unsqueeze_(2).unsqueeze_(3)"
   ]
  },
  {
   "cell_type": "code",
   "execution_count": 190,
   "metadata": {},
   "outputs": [
    {
     "data": {
      "text/plain": [
       "torch.Size([111, 4, 1, 1])"
      ]
     },
     "execution_count": 190,
     "metadata": {},
     "output_type": "execute_result"
    }
   ],
   "source": [
    "mlp=FMLP().cuda().apply(weights_init_normal)\n",
    "mlp(x_train).shape"
   ]
  },
  {
   "cell_type": "code",
   "execution_count": 191,
   "metadata": {},
   "outputs": [
    {
     "name": "stdout",
     "output_type": "stream",
     "text": [
      "Précision moyenne = 43.243244 %\n"
     ]
    }
   ],
   "source": [
    "print(\"Précision moyenne =\",((torch.sum(torch.argmax(mlp(x_test),dim=1).squeeze(1)==y_test)/37)*100).detach().cpu().numpy(),\"%\")"
   ]
  },
  {
   "cell_type": "code",
   "execution_count": 192,
   "metadata": {},
   "outputs": [],
   "source": [
    "lr=0.0001\n",
    "batch_size=32\n",
    "betas=[0.45,0.98]\n",
    "# optimizer=optim.SGD(params=mlp.parameters(),lr=lr)\n",
    "\n",
    "optimizer=optim.Adam(params=mlp.parameters(),lr=lr,betas=betas)\n",
    "\n",
    "\n",
    "loss_function=nn.CrossEntropyLoss()\n",
    "train_loss=torch.tensor(0).cuda().long()\n"
   ]
  },
  {
   "cell_type": "code",
   "execution_count": 222,
   "metadata": {},
   "outputs": [],
   "source": [
    "\n",
    "from tqdm import tqdm\n",
    "def train(n_epochs):\n",
    "    train_loss=torch.tensor(0).cuda().long()\n",
    "    for epoch in tqdm(range(n_epochs)):\n",
    "        print(\"Précision moyenne =\",((torch.sum(torch.argmax(mlp(x_test),dim=1).squeeze(1)==y_test)/37)*100).detach().cpu().numpy(),\"%\")\n",
    "    \n",
    "        for i in range(int(len(x_train)/batch_size)):\n",
    "            functions_train=x_train[batch_size*i:batch_size*(1+i),:,:]\n",
    "            labels_train=y_train[batch_size*i:batch_size*(1+i)]\n",
    "            optimizer.zero_grad()\n",
    "            output=mlp(functions_train)\n",
    "            loss=loss_function(input=output,target=labels_train.unsqueeze(1).long())\n",
    "\n",
    "            loss.backward()\n",
    "            optimizer.step()\n",
    "            train_loss+=loss.long()\n",
    "        return train_loss,loss \n",
    "\n",
    "            \n",
    "\n",
    "\n",
    "        "
   ]
  },
  {
   "cell_type": "code",
   "execution_count": 221,
   "metadata": {},
   "outputs": [
    {
     "name": "stdout",
     "output_type": "stream",
     "text": [
      ";\n"
     ]
    },
    {
     "name": "stderr",
     "output_type": "stream",
     "text": [
      "100%|██████████| 3/3 [00:00<00:00, 334.21it/s]"
     ]
    },
    {
     "name": "stdout",
     "output_type": "stream",
     "text": [
      "Précision moyenne = 72.97298 %\n"
     ]
    },
    {
     "name": "stderr",
     "output_type": "stream",
     "text": [
      "\n"
     ]
    }
   ],
   "source": [
    "\n",
    "\n",
    "print(';')\n",
    "train(1)\n",
    "print(\"Précision moyenne =\",((torch.sum(torch.argmax(mlp(x_test),dim=1).squeeze(1)==y_test)/37)*100).detach().cpu().numpy(),\"%\")"
   ]
  },
  {
   "cell_type": "code",
   "execution_count": 110,
   "metadata": {},
   "outputs": [
    {
     "data": {
      "text/plain": [
       "9"
      ]
     },
     "execution_count": 110,
     "metadata": {},
     "output_type": "execute_result"
    }
   ],
   "source": [
    "import gc\n",
    "import torch\n",
    "torch.cuda.empty_cache()\n",
    "gc.collect()"
   ]
  }
 ],
 "metadata": {
  "kernelspec": {
   "display_name": "base",
   "language": "python",
   "name": "python3"
  },
  "language_info": {
   "codemirror_mode": {
    "name": "ipython",
    "version": 3
   },
   "file_extension": ".py",
   "mimetype": "text/x-python",
   "name": "python",
   "nbconvert_exporter": "python",
   "pygments_lexer": "ipython3",
   "version": "3.9.13"
  },
  "orig_nbformat": 4
 },
 "nbformat": 4,
 "nbformat_minor": 2
}
