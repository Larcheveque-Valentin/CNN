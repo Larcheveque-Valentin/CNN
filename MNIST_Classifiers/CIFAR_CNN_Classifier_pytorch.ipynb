{
 "cells": [
  {
   "cell_type": "code",
   "execution_count": null,
   "metadata": {},
   "outputs": [],
   "source": []
  },
  {
   "cell_type": "code",
   "execution_count": 19,
   "metadata": {},
   "outputs": [],
   "source": [
    "## library\n",
    "import random\n",
    "import numpy as np\n",
    "import torch\n",
    "from torch.autograd.variable import Variable\n",
    "from torch import nn, optim\n",
    "import argparse\n",
    "import matplotlib as plt \n",
    "from torchvision import transforms, datasets\n",
    "from torch.utils.data import DataLoader\n",
    "import sys\n",
    "import visdom\n",
    "import numpy as np\n",
    "from keras.utils.vis_utils import plot_model\n",
    "import time\n",
    "from tqdm import tqdm\n",
    "import tensorflow as tf\n",
    "from torchsummary import summary\n",
    "from torch.utils.data import Subset\n",
    "import tensorflow as tf\n",
    "import cv2\n",
    "import numpy as np\n",
    "from PIL import Image\n",
    "\n",
    "##Classifier_cifar pytorch    "
   ]
  },
  {
   "cell_type": "code",
   "execution_count": 2,
   "metadata": {},
   "outputs": [],
   "source": [
    "noise_dim=100\n",
    "batch_size=60\n",
    "num_img_channel=3\n",
    "img_size=32\n",
    "sample_interval=64          \n",
    "\n"
   ]
  },
  {
   "cell_type": "code",
   "execution_count": 153,
   "metadata": {},
   "outputs": [],
   "source": [
    "class Classifier_cifar(nn.Module):\n",
    "    def __init__(self):\n",
    "        super(Classifier_cifar,self).__init__()\n",
    "\n",
    "        \n",
    "        \n",
    "        self.conv_layer1=nn.Sequential(\n",
    "            nn.Conv2d(num_img_channel,3,kernel_size=[7,7],stride=1,padding=2,bias =False,dilation=1),\n",
    "        \n",
    "            \n",
    "            nn.LeakyReLU(0.18,inplace=True),\n",
    "        )\n",
    "\n",
    "        self.conv_layer2=nn.Sequential(\n",
    "            nn.Conv2d(3,16,kernel_size=[6,6],stride=1,padding=0,bias =False,dilation=1,),\n",
    "        \n",
    "            nn.BatchNorm2d(16),\n",
    "            nn.LeakyReLU(0.18,inplace=True),\n",
    "        )\n",
    "        \n",
    "\n",
    "\n",
    "        self.fc_block1= nn.Sequential(\n",
    "            \n",
    "            nn.Linear(16*25*25,512),\n",
    "            nn.BatchNorm1d(512),\n",
    "            nn.LeakyReLU(0.18,inplace=True),\n",
    "            nn.Linear(512,10)\n",
    "        )\n",
    "\n",
    "\n",
    "\n",
    "    def forward(self,img):\n",
    "        layer1_out=self.conv_layer1(img)\n",
    "        layer2_out=self.conv_layer2(layer1_out)\n",
    "        conv_out=layer2_out.view(img.size(0),16*25*25)\n",
    "        l2_value = self.fc_block1(conv_out)\n",
    "        l2_value2 = l2_value.unsqueeze_(dim=2).unsqueeze_(dim=3)\n",
    "        return l2_value2"
   ]
  },
  {
   "cell_type": "code",
   "execution_count": 4,
   "metadata": {},
   "outputs": [],
   "source": [
    "\n",
    "def weights_init_normal(m):\n",
    "    classname = m.__class__.__name__\n",
    "    if classname.find('Conv') != -1:\n",
    "        torch.nn.init.normal_(m.weight.data, 0.0, 0.02)\n",
    "    elif classname.find('BatchNorm') != -1:\n",
    "        torch.nn.init.normal_(m.weight.data, 1.0, 0.02)\n",
    "        torch.nn.init.constant_(m.bias.data, 0.0)\n",
    "\n"
   ]
  },
  {
   "cell_type": "code",
   "execution_count": 5,
   "metadata": {},
   "outputs": [
    {
     "name": "stdout",
     "output_type": "stream",
     "text": [
      "Dimensions des ensembles d'entraînement :\n",
      "x_train: torch.Size([50000, 32, 32, 3])\n",
      "y_train: torch.Size([50000, 1])\n",
      "Dimensions des ensembles de test :\n",
      "x_test: torch.Size([10000, 32, 32, 3])\n",
      "y_test: torch.Size([10000, 1])\n"
     ]
    }
   ],
   "source": [
    "\n",
    "Tensor = torch.cuda.FloatTensor\n",
    "# Téléchargement des données CIFAR-10\n",
    "(x_train, y_train), (x_test, y_test) = tf.keras.datasets.cifar10.load_data()\n",
    "x_train_vis,x_test_vis=(x_train,x_test)\n",
    "(x_train, y_train), (x_test, y_test)= (torch.tensor(x_train),torch.tensor(y_train).cuda()), (torch.tensor(x_test),torch.tensor( y_test).cuda())\n",
    "# Affichage des dimensions des ensembles d'entraînement et de test\n",
    "print('Dimensions des ensembles d\\'entraînement :')\n",
    "print('x_train:', x_train.shape)\n",
    "print('y_train:', y_train.shape)\n",
    "print('Dimensions des ensembles de test :')\n",
    "print('x_test:', x_test.shape)\n",
    "print('y_test:', y_test.shape)\n",
    "x_train=x_train.permute(0,3,1,2).cuda().float()\n",
    "x_test=x_test.permute(0,3,1,2).cuda().float()\n",
    "\n",
    "\n"
   ]
  },
  {
   "cell_type": "code",
   "execution_count": 84,
   "metadata": {},
   "outputs": [],
   "source": [
    "\n",
    "classifier_cifar=Classifier_cifar()\n",
    "classifier_cifar=classifier_cifar.cuda()\n",
    "\n",
    "classifier_cifar.apply(weights_init_normal)\n",
    "def Class_out(K):\n",
    "    if classifier_cifar(x_test)[K].argmax()==0:\n",
    "        print(\"C'est un Avion!\")\n",
    "    if classifier_cifar(x_test)[K].argmax()==1:\n",
    "        print(\"C'est une Voiture!\")\n",
    "    if classifier_cifar(x_test)[K].argmax()==2:\n",
    "        print(\"C'est un Oiseau!\")\n",
    "    if classifier_cifar(x_test)[K].argmax()==3:\n",
    "        print(\"C'est un chat!\")\n",
    "    if classifier_cifar(x_test)[K].argmax()==4:\n",
    "        print(\"C'est un Cerf!\")\n",
    "    if classifier_cifar(x_test)[K].argmax()==5:\n",
    "        print(\"C'est un Chien!\")\n",
    "    if classifier_cifar(x_test)[K].argmax()==6:\n",
    "        print(\"C'est une Grenouille!\")\n",
    "    if classifier_cifar(x_test)[K].argmax()==7:\n",
    "        print(\"C'est un Cheval!\")\n",
    "    if classifier_cifar(x_test)[K].argmax()==8:\n",
    "        print(\"C'est un Bateau!\")\n",
    "    if classifier_cifar(x_test)[K].argmax()==9:\n",
    "        print(\"C'est un Camion!\")"
   ]
  },
  {
   "cell_type": "code",
   "execution_count": 85,
   "metadata": {},
   "outputs": [
    {
     "data": {
      "text/plain": [
       "[torch.Size([1, 3, 30, 30]), torch.Size([1, 16, 25, 25])]"
      ]
     },
     "execution_count": 85,
     "metadata": {},
     "output_type": "execute_result"
    }
   ],
   "source": [
    "\n",
    "Image_conv1=classifier_cifar.conv_layer1(x_test[0,:,:,:].unsqueeze(0))\n",
    "Image_conv2=classifier_cifar.conv_layer2(Image_conv1)\n",
    "\n",
    "[Image_conv1.shape,Image_conv2.shape]"
   ]
  },
  {
   "cell_type": "code",
   "execution_count": 88,
   "metadata": {},
   "outputs": [
    {
     "data": {
      "text/plain": [
       "torch.Size([13, 10, 1, 1])"
      ]
     },
     "execution_count": 88,
     "metadata": {},
     "output_type": "execute_result"
    }
   ],
   "source": [
    "classifier_cifar(x_test[:13,:,:,:]).shape\n"
   ]
  },
  {
   "cell_type": "code",
   "execution_count": 89,
   "metadata": {},
   "outputs": [
    {
     "data": {
      "image/png": "[encoded data removed]",
      "text/plain": [
       "<PIL.Image.Image image mode=RGB size=32x32>"
      ]
     },
     "execution_count": 89,
     "metadata": {},
     "output_type": "execute_result"
    }
   ],
   "source": [
    "Image.fromarray(np.uint8(x_test_vis[1001]))"
   ]
  },
  {
   "cell_type": "code",
   "execution_count": 90,
   "metadata": {},
   "outputs": [],
   "source": [
    "K=random.randint(0,10000)\n",
    "Image_vis=x_test[K,:,:,:].unsqueeze(0)\n",
    "Image_vis_conv1=classifier_cifar.conv_layer1(Image_vis)\n",
    "Image_vis_conv2=classifier_cifar.conv_layer2(Image_vis_conv1)\n"
   ]
  },
  {
   "cell_type": "code",
   "execution_count": 92,
   "metadata": {},
   "outputs": [
    {
     "ename": "TypeError",
     "evalue": "Cannot handle this data type: (1, 1, 16), |u1",
     "output_type": "error",
     "traceback": [
      "\u001b[1;31m---------------------------------------------------------------------------\u001b[0m",
      "\u001b[1;31mKeyError\u001b[0m                                  Traceback (most recent call last)",
      "\u001b[1;32mc:\\Users\\Utilisateur\\anaconda3\\lib\\site-packages\\PIL\\Image.py\u001b[0m in \u001b[0;36mfromarray\u001b[1;34m(obj, mode)\u001b[0m\n\u001b[0;32m   2952\u001b[0m         \u001b[1;32mtry\u001b[0m\u001b[1;33m:\u001b[0m\u001b[1;33m\u001b[0m\u001b[1;33m\u001b[0m\u001b[0m\n\u001b[1;32m-> 2953\u001b[1;33m             \u001b[0mmode\u001b[0m\u001b[1;33m,\u001b[0m \u001b[0mrawmode\u001b[0m \u001b[1;33m=\u001b[0m \u001b[0m_fromarray_typemap\u001b[0m\u001b[1;33m[\u001b[0m\u001b[0mtypekey\u001b[0m\u001b[1;33m]\u001b[0m\u001b[1;33m\u001b[0m\u001b[1;33m\u001b[0m\u001b[0m\n\u001b[0m\u001b[0;32m   2954\u001b[0m         \u001b[1;32mexcept\u001b[0m \u001b[0mKeyError\u001b[0m \u001b[1;32mas\u001b[0m \u001b[0me\u001b[0m\u001b[1;33m:\u001b[0m\u001b[1;33m\u001b[0m\u001b[1;33m\u001b[0m\u001b[0m\n",
      "\u001b[1;31mKeyError\u001b[0m: ((1, 1, 16), '|u1')",
      "\nThe above exception was the direct cause of the following exception:\n",
      "\u001b[1;31mTypeError\u001b[0m                                 Traceback (most recent call last)",
      "\u001b[1;32m~\\AppData\\Local\\Temp\\ipykernel_17072\\2969861863.py\u001b[0m in \u001b[0;36m<module>\u001b[1;34m\u001b[0m\n\u001b[0;32m     11\u001b[0m \u001b[1;33m\u001b[0m\u001b[0m\n\u001b[0;32m     12\u001b[0m \u001b[1;31m# Créez une image à partir du tableau NumPy\u001b[0m\u001b[1;33m\u001b[0m\u001b[1;33m\u001b[0m\u001b[0m\n\u001b[1;32m---> 13\u001b[1;33m \u001b[0mImage\u001b[0m\u001b[1;33m.\u001b[0m\u001b[0mfromarray\u001b[0m\u001b[1;33m(\u001b[0m\u001b[0mnp\u001b[0m\u001b[1;33m.\u001b[0m\u001b[0muint8\u001b[0m\u001b[1;33m(\u001b[0m\u001b[0mImage_vis_conv2\u001b[0m\u001b[1;33m)\u001b[0m\u001b[1;33m)\u001b[0m\u001b[1;33m\u001b[0m\u001b[1;33m\u001b[0m\u001b[0m\n\u001b[0m\u001b[0;32m     14\u001b[0m \u001b[1;33m\u001b[0m\u001b[0m\n\u001b[0;32m     15\u001b[0m \u001b[1;33m\u001b[0m\u001b[0m\n",
      "\u001b[1;32mc:\\Users\\Utilisateur\\anaconda3\\lib\\site-packages\\PIL\\Image.py\u001b[0m in \u001b[0;36mfromarray\u001b[1;34m(obj, mode)\u001b[0m\n\u001b[0;32m   2953\u001b[0m             \u001b[0mmode\u001b[0m\u001b[1;33m,\u001b[0m \u001b[0mrawmode\u001b[0m \u001b[1;33m=\u001b[0m \u001b[0m_fromarray_typemap\u001b[0m\u001b[1;33m[\u001b[0m\u001b[0mtypekey\u001b[0m\u001b[1;33m]\u001b[0m\u001b[1;33m\u001b[0m\u001b[1;33m\u001b[0m\u001b[0m\n\u001b[0;32m   2954\u001b[0m         \u001b[1;32mexcept\u001b[0m \u001b[0mKeyError\u001b[0m \u001b[1;32mas\u001b[0m \u001b[0me\u001b[0m\u001b[1;33m:\u001b[0m\u001b[1;33m\u001b[0m\u001b[1;33m\u001b[0m\u001b[0m\n\u001b[1;32m-> 2955\u001b[1;33m             \u001b[1;32mraise\u001b[0m \u001b[0mTypeError\u001b[0m\u001b[1;33m(\u001b[0m\u001b[1;34m\"Cannot handle this data type: %s, %s\"\u001b[0m \u001b[1;33m%\u001b[0m \u001b[0mtypekey\u001b[0m\u001b[1;33m)\u001b[0m \u001b[1;32mfrom\u001b[0m \u001b[0me\u001b[0m\u001b[1;33m\u001b[0m\u001b[1;33m\u001b[0m\u001b[0m\n\u001b[0m\u001b[0;32m   2956\u001b[0m     \u001b[1;32melse\u001b[0m\u001b[1;33m:\u001b[0m\u001b[1;33m\u001b[0m\u001b[1;33m\u001b[0m\u001b[0m\n\u001b[0;32m   2957\u001b[0m         \u001b[0mrawmode\u001b[0m \u001b[1;33m=\u001b[0m \u001b[0mmode\u001b[0m\u001b[1;33m\u001b[0m\u001b[1;33m\u001b[0m\u001b[0m\n",
      "\u001b[1;31mTypeError\u001b[0m: Cannot handle this data type: (1, 1, 16), |u1"
     ]
    }
   ],
   "source": [
    "\n",
    "\n",
    "Image_vis_conv1=classifier_cifar.conv_layer1(Image_vis)\n",
    "Image_vis_conv2=classifier_cifar.conv_layer2(Image_vis_conv1)\n",
    "\n",
    "Image_vis_conv1=Image_vis_conv1.cpu().detach().numpy()\n",
    "Image_vis_conv2=Image_vis_conv2.cpu().detach().numpy()\n",
    "Image_vis_conv1=np.transpose(Image_vis_conv1,(0,2,3,1))\n",
    "Image_vis_conv2=np.transpose(Image_vis_conv2,(0,2,3,1))\n",
    "\n",
    "Image_vis_conv1=Image_vis_conv1.squeeze(0)\n",
    "Image_vis_conv2=Image_vis_conv2.squeeze(0)\n",
    "\n",
    "# Créez une image à partir du tableau NumPy\n",
    "Image.fromarray(np.uint8(np.concatenate(Image_vis_conv2)))\n",
    "\n",
    "\n",
    "\n"
   ]
  },
  {
   "cell_type": "code",
   "execution_count": 161,
   "metadata": {},
   "outputs": [],
   "source": [
    "lr=0.00001\n",
    "b1=0.5\n",
    "b2=0.999\n",
    "optimizer=optim.Adam(classifier_cifar.parameters(),lr=lr,betas=(b1,b2))\n",
    "loss_C=nn.CrossEntropyLoss()\n",
    "\n",
    "indice=np.arange(50000)\n",
    "\n"
   ]
  },
  {
   "cell_type": "code",
   "execution_count": 162,
   "metadata": {},
   "outputs": [],
   "source": [
    "from tqdm import tqdm\n",
    "\n",
    "def train(n_epochs):\n",
    "    for epoch in tqdm(range(n_epochs)):\n",
    "        print('Epoch {}'.format(epoch))\n",
    "        shuffled_indices=np.random.permutation(indice)\n",
    "        x_train_shuffled=x_train[shuffled_indices,:,:,:]\n",
    "        y_train_shuffled=y_train[shuffled_indices]\n",
    "        for i in range(int(len(x_train)/batch_size)):\n",
    "            imgs= x_train_shuffled[i*batch_size:(i+1)*batch_size,:,:,:]\n",
    "            \n",
    "        \n",
    "            labels = y_train_shuffled[i*batch_size:(i+1)*batch_size]\n",
    "            optimizer.zero_grad()\n",
    "\n",
    "            output = classifier_cifar(imgs)\n",
    "\n",
    "            loss = loss_C(output, labels.unsqueeze(1).long() )\n",
    "\n",
    "            loss.backward()\n",
    "            optimizer.step()\n"
   ]
  },
  {
   "cell_type": "code",
   "execution_count": 217,
   "metadata": {},
   "outputs": [
    {
     "name": "stderr",
     "output_type": "stream",
     "text": [
      "  0%|          | 0/5 [00:00<?, ?it/s]"
     ]
    },
    {
     "name": "stdout",
     "output_type": "stream",
     "text": [
      "Epoch 0\n"
     ]
    },
    {
     "name": "stderr",
     "output_type": "stream",
     "text": [
      " 20%|██        | 1/5 [00:03<00:13,  3.36s/it]"
     ]
    },
    {
     "name": "stdout",
     "output_type": "stream",
     "text": [
      "Epoch 1\n"
     ]
    },
    {
     "name": "stderr",
     "output_type": "stream",
     "text": [
      " 40%|████      | 2/5 [00:06<00:09,  3.31s/it]"
     ]
    },
    {
     "name": "stdout",
     "output_type": "stream",
     "text": [
      "Epoch 2\n"
     ]
    },
    {
     "name": "stderr",
     "output_type": "stream",
     "text": [
      " 60%|██████    | 3/5 [00:09<00:06,  3.29s/it]"
     ]
    },
    {
     "name": "stdout",
     "output_type": "stream",
     "text": [
      "Epoch 3\n"
     ]
    },
    {
     "name": "stderr",
     "output_type": "stream",
     "text": [
      " 80%|████████  | 4/5 [00:13<00:03,  3.28s/it]"
     ]
    },
    {
     "name": "stdout",
     "output_type": "stream",
     "text": [
      "Epoch 4\n"
     ]
    },
    {
     "name": "stderr",
     "output_type": "stream",
     "text": [
      "100%|██████████| 5/5 [00:16<00:00,  3.28s/it]\n"
     ]
    }
   ],
   "source": [
    "train(5)"
   ]
  },
  {
   "cell_type": "code",
   "execution_count": 27,
   "metadata": {},
   "outputs": [
    {
     "data": {
      "text/plain": [
       "tensor([[[3]],\n",
       "\n",
       "        [[9]],\n",
       "\n",
       "        [[8]],\n",
       "\n",
       "        ...,\n",
       "\n",
       "        [[3]],\n",
       "\n",
       "        [[5]],\n",
       "\n",
       "        [[7]]], device='cuda:0')"
      ]
     },
     "execution_count": 27,
     "metadata": {},
     "output_type": "execute_result"
    }
   ],
   "source": [
    "torch.argmax(classifier_cifar(x_test),dim=1)\n"
   ]
  },
  {
   "cell_type": "code",
   "execution_count": 219,
   "metadata": {},
   "outputs": [
    {
     "name": "stdout",
     "output_type": "stream",
     "text": [
      "C'est une Grenouille!\n"
     ]
    },
    {
     "data": {
      "image/png": "[encoded data removed]",
      "text/plain": [
       "<PIL.Image.Image image mode=RGB size=32x32>"
      ]
     },
     "execution_count": 219,
     "metadata": {},
     "output_type": "execute_result"
    }
   ],
   "source": [
    "K=random.randint(0,10000)\n",
    "Class_out(K)\n",
    "Image.fromarray(np.uint8(x_test_vis[K]))\n",
    "#Image:"
   ]
  },
  {
   "cell_type": "code",
   "execution_count": 220,
   "metadata": {},
   "outputs": [
    {
     "data": {
      "image/png": "[encoded data removed]",
      "text/plain": [
       "<PIL.Image.Image image mode=RGB size=30x30>"
      ]
     },
     "execution_count": 220,
     "metadata": {},
     "output_type": "execute_result"
    }
   ],
   "source": [
    "\n",
    "Image_vis=x_test[K,:,:,:].unsqueeze(0)\n",
    "Image_vis_conv1=classifier_cifar.conv_layer1(Image_vis)\n",
    "Image_vis_conv2=classifier_cifar.conv_layer2(Image_vis_conv1)\n",
    "\n",
    "Image_vis_conv1=Image_vis_conv1.cpu().detach().numpy()\n",
    "Image_vis_conv2=Image_vis_conv2.cpu().detach().numpy()\n",
    "\n",
    "Image_vis_conv1=np.transpose(Image_vis_conv1,(0,2,3,1))\n",
    "Image_vis_conv2=np.transpose(Image_vis_conv2,(0,2,3,1))\n",
    "\n",
    "Image_vis_conv1=Image_vis_conv1.squeeze(0)\n",
    "Image_vis_conv2=Image_vis_conv2.squeeze(0)\n",
    "\n",
    "# Créez une image à partir du tableau NumPy\n",
    "\n",
    "\n",
    "\n",
    "\n",
    "Image.fromarray(np.uint8(Image_vis_conv1))"
   ]
  },
  {
   "cell_type": "code",
   "execution_count": 221,
   "metadata": {},
   "outputs": [
    {
     "data": {
      "image/png": "[encoded data removed]",
      "text/plain": [
       "<PIL.Image.Image image mode=L size=16x625>"
      ]
     },
     "execution_count": 221,
     "metadata": {},
     "output_type": "execute_result"
    }
   ],
   "source": [
    "Image.fromarray(np.uint8(np.concatenate(Image_vis_conv2)))"
   ]
  },
  {
   "cell_type": "code",
   "execution_count": 223,
   "metadata": {},
   "outputs": [
    {
     "name": "stdout",
     "output_type": "stream",
     "text": [
      "Précision moyenne= 59.3 %\n"
     ]
    }
   ],
   "source": [
    "\n",
    "accuracy=(torch.sum(torch.argmax(classifier_cifar(x_test),dim=1).squeeze(1)==y_test))*100/10000\n",
    "print('Précision moyenne=', np.array((accuracy.float().cpu())),\"%\")\n"
   ]
  },
  {
   "cell_type": "code",
   "execution_count": null,
   "metadata": {},
   "outputs": [],
   "source": []
  }
 ],
 "metadata": {
  "kernelspec": {
   "display_name": "base",
   "language": "python",
   "name": "python3"
  },
  "language_info": {
   "codemirror_mode": {
    "name": "ipython",
    "version": 3
   },
   "file_extension": ".py",
   "mimetype": "text/x-python",
   "name": "python",
   "nbconvert_exporter": "python",
   "pygments_lexer": "ipython3",
   "version": "3.9.13"
  },
  "orig_nbformat": 4
 },
 "nbformat": 4,
 "nbformat_minor": 2
}
